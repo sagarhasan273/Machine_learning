{
  "nbformat": 4,
  "nbformat_minor": 0,
  "metadata": {
    "colab": {
      "provenance": [],
      "collapsed_sections": []
    },
    "kernelspec": {
      "name": "python3",
      "display_name": "Python 3"
    },
    "language_info": {
      "name": "python"
    }
  },
  "cells": [
    {
      "cell_type": "code",
      "execution_count": 13,
      "metadata": {
        "colab": {
          "base_uri": "https://localhost:8080/"
        },
        "id": "vs7ZKi5tA5GU",
        "outputId": "a27bbcdb-a0b0-4bed-9ab6-fc744de306b0"
      },
      "outputs": [
        {
          "output_type": "stream",
          "name": "stdout",
          "text": [
            "\r0% [Working]\r            \rHit:1 https://cloud.r-project.org/bin/linux/ubuntu bionic-cran40/ InRelease\n",
            "\r0% [Connecting to archive.ubuntu.com] [Waiting for headers] [Connected to devel\r                                                                               \rHit:2 http://security.ubuntu.com/ubuntu bionic-security InRelease\n",
            "\r0% [Connecting to archive.ubuntu.com] [Connected to developer.download.nvidia.c\r0% [1 InRelease gpgv 3,626 B] [Connecting to archive.ubuntu.com] [Connected to \r0% [Connecting to archive.ubuntu.com (185.125.190.39)] [Waiting for headers] [W\r0% [2 InRelease gpgv 88.7 kB] [Connecting to archive.ubuntu.com (185.125.190.39\r                                                                               \rHit:3 http://ppa.launchpad.net/c2d4u.team/c2d4u4.0+/ubuntu bionic InRelease\n",
            "\r                                                                               \r0% [2 InRelease gpgv 88.7 kB] [Waiting for headers] [Waiting for headers]\r                                                                         \rIgn:4 https://developer.download.nvidia.com/compute/machine-learning/repos/ubuntu1804/x86_64  InRelease\n",
            "Hit:5 https://developer.download.nvidia.com/compute/cuda/repos/ubuntu1804/x86_64  InRelease\n",
            "Hit:6 https://developer.download.nvidia.com/compute/machine-learning/repos/ubuntu1804/x86_64  Release\n",
            "Hit:7 http://archive.ubuntu.com/ubuntu bionic InRelease\n",
            "Hit:8 http://archive.ubuntu.com/ubuntu bionic-updates InRelease\n",
            "Hit:9 http://ppa.launchpad.net/cran/libgit2/ubuntu bionic InRelease\n",
            "Hit:10 http://archive.ubuntu.com/ubuntu bionic-backports InRelease\n",
            "Hit:11 http://ppa.launchpad.net/deadsnakes/ppa/ubuntu bionic InRelease\n",
            "Hit:13 http://ppa.launchpad.net/graphics-drivers/ppa/ubuntu bionic InRelease\n",
            "Reading package lists... Done\n"
          ]
        }
      ],
      "source": [
        "!apt-get update"
      ]
    },
    {
      "cell_type": "code",
      "source": [
        "!apt-get install openjdk-8-jdk-headless -qq > /dev/nul"
      ],
      "metadata": {
        "id": "1chMsAzPsaYS"
      },
      "execution_count": 14,
      "outputs": []
    },
    {
      "cell_type": "code",
      "source": [
        "!wget -q http://archive.apache.org/dist/spark/spark-3.1.1/spark-3.1.1-bin-hadoop3.2.tgz"
      ],
      "metadata": {
        "id": "iBfzzYoPsroH"
      },
      "execution_count": 15,
      "outputs": []
    },
    {
      "cell_type": "code",
      "source": [
        "!ls"
      ],
      "metadata": {
        "colab": {
          "base_uri": "https://localhost:8080/"
        },
        "id": "FJavccVBs0rY",
        "outputId": "ccaebff6-83ff-4d6c-ccd3-e75e1d590c14"
      },
      "execution_count": 16,
      "outputs": [
        {
          "output_type": "stream",
          "name": "stdout",
          "text": [
            "sample_data\t\t   spark-3.1.1-bin-hadoop3.2.tgz\n",
            "spark-3.1.1-bin-hadoop3.2  spark-3.1.1-bin-hadoop3.2.tgz.1\n"
          ]
        }
      ]
    },
    {
      "cell_type": "code",
      "source": [
        "!tar xf spark-3.1.1-bin-hadoop3.2.tgz"
      ],
      "metadata": {
        "id": "-2d6Pq41s598"
      },
      "execution_count": 17,
      "outputs": []
    },
    {
      "cell_type": "code",
      "source": [
        "!pip install -q findspark"
      ],
      "metadata": {
        "id": "wijMAc66s-A7"
      },
      "execution_count": 18,
      "outputs": []
    },
    {
      "cell_type": "code",
      "source": [
        "import os\n",
        "os.environ[\"JAVA_HOME\"]= \"/usr/lib/jvm/java-8-openjdk-amd64\"\n",
        "os.environ[\"SPARK_HOME\"] = \"/content/spark-3.1.1-bin-hadoop3.2\""
      ],
      "metadata": {
        "id": "bcMM0TkxtCIq"
      },
      "execution_count": 23,
      "outputs": []
    },
    {
      "cell_type": "code",
      "source": [
        "!pwd"
      ],
      "metadata": {
        "colab": {
          "base_uri": "https://localhost:8080/"
        },
        "id": "_QDH2j_vtX0A",
        "outputId": "4a168e72-42c2-4557-82ec-8ac31bf83c43"
      },
      "execution_count": 20,
      "outputs": [
        {
          "output_type": "stream",
          "name": "stdout",
          "text": [
            "/content\n"
          ]
        }
      ]
    },
    {
      "cell_type": "code",
      "source": [
        "import findspark\n",
        "findspark.init()\n",
        "from pyspark.sql import SparkSession\n",
        "spark = SparkSession.builder.master(\"local\").appName(\"Lab2\").getOrCreate()\n",
        "spark"
      ],
      "metadata": {
        "colab": {
          "base_uri": "https://localhost:8080/",
          "height": 219
        },
        "id": "UoPGPWGPtd7C",
        "outputId": "b83fe929-a65b-4f3c-f271-5d8b0322b7aa"
      },
      "execution_count": 25,
      "outputs": [
        {
          "output_type": "execute_result",
          "data": {
            "text/plain": [
              "<pyspark.sql.session.SparkSession at 0x7f253060d510>"
            ],
            "text/html": [
              "\n",
              "            <div>\n",
              "                <p><b>SparkSession - in-memory</b></p>\n",
              "                \n",
              "        <div>\n",
              "            <p><b>SparkContext</b></p>\n",
              "\n",
              "            <p><a href=\"http://e0fec8a75ba9:4040\">Spark UI</a></p>\n",
              "\n",
              "            <dl>\n",
              "              <dt>Version</dt>\n",
              "                <dd><code>v3.1.1</code></dd>\n",
              "              <dt>Master</dt>\n",
              "                <dd><code>local</code></dd>\n",
              "              <dt>AppName</dt>\n",
              "                <dd><code>Lab1</code></dd>\n",
              "            </dl>\n",
              "        </div>\n",
              "        \n",
              "            </div>\n",
              "        "
            ]
          },
          "metadata": {},
          "execution_count": 25
        }
      ]
    },
    {
      "cell_type": "code",
      "source": [
        "ls"
      ],
      "metadata": {
        "colab": {
          "base_uri": "https://localhost:8080/"
        },
        "id": "Fp1rfVd6uuMD",
        "outputId": "0e27ab5b-a46e-4592-92d0-9161d5ac6772"
      },
      "execution_count": 28,
      "outputs": [
        {
          "output_type": "stream",
          "name": "stdout",
          "text": [
            "AirPollution.csv            spark-3.1.1-bin-hadoop3.2.tgz\n",
            "\u001b[0m\u001b[01;34msample_data\u001b[0m/                spark-3.1.1-bin-hadoop3.2.tgz.1\n",
            "\u001b[01;34mspark-3.1.1-bin-hadoop3.2\u001b[0m/\n"
          ]
        }
      ]
    },
    {
      "cell_type": "code",
      "source": [
        "df = spark.read.csv(\"AirPollution.csv\", sep=\",\", header=True)"
      ],
      "metadata": {
        "id": "CHNvT6yxvG6q"
      },
      "execution_count": 30,
      "outputs": []
    },
    {
      "cell_type": "code",
      "source": [
        "df.show(5, truncate = False)"
      ],
      "metadata": {
        "colab": {
          "base_uri": "https://localhost:8080/"
        },
        "id": "5QVn1hRavYdZ",
        "outputId": "5cedbc75-35c7-4eeb-8076-33d862a696be"
      },
      "execution_count": 31,
      "outputs": [
        {
          "output_type": "stream",
          "name": "stdout",
          "text": [
            "+---+----+-----+---+----+-----+----+----+----+----+-----+---+---+\n",
            "|No |year|month|day|hour|pm2.5|DEWP|TEMP|PRES|cbwd|Iws  |Is |Ir |\n",
            "+---+----+-----+---+----+-----+----+----+----+----+-----+---+---+\n",
            "|1  |2010|1    |1  |0   |NA   |-21 |-11 |1021|NW  |1.79 |0  |0  |\n",
            "|2  |2010|1    |1  |1   |NA   |-21 |-12 |1020|NW  |4.92 |0  |0  |\n",
            "|3  |2010|1    |1  |2   |NA   |-21 |-11 |1019|NW  |6.71 |0  |0  |\n",
            "|4  |2010|1    |1  |3   |NA   |-21 |-14 |1019|NW  |9.84 |0  |0  |\n",
            "|5  |2010|1    |1  |4   |NA   |-20 |-12 |1018|NW  |12.97|0  |0  |\n",
            "+---+----+-----+---+----+-----+----+----+----+----+-----+---+---+\n",
            "only showing top 5 rows\n",
            "\n"
          ]
        }
      ]
    },
    {
      "cell_type": "code",
      "source": [
        "df.columns"
      ],
      "metadata": {
        "colab": {
          "base_uri": "https://localhost:8080/"
        },
        "id": "s3H0Rj7zvdV9",
        "outputId": "c98a286a-e03b-4803-c344-fbddf045dc6f"
      },
      "execution_count": 32,
      "outputs": [
        {
          "output_type": "execute_result",
          "data": {
            "text/plain": [
              "['No',\n",
              " 'year',\n",
              " 'month',\n",
              " 'day',\n",
              " 'hour',\n",
              " 'pm2.5',\n",
              " 'DEWP',\n",
              " 'TEMP',\n",
              " 'PRES',\n",
              " 'cbwd',\n",
              " 'Iws',\n",
              " 'Is',\n",
              " 'Ir']"
            ]
          },
          "metadata": {},
          "execution_count": 32
        }
      ]
    },
    {
      "cell_type": "code",
      "source": [
        "df.dtypes"
      ],
      "metadata": {
        "colab": {
          "base_uri": "https://localhost:8080/"
        },
        "id": "WQfGwu5QvhJ-",
        "outputId": "b2e94d88-7bd6-4d3c-ac8c-64dc4295d285"
      },
      "execution_count": 33,
      "outputs": [
        {
          "output_type": "execute_result",
          "data": {
            "text/plain": [
              "[('No', 'string'),\n",
              " ('year', 'string'),\n",
              " ('month', 'string'),\n",
              " ('day', 'string'),\n",
              " ('hour', 'string'),\n",
              " ('pm2.5', 'string'),\n",
              " ('DEWP', 'string'),\n",
              " ('TEMP', 'string'),\n",
              " ('PRES', 'string'),\n",
              " ('cbwd', 'string'),\n",
              " ('Iws', 'string'),\n",
              " ('Is', 'string'),\n",
              " ('Ir', 'string')]"
            ]
          },
          "metadata": {},
          "execution_count": 33
        }
      ]
    },
    {
      "cell_type": "code",
      "source": [
        "from traitlets.traitlets import TraitError\n",
        "df = spark.read.csv(\"AirPollution.csv\", sep=\",\",  header=True, inferSchema=True)"
      ],
      "metadata": {
        "id": "zMJVejXivmRS"
      },
      "execution_count": 35,
      "outputs": []
    },
    {
      "cell_type": "code",
      "source": [
        "df.dtypes"
      ],
      "metadata": {
        "colab": {
          "base_uri": "https://localhost:8080/"
        },
        "id": "2sh0mVKQvx5Y",
        "outputId": "f40643a2-9ae0-4531-fb0d-217591d6da5d"
      },
      "execution_count": 36,
      "outputs": [
        {
          "output_type": "execute_result",
          "data": {
            "text/plain": [
              "[('No', 'int'),\n",
              " ('year', 'int'),\n",
              " ('month', 'int'),\n",
              " ('day', 'int'),\n",
              " ('hour', 'int'),\n",
              " ('pm2.5', 'string'),\n",
              " ('DEWP', 'int'),\n",
              " ('TEMP', 'double'),\n",
              " ('PRES', 'double'),\n",
              " ('cbwd', 'string'),\n",
              " ('Iws', 'double'),\n",
              " ('Is', 'int'),\n",
              " ('Ir', 'int')]"
            ]
          },
          "metadata": {},
          "execution_count": 36
        }
      ]
    },
    {
      "cell_type": "code",
      "source": [
        "df.printSchema()"
      ],
      "metadata": {
        "colab": {
          "base_uri": "https://localhost:8080/"
        },
        "id": "_9hDEB3Wv5f2",
        "outputId": "6fd32fcd-a30b-47d2-ea2c-869b22561067"
      },
      "execution_count": 37,
      "outputs": [
        {
          "output_type": "stream",
          "name": "stdout",
          "text": [
            "root\n",
            " |-- No: integer (nullable = true)\n",
            " |-- year: integer (nullable = true)\n",
            " |-- month: integer (nullable = true)\n",
            " |-- day: integer (nullable = true)\n",
            " |-- hour: integer (nullable = true)\n",
            " |-- pm2.5: string (nullable = true)\n",
            " |-- DEWP: integer (nullable = true)\n",
            " |-- TEMP: double (nullable = true)\n",
            " |-- PRES: double (nullable = true)\n",
            " |-- cbwd: string (nullable = true)\n",
            " |-- Iws: double (nullable = true)\n",
            " |-- Is: integer (nullable = true)\n",
            " |-- Ir: integer (nullable = true)\n",
            "\n"
          ]
        }
      ]
    },
    {
      "cell_type": "code",
      "source": [
        "from pyspark.sql.types import *\n",
        "\n",
        "lables = [\n",
        "    ('No', IntegerType()),\n",
        "    ('year', IntegerType()),\n",
        "    ('month', IntegerType()),\n",
        "    ('day', IntegerType()),\n",
        "    ('hour', IntegerType()),\n",
        "    ('pm2.5', StringType()),\n",
        "    ('DEWP', IntegerType()),\n",
        "    ('TEMP', DoubleType()),\n",
        "    ('PRES', DoubleType()),\n",
        "    ('cbwd', StringType()),\n",
        "    ('Iws', DoubleType()),\n",
        "    ('Is', IntegerType()),\n",
        "    ('Ir', IntegerType())\n",
        "]"
      ],
      "metadata": {
        "id": "oKfcYvAtv64K"
      },
      "execution_count": 42,
      "outputs": []
    },
    {
      "cell_type": "code",
      "source": [
        "schema = StructType([StructField(x[0], x[1]) for x in lables])\n",
        "schema"
      ],
      "metadata": {
        "colab": {
          "base_uri": "https://localhost:8080/"
        },
        "id": "AjwvXw3wxWMH",
        "outputId": "64e17922-3dd0-4271-bd53-4f2fe14c92bf"
      },
      "execution_count": 43,
      "outputs": [
        {
          "output_type": "execute_result",
          "data": {
            "text/plain": [
              "StructType(List(StructField(No,IntegerType,true),StructField(year,IntegerType,true),StructField(month,IntegerType,true),StructField(day,IntegerType,true),StructField(hour,IntegerType,true),StructField(pm2.5,StringType,true),StructField(DEWP,IntegerType,true),StructField(TEMP,DoubleType,true),StructField(PRES,DoubleType,true),StructField(cbwd,StringType,true),StructField(Iws,DoubleType,true),StructField(Is,IntegerType,true),StructField(Ir,IntegerType,true)))"
            ]
          },
          "metadata": {},
          "execution_count": 43
        }
      ]
    },
    {
      "cell_type": "code",
      "source": [
        "df = spark.read.csv('AirPollution.csv', header=True, sep=\",\", schema = schema, inferSchema = True)\n",
        "df.show(5)\n"
      ],
      "metadata": {
        "colab": {
          "base_uri": "https://localhost:8080/"
        },
        "id": "Z4V8Mdu2xbCs",
        "outputId": "a7f9370f-c881-45cd-8923-c6f106727831"
      },
      "execution_count": 45,
      "outputs": [
        {
          "output_type": "stream",
          "name": "stdout",
          "text": [
            "+---+----+-----+---+----+-----+----+-----+------+----+-----+---+---+\n",
            "| No|year|month|day|hour|pm2.5|DEWP| TEMP|  PRES|cbwd|  Iws| Is| Ir|\n",
            "+---+----+-----+---+----+-----+----+-----+------+----+-----+---+---+\n",
            "|  1|2010|    1|  1|   0|   NA| -21|-11.0|1021.0|  NW| 1.79|  0|  0|\n",
            "|  2|2010|    1|  1|   1|   NA| -21|-12.0|1020.0|  NW| 4.92|  0|  0|\n",
            "|  3|2010|    1|  1|   2|   NA| -21|-11.0|1019.0|  NW| 6.71|  0|  0|\n",
            "|  4|2010|    1|  1|   3|   NA| -21|-14.0|1019.0|  NW| 9.84|  0|  0|\n",
            "|  5|2010|    1|  1|   4|   NA| -20|-12.0|1018.0|  NW|12.97|  0|  0|\n",
            "+---+----+-----+---+----+-----+----+-----+------+----+-----+---+---+\n",
            "only showing top 5 rows\n",
            "\n"
          ]
        }
      ]
    },
    {
      "cell_type": "code",
      "source": [
        "df.select(df['year']).show(truncate=False)"
      ],
      "metadata": {
        "colab": {
          "base_uri": "https://localhost:8080/"
        },
        "id": "hg47o8BXyFcc",
        "outputId": "5eee4939-b4d1-443d-829e-296c9b7ac9ee"
      },
      "execution_count": 47,
      "outputs": [
        {
          "output_type": "stream",
          "name": "stdout",
          "text": [
            "+----+\n",
            "|year|\n",
            "+----+\n",
            "|2010|\n",
            "|2010|\n",
            "|2010|\n",
            "|2010|\n",
            "|2010|\n",
            "|2010|\n",
            "|2010|\n",
            "|2010|\n",
            "|2010|\n",
            "|2010|\n",
            "|2010|\n",
            "|2010|\n",
            "|2010|\n",
            "|2010|\n",
            "|2010|\n",
            "|2010|\n",
            "|2010|\n",
            "|2010|\n",
            "|2010|\n",
            "|2010|\n",
            "+----+\n",
            "only showing top 20 rows\n",
            "\n"
          ]
        }
      ]
    },
    {
      "cell_type": "code",
      "source": [
        "df.select(df.year, df.month, df.day, df.hour).show(truncate=False)"
      ],
      "metadata": {
        "colab": {
          "base_uri": "https://localhost:8080/"
        },
        "id": "wBruFsbUyYRW",
        "outputId": "713c4b41-bb06-4901-fd0c-1c2e639ba0c0"
      },
      "execution_count": 49,
      "outputs": [
        {
          "output_type": "stream",
          "name": "stdout",
          "text": [
            "+----+-----+---+----+\n",
            "|year|month|day|hour|\n",
            "+----+-----+---+----+\n",
            "|2010|1    |1  |0   |\n",
            "|2010|1    |1  |1   |\n",
            "|2010|1    |1  |2   |\n",
            "|2010|1    |1  |3   |\n",
            "|2010|1    |1  |4   |\n",
            "|2010|1    |1  |5   |\n",
            "|2010|1    |1  |6   |\n",
            "|2010|1    |1  |7   |\n",
            "|2010|1    |1  |8   |\n",
            "|2010|1    |1  |9   |\n",
            "|2010|1    |1  |10  |\n",
            "|2010|1    |1  |11  |\n",
            "|2010|1    |1  |12  |\n",
            "|2010|1    |1  |13  |\n",
            "|2010|1    |1  |14  |\n",
            "|2010|1    |1  |15  |\n",
            "|2010|1    |1  |16  |\n",
            "|2010|1    |1  |17  |\n",
            "|2010|1    |1  |18  |\n",
            "|2010|1    |1  |19  |\n",
            "+----+-----+---+----+\n",
            "only showing top 20 rows\n",
            "\n"
          ]
        }
      ]
    },
    {
      "cell_type": "code",
      "source": [
        "from pyspark.sql.functions import col\n",
        "df.select(col('TEMP')).show(truncate=False)"
      ],
      "metadata": {
        "colab": {
          "base_uri": "https://localhost:8080/"
        },
        "id": "3XLRnvA_ytgS",
        "outputId": "f1ee8dcc-4c78-4f28-aeca-752fc2aa49eb"
      },
      "execution_count": 51,
      "outputs": [
        {
          "output_type": "stream",
          "name": "stdout",
          "text": [
            "+-----+\n",
            "|TEMP |\n",
            "+-----+\n",
            "|-11.0|\n",
            "|-12.0|\n",
            "|-11.0|\n",
            "|-14.0|\n",
            "|-12.0|\n",
            "|-10.0|\n",
            "|-9.0 |\n",
            "|-9.0 |\n",
            "|-9.0 |\n",
            "|-8.0 |\n",
            "|-7.0 |\n",
            "|-5.0 |\n",
            "|-5.0 |\n",
            "|-3.0 |\n",
            "|-2.0 |\n",
            "|-1.0 |\n",
            "|-2.0 |\n",
            "|-3.0 |\n",
            "|-5.0 |\n",
            "|-4.0 |\n",
            "+-----+\n",
            "only showing top 20 rows\n",
            "\n"
          ]
        }
      ]
    },
    {
      "cell_type": "code",
      "source": [
        "from pyspark.sql.functions import lit,concat\n",
        "df=df.withColumn('new_column',lit(\"New\")).withColumn('second_new_column',concat(col('year'), lit(' '), col('month')))\n",
        "df.show()"
      ],
      "metadata": {
        "colab": {
          "base_uri": "https://localhost:8080/"
        },
        "id": "oS0Qr3uoy4_c",
        "outputId": "56fccc33-8bbd-4664-9a11-646f180a34f5"
      },
      "execution_count": 52,
      "outputs": [
        {
          "output_type": "stream",
          "name": "stdout",
          "text": [
            "+---+----+-----+---+----+-----+----+-----+------+----+-----+---+---+----------+-----------------+\n",
            "| No|year|month|day|hour|pm2.5|DEWP| TEMP|  PRES|cbwd|  Iws| Is| Ir|new_column|second_new_column|\n",
            "+---+----+-----+---+----+-----+----+-----+------+----+-----+---+---+----------+-----------------+\n",
            "|  1|2010|    1|  1|   0|   NA| -21|-11.0|1021.0|  NW| 1.79|  0|  0|       New|           2010 1|\n",
            "|  2|2010|    1|  1|   1|   NA| -21|-12.0|1020.0|  NW| 4.92|  0|  0|       New|           2010 1|\n",
            "|  3|2010|    1|  1|   2|   NA| -21|-11.0|1019.0|  NW| 6.71|  0|  0|       New|           2010 1|\n",
            "|  4|2010|    1|  1|   3|   NA| -21|-14.0|1019.0|  NW| 9.84|  0|  0|       New|           2010 1|\n",
            "|  5|2010|    1|  1|   4|   NA| -20|-12.0|1018.0|  NW|12.97|  0|  0|       New|           2010 1|\n",
            "|  6|2010|    1|  1|   5|   NA| -19|-10.0|1017.0|  NW| 16.1|  0|  0|       New|           2010 1|\n",
            "|  7|2010|    1|  1|   6|   NA| -19| -9.0|1017.0|  NW|19.23|  0|  0|       New|           2010 1|\n",
            "|  8|2010|    1|  1|   7|   NA| -19| -9.0|1017.0|  NW|21.02|  0|  0|       New|           2010 1|\n",
            "|  9|2010|    1|  1|   8|   NA| -19| -9.0|1017.0|  NW|24.15|  0|  0|       New|           2010 1|\n",
            "| 10|2010|    1|  1|   9|   NA| -20| -8.0|1017.0|  NW|27.28|  0|  0|       New|           2010 1|\n",
            "| 11|2010|    1|  1|  10|   NA| -19| -7.0|1017.0|  NW| 31.3|  0|  0|       New|           2010 1|\n",
            "| 12|2010|    1|  1|  11|   NA| -18| -5.0|1017.0|  NW|34.43|  0|  0|       New|           2010 1|\n",
            "| 13|2010|    1|  1|  12|   NA| -19| -5.0|1015.0|  NW|37.56|  0|  0|       New|           2010 1|\n",
            "| 14|2010|    1|  1|  13|   NA| -18| -3.0|1015.0|  NW|40.69|  0|  0|       New|           2010 1|\n",
            "| 15|2010|    1|  1|  14|   NA| -18| -2.0|1014.0|  NW|43.82|  0|  0|       New|           2010 1|\n",
            "| 16|2010|    1|  1|  15|   NA| -18| -1.0|1014.0|  cv| 0.89|  0|  0|       New|           2010 1|\n",
            "| 17|2010|    1|  1|  16|   NA| -19| -2.0|1015.0|  NW| 1.79|  0|  0|       New|           2010 1|\n",
            "| 18|2010|    1|  1|  17|   NA| -18| -3.0|1015.0|  NW| 2.68|  0|  0|       New|           2010 1|\n",
            "| 19|2010|    1|  1|  18|   NA| -18| -5.0|1016.0|  NE| 1.79|  0|  0|       New|           2010 1|\n",
            "| 20|2010|    1|  1|  19|   NA| -17| -4.0|1017.0|  NW| 1.79|  0|  0|       New|           2010 1|\n",
            "+---+----+-----+---+----+-----+----+-----+------+----+-----+---+---+----------+-----------------+\n",
            "only showing top 20 rows\n",
            "\n"
          ]
        }
      ]
    },
    {
      "cell_type": "code",
      "source": [
        "df=df.withColumnRenamed('second_new_column','demo feature')\n",
        "df.show()"
      ],
      "metadata": {
        "colab": {
          "base_uri": "https://localhost:8080/"
        },
        "id": "RTGf69n7z4BX",
        "outputId": "baa65df9-26d7-415a-a7f8-f59ac0596a62"
      },
      "execution_count": 53,
      "outputs": [
        {
          "output_type": "stream",
          "name": "stdout",
          "text": [
            "+---+----+-----+---+----+-----+----+-----+------+----+-----+---+---+----------+------------+\n",
            "| No|year|month|day|hour|pm2.5|DEWP| TEMP|  PRES|cbwd|  Iws| Is| Ir|new_column|demo feature|\n",
            "+---+----+-----+---+----+-----+----+-----+------+----+-----+---+---+----------+------------+\n",
            "|  1|2010|    1|  1|   0|   NA| -21|-11.0|1021.0|  NW| 1.79|  0|  0|       New|      2010 1|\n",
            "|  2|2010|    1|  1|   1|   NA| -21|-12.0|1020.0|  NW| 4.92|  0|  0|       New|      2010 1|\n",
            "|  3|2010|    1|  1|   2|   NA| -21|-11.0|1019.0|  NW| 6.71|  0|  0|       New|      2010 1|\n",
            "|  4|2010|    1|  1|   3|   NA| -21|-14.0|1019.0|  NW| 9.84|  0|  0|       New|      2010 1|\n",
            "|  5|2010|    1|  1|   4|   NA| -20|-12.0|1018.0|  NW|12.97|  0|  0|       New|      2010 1|\n",
            "|  6|2010|    1|  1|   5|   NA| -19|-10.0|1017.0|  NW| 16.1|  0|  0|       New|      2010 1|\n",
            "|  7|2010|    1|  1|   6|   NA| -19| -9.0|1017.0|  NW|19.23|  0|  0|       New|      2010 1|\n",
            "|  8|2010|    1|  1|   7|   NA| -19| -9.0|1017.0|  NW|21.02|  0|  0|       New|      2010 1|\n",
            "|  9|2010|    1|  1|   8|   NA| -19| -9.0|1017.0|  NW|24.15|  0|  0|       New|      2010 1|\n",
            "| 10|2010|    1|  1|   9|   NA| -20| -8.0|1017.0|  NW|27.28|  0|  0|       New|      2010 1|\n",
            "| 11|2010|    1|  1|  10|   NA| -19| -7.0|1017.0|  NW| 31.3|  0|  0|       New|      2010 1|\n",
            "| 12|2010|    1|  1|  11|   NA| -18| -5.0|1017.0|  NW|34.43|  0|  0|       New|      2010 1|\n",
            "| 13|2010|    1|  1|  12|   NA| -19| -5.0|1015.0|  NW|37.56|  0|  0|       New|      2010 1|\n",
            "| 14|2010|    1|  1|  13|   NA| -18| -3.0|1015.0|  NW|40.69|  0|  0|       New|      2010 1|\n",
            "| 15|2010|    1|  1|  14|   NA| -18| -2.0|1014.0|  NW|43.82|  0|  0|       New|      2010 1|\n",
            "| 16|2010|    1|  1|  15|   NA| -18| -1.0|1014.0|  cv| 0.89|  0|  0|       New|      2010 1|\n",
            "| 17|2010|    1|  1|  16|   NA| -19| -2.0|1015.0|  NW| 1.79|  0|  0|       New|      2010 1|\n",
            "| 18|2010|    1|  1|  17|   NA| -18| -3.0|1015.0|  NW| 2.68|  0|  0|       New|      2010 1|\n",
            "| 19|2010|    1|  1|  18|   NA| -18| -5.0|1016.0|  NE| 1.79|  0|  0|       New|      2010 1|\n",
            "| 20|2010|    1|  1|  19|   NA| -17| -4.0|1017.0|  NW| 1.79|  0|  0|       New|      2010 1|\n",
            "+---+----+-----+---+----+-----+----+-----+------+----+-----+---+---+----------+------------+\n",
            "only showing top 20 rows\n",
            "\n"
          ]
        }
      ]
    },
    {
      "cell_type": "code",
      "source": [
        "df.collect()"
      ],
      "metadata": {
        "colab": {
          "base_uri": "https://localhost:8080/"
        },
        "id": "Eh6hHc8U0FVr",
        "outputId": "31a132cd-f31c-4372-d69c-be9edee4fc8f"
      },
      "execution_count": 54,
      "outputs": [
        {
          "output_type": "execute_result",
          "data": {
            "text/plain": [
              "[Row(No=1, year=2010, month=1, day=1, hour=0, pm2.5='NA', DEWP=-21, TEMP=-11.0, PRES=1021.0, cbwd='NW', Iws=1.79, Is=0, Ir=0, new_column='New', demo feature='2010 1'),\n",
              " Row(No=2, year=2010, month=1, day=1, hour=1, pm2.5='NA', DEWP=-21, TEMP=-12.0, PRES=1020.0, cbwd='NW', Iws=4.92, Is=0, Ir=0, new_column='New', demo feature='2010 1'),\n",
              " Row(No=3, year=2010, month=1, day=1, hour=2, pm2.5='NA', DEWP=-21, TEMP=-11.0, PRES=1019.0, cbwd='NW', Iws=6.71, Is=0, Ir=0, new_column='New', demo feature='2010 1'),\n",
              " Row(No=4, year=2010, month=1, day=1, hour=3, pm2.5='NA', DEWP=-21, TEMP=-14.0, PRES=1019.0, cbwd='NW', Iws=9.84, Is=0, Ir=0, new_column='New', demo feature='2010 1'),\n",
              " Row(No=5, year=2010, month=1, day=1, hour=4, pm2.5='NA', DEWP=-20, TEMP=-12.0, PRES=1018.0, cbwd='NW', Iws=12.97, Is=0, Ir=0, new_column='New', demo feature='2010 1'),\n",
              " Row(No=6, year=2010, month=1, day=1, hour=5, pm2.5='NA', DEWP=-19, TEMP=-10.0, PRES=1017.0, cbwd='NW', Iws=16.1, Is=0, Ir=0, new_column='New', demo feature='2010 1'),\n",
              " Row(No=7, year=2010, month=1, day=1, hour=6, pm2.5='NA', DEWP=-19, TEMP=-9.0, PRES=1017.0, cbwd='NW', Iws=19.23, Is=0, Ir=0, new_column='New', demo feature='2010 1'),\n",
              " Row(No=8, year=2010, month=1, day=1, hour=7, pm2.5='NA', DEWP=-19, TEMP=-9.0, PRES=1017.0, cbwd='NW', Iws=21.02, Is=0, Ir=0, new_column='New', demo feature='2010 1'),\n",
              " Row(No=9, year=2010, month=1, day=1, hour=8, pm2.5='NA', DEWP=-19, TEMP=-9.0, PRES=1017.0, cbwd='NW', Iws=24.15, Is=0, Ir=0, new_column='New', demo feature='2010 1'),\n",
              " Row(No=10, year=2010, month=1, day=1, hour=9, pm2.5='NA', DEWP=-20, TEMP=-8.0, PRES=1017.0, cbwd='NW', Iws=27.28, Is=0, Ir=0, new_column='New', demo feature='2010 1'),\n",
              " Row(No=11, year=2010, month=1, day=1, hour=10, pm2.5='NA', DEWP=-19, TEMP=-7.0, PRES=1017.0, cbwd='NW', Iws=31.3, Is=0, Ir=0, new_column='New', demo feature='2010 1'),\n",
              " Row(No=12, year=2010, month=1, day=1, hour=11, pm2.5='NA', DEWP=-18, TEMP=-5.0, PRES=1017.0, cbwd='NW', Iws=34.43, Is=0, Ir=0, new_column='New', demo feature='2010 1'),\n",
              " Row(No=13, year=2010, month=1, day=1, hour=12, pm2.5='NA', DEWP=-19, TEMP=-5.0, PRES=1015.0, cbwd='NW', Iws=37.56, Is=0, Ir=0, new_column='New', demo feature='2010 1'),\n",
              " Row(No=14, year=2010, month=1, day=1, hour=13, pm2.5='NA', DEWP=-18, TEMP=-3.0, PRES=1015.0, cbwd='NW', Iws=40.69, Is=0, Ir=0, new_column='New', demo feature='2010 1'),\n",
              " Row(No=15, year=2010, month=1, day=1, hour=14, pm2.5='NA', DEWP=-18, TEMP=-2.0, PRES=1014.0, cbwd='NW', Iws=43.82, Is=0, Ir=0, new_column='New', demo feature='2010 1'),\n",
              " Row(No=16, year=2010, month=1, day=1, hour=15, pm2.5='NA', DEWP=-18, TEMP=-1.0, PRES=1014.0, cbwd='cv', Iws=0.89, Is=0, Ir=0, new_column='New', demo feature='2010 1'),\n",
              " Row(No=17, year=2010, month=1, day=1, hour=16, pm2.5='NA', DEWP=-19, TEMP=-2.0, PRES=1015.0, cbwd='NW', Iws=1.79, Is=0, Ir=0, new_column='New', demo feature='2010 1'),\n",
              " Row(No=18, year=2010, month=1, day=1, hour=17, pm2.5='NA', DEWP=-18, TEMP=-3.0, PRES=1015.0, cbwd='NW', Iws=2.68, Is=0, Ir=0, new_column='New', demo feature='2010 1'),\n",
              " Row(No=19, year=2010, month=1, day=1, hour=18, pm2.5='NA', DEWP=-18, TEMP=-5.0, PRES=1016.0, cbwd='NE', Iws=1.79, Is=0, Ir=0, new_column='New', demo feature='2010 1'),\n",
              " Row(No=20, year=2010, month=1, day=1, hour=19, pm2.5='NA', DEWP=-17, TEMP=-4.0, PRES=1017.0, cbwd='NW', Iws=1.79, Is=0, Ir=0, new_column='New', demo feature='2010 1'),\n",
              " Row(No=21, year=2010, month=1, day=1, hour=20, pm2.5='NA', DEWP=-17, TEMP=-5.0, PRES=1017.0, cbwd='cv', Iws=0.89, Is=0, Ir=0, new_column='New', demo feature='2010 1'),\n",
              " Row(No=22, year=2010, month=1, day=1, hour=21, pm2.5='NA', DEWP=-17, TEMP=-5.0, PRES=1018.0, cbwd='NW', Iws=1.79, Is=0, Ir=0, new_column='New', demo feature='2010 1'),\n",
              " Row(No=23, year=2010, month=1, day=1, hour=22, pm2.5='NA', DEWP=-17, TEMP=-5.0, PRES=1018.0, cbwd='NW', Iws=2.68, Is=0, Ir=0, new_column='New', demo feature='2010 1'),\n",
              " Row(No=24, year=2010, month=1, day=1, hour=23, pm2.5='NA', DEWP=-17, TEMP=-5.0, PRES=1020.0, cbwd='cv', Iws=0.89, Is=0, Ir=0, new_column='New', demo feature='2010 1'),\n",
              " Row(No=25, year=2010, month=1, day=2, hour=0, pm2.5='129', DEWP=-16, TEMP=-4.0, PRES=1020.0, cbwd='SE', Iws=1.79, Is=0, Ir=0, new_column='New', demo feature='2010 1'),\n",
              " Row(No=26, year=2010, month=1, day=2, hour=1, pm2.5='148', DEWP=-15, TEMP=-4.0, PRES=1020.0, cbwd='SE', Iws=2.68, Is=0, Ir=0, new_column='New', demo feature='2010 1'),\n",
              " Row(No=27, year=2010, month=1, day=2, hour=2, pm2.5='159', DEWP=-11, TEMP=-5.0, PRES=1021.0, cbwd='SE', Iws=3.57, Is=0, Ir=0, new_column='New', demo feature='2010 1'),\n",
              " Row(No=28, year=2010, month=1, day=2, hour=3, pm2.5='181', DEWP=-7, TEMP=-5.0, PRES=1022.0, cbwd='SE', Iws=5.36, Is=1, Ir=0, new_column='New', demo feature='2010 1'),\n",
              " Row(No=29, year=2010, month=1, day=2, hour=4, pm2.5='138', DEWP=-7, TEMP=-5.0, PRES=1022.0, cbwd='SE', Iws=6.25, Is=2, Ir=0, new_column='New', demo feature='2010 1'),\n",
              " Row(No=30, year=2010, month=1, day=2, hour=5, pm2.5='109', DEWP=-7, TEMP=-6.0, PRES=1022.0, cbwd='SE', Iws=7.14, Is=3, Ir=0, new_column='New', demo feature='2010 1'),\n",
              " Row(No=31, year=2010, month=1, day=2, hour=6, pm2.5='105', DEWP=-7, TEMP=-6.0, PRES=1023.0, cbwd='SE', Iws=8.93, Is=4, Ir=0, new_column='New', demo feature='2010 1'),\n",
              " Row(No=32, year=2010, month=1, day=2, hour=7, pm2.5='124', DEWP=-7, TEMP=-5.0, PRES=1024.0, cbwd='SE', Iws=10.72, Is=0, Ir=0, new_column='New', demo feature='2010 1'),\n",
              " Row(No=33, year=2010, month=1, day=2, hour=8, pm2.5='120', DEWP=-8, TEMP=-6.0, PRES=1024.0, cbwd='SE', Iws=12.51, Is=0, Ir=0, new_column='New', demo feature='2010 1'),\n",
              " Row(No=34, year=2010, month=1, day=2, hour=9, pm2.5='132', DEWP=-7, TEMP=-5.0, PRES=1025.0, cbwd='SE', Iws=14.3, Is=0, Ir=0, new_column='New', demo feature='2010 1'),\n",
              " Row(No=35, year=2010, month=1, day=2, hour=10, pm2.5='140', DEWP=-7, TEMP=-5.0, PRES=1026.0, cbwd='SE', Iws=17.43, Is=1, Ir=0, new_column='New', demo feature='2010 1'),\n",
              " Row(No=36, year=2010, month=1, day=2, hour=11, pm2.5='152', DEWP=-8, TEMP=-5.0, PRES=1026.0, cbwd='SE', Iws=20.56, Is=0, Ir=0, new_column='New', demo feature='2010 1'),\n",
              " Row(No=37, year=2010, month=1, day=2, hour=12, pm2.5='148', DEWP=-8, TEMP=-5.0, PRES=1026.0, cbwd='SE', Iws=23.69, Is=0, Ir=0, new_column='New', demo feature='2010 1'),\n",
              " Row(No=38, year=2010, month=1, day=2, hour=13, pm2.5='164', DEWP=-8, TEMP=-5.0, PRES=1025.0, cbwd='SE', Iws=27.71, Is=0, Ir=0, new_column='New', demo feature='2010 1'),\n",
              " Row(No=39, year=2010, month=1, day=2, hour=14, pm2.5='158', DEWP=-9, TEMP=-5.0, PRES=1025.0, cbwd='SE', Iws=31.73, Is=0, Ir=0, new_column='New', demo feature='2010 1'),\n",
              " Row(No=40, year=2010, month=1, day=2, hour=15, pm2.5='154', DEWP=-9, TEMP=-5.0, PRES=1025.0, cbwd='SE', Iws=35.75, Is=0, Ir=0, new_column='New', demo feature='2010 1'),\n",
              " Row(No=41, year=2010, month=1, day=2, hour=16, pm2.5='159', DEWP=-9, TEMP=-5.0, PRES=1026.0, cbwd='SE', Iws=37.54, Is=0, Ir=0, new_column='New', demo feature='2010 1'),\n",
              " Row(No=42, year=2010, month=1, day=2, hour=17, pm2.5='164', DEWP=-8, TEMP=-5.0, PRES=1027.0, cbwd='SE', Iws=39.33, Is=0, Ir=0, new_column='New', demo feature='2010 1'),\n",
              " Row(No=43, year=2010, month=1, day=2, hour=18, pm2.5='170', DEWP=-8, TEMP=-5.0, PRES=1027.0, cbwd='SE', Iws=42.46, Is=0, Ir=0, new_column='New', demo feature='2010 1'),\n",
              " Row(No=44, year=2010, month=1, day=2, hour=19, pm2.5='149', DEWP=-8, TEMP=-5.0, PRES=1028.0, cbwd='SE', Iws=44.25, Is=0, Ir=0, new_column='New', demo feature='2010 1'),\n",
              " Row(No=45, year=2010, month=1, day=2, hour=20, pm2.5='154', DEWP=-7, TEMP=-5.0, PRES=1028.0, cbwd='SE', Iws=46.04, Is=0, Ir=0, new_column='New', demo feature='2010 1'),\n",
              " Row(No=46, year=2010, month=1, day=2, hour=21, pm2.5='164', DEWP=-7, TEMP=-5.0, PRES=1027.0, cbwd='SE', Iws=49.17, Is=1, Ir=0, new_column='New', demo feature='2010 1'),\n",
              " Row(No=47, year=2010, month=1, day=2, hour=22, pm2.5='156', DEWP=-8, TEMP=-6.0, PRES=1028.0, cbwd='SE', Iws=52.3, Is=2, Ir=0, new_column='New', demo feature='2010 1'),\n",
              " Row(No=48, year=2010, month=1, day=2, hour=23, pm2.5='126', DEWP=-8, TEMP=-6.0, PRES=1027.0, cbwd='SE', Iws=55.43, Is=3, Ir=0, new_column='New', demo feature='2010 1'),\n",
              " Row(No=49, year=2010, month=1, day=3, hour=0, pm2.5='90', DEWP=-7, TEMP=-6.0, PRES=1027.0, cbwd='SE', Iws=58.56, Is=4, Ir=0, new_column='New', demo feature='2010 1'),\n",
              " Row(No=50, year=2010, month=1, day=3, hour=1, pm2.5='63', DEWP=-8, TEMP=-6.0, PRES=1026.0, cbwd='SE', Iws=61.69, Is=5, Ir=0, new_column='New', demo feature='2010 1'),\n",
              " Row(No=51, year=2010, month=1, day=3, hour=2, pm2.5='65', DEWP=-8, TEMP=-7.0, PRES=1026.0, cbwd='SE', Iws=65.71, Is=6, Ir=0, new_column='New', demo feature='2010 1'),\n",
              " Row(No=52, year=2010, month=1, day=3, hour=3, pm2.5='55', DEWP=-8, TEMP=-7.0, PRES=1025.0, cbwd='SE', Iws=68.84, Is=7, Ir=0, new_column='New', demo feature='2010 1'),\n",
              " Row(No=53, year=2010, month=1, day=3, hour=4, pm2.5='65', DEWP=-8, TEMP=-7.0, PRES=1024.0, cbwd='SE', Iws=72.86, Is=8, Ir=0, new_column='New', demo feature='2010 1'),\n",
              " Row(No=54, year=2010, month=1, day=3, hour=5, pm2.5='83', DEWP=-9, TEMP=-8.0, PRES=1024.0, cbwd='SE', Iws=76.88, Is=9, Ir=0, new_column='New', demo feature='2010 1'),\n",
              " Row(No=55, year=2010, month=1, day=3, hour=6, pm2.5='91', DEWP=-10, TEMP=-8.0, PRES=1024.0, cbwd='SE', Iws=80.9, Is=10, Ir=0, new_column='New', demo feature='2010 1'),\n",
              " Row(No=56, year=2010, month=1, day=3, hour=7, pm2.5='86', DEWP=-10, TEMP=-9.0, PRES=1024.0, cbwd='SE', Iws=84.92, Is=11, Ir=0, new_column='New', demo feature='2010 1'),\n",
              " Row(No=57, year=2010, month=1, day=3, hour=8, pm2.5='82', DEWP=-10, TEMP=-9.0, PRES=1024.0, cbwd='SE', Iws=89.84, Is=12, Ir=0, new_column='New', demo feature='2010 1'),\n",
              " Row(No=58, year=2010, month=1, day=3, hour=9, pm2.5='86', DEWP=-11, TEMP=-9.0, PRES=1023.0, cbwd='SE', Iws=93.86, Is=13, Ir=0, new_column='New', demo feature='2010 1'),\n",
              " Row(No=59, year=2010, month=1, day=3, hour=10, pm2.5='78', DEWP=-11, TEMP=-9.0, PRES=1023.0, cbwd='SE', Iws=97.88, Is=15, Ir=0, new_column='New', demo feature='2010 1'),\n",
              " Row(No=60, year=2010, month=1, day=3, hour=11, pm2.5='98', DEWP=-11, TEMP=-9.0, PRES=1022.0, cbwd='SE', Iws=102.8, Is=16, Ir=0, new_column='New', demo feature='2010 1'),\n",
              " Row(No=61, year=2010, month=1, day=3, hour=12, pm2.5='107', DEWP=-11, TEMP=-9.0, PRES=1021.0, cbwd='SE', Iws=105.93, Is=17, Ir=0, new_column='New', demo feature='2010 1'),\n",
              " Row(No=62, year=2010, month=1, day=3, hour=13, pm2.5='90', DEWP=-11, TEMP=-9.0, PRES=1020.0, cbwd='SE', Iws=111.74, Is=19, Ir=0, new_column='New', demo feature='2010 1'),\n",
              " Row(No=63, year=2010, month=1, day=3, hour=14, pm2.5='96', DEWP=-11, TEMP=-9.0, PRES=1020.0, cbwd='SE', Iws=116.66, Is=20, Ir=0, new_column='New', demo feature='2010 1'),\n",
              " Row(No=64, year=2010, month=1, day=3, hour=15, pm2.5='95', DEWP=-11, TEMP=-9.0, PRES=1020.0, cbwd='SE', Iws=121.58, Is=21, Ir=0, new_column='New', demo feature='2010 1'),\n",
              " Row(No=65, year=2010, month=1, day=3, hour=16, pm2.5='86', DEWP=-11, TEMP=-9.0, PRES=1020.0, cbwd='SE', Iws=124.71, Is=22, Ir=0, new_column='New', demo feature='2010 1'),\n",
              " Row(No=66, year=2010, month=1, day=3, hour=17, pm2.5='70', DEWP=-11, TEMP=-9.0, PRES=1020.0, cbwd='SE', Iws=127.84, Is=23, Ir=0, new_column='New', demo feature='2010 1'),\n",
              " Row(No=67, year=2010, month=1, day=3, hour=18, pm2.5='61', DEWP=-11, TEMP=-9.0, PRES=1021.0, cbwd='cv', Iws=0.89, Is=24, Ir=0, new_column='New', demo feature='2010 1'),\n",
              " Row(No=68, year=2010, month=1, day=3, hour=19, pm2.5='53', DEWP=-11, TEMP=-9.0, PRES=1022.0, cbwd='cv', Iws=1.78, Is=25, Ir=0, new_column='New', demo feature='2010 1'),\n",
              " Row(No=69, year=2010, month=1, day=3, hour=20, pm2.5='71', DEWP=-10, TEMP=-9.0, PRES=1022.0, cbwd='NW', Iws=4.02, Is=26, Ir=0, new_column='New', demo feature='2010 1'),\n",
              " Row(No=70, year=2010, month=1, day=3, hour=21, pm2.5='72', DEWP=-11, TEMP=-10.0, PRES=1023.0, cbwd='NW', Iws=7.15, Is=27, Ir=0, new_column='New', demo feature='2010 1'),\n",
              " Row(No=71, year=2010, month=1, day=3, hour=22, pm2.5='76', DEWP=-11, TEMP=-9.0, PRES=1023.0, cbwd='NW', Iws=11.17, Is=0, Ir=0, new_column='New', demo feature='2010 1'),\n",
              " Row(No=72, year=2010, month=1, day=3, hour=23, pm2.5='73', DEWP=-12, TEMP=-11.0, PRES=1023.0, cbwd='NW', Iws=14.3, Is=0, Ir=0, new_column='New', demo feature='2010 1'),\n",
              " Row(No=73, year=2010, month=1, day=4, hour=0, pm2.5='79', DEWP=-14, TEMP=-12.0, PRES=1023.0, cbwd='NW', Iws=16.09, Is=0, Ir=0, new_column='New', demo feature='2010 1'),\n",
              " Row(No=74, year=2010, month=1, day=4, hour=1, pm2.5='58', DEWP=-16, TEMP=-9.0, PRES=1023.0, cbwd='NW', Iws=21.9, Is=0, Ir=0, new_column='New', demo feature='2010 1'),\n",
              " Row(No=75, year=2010, month=1, day=4, hour=2, pm2.5='25', DEWP=-17, TEMP=-10.0, PRES=1024.0, cbwd='NW', Iws=29.95, Is=0, Ir=0, new_column='New', demo feature='2010 1'),\n",
              " Row(No=76, year=2010, month=1, day=4, hour=3, pm2.5='26', DEWP=-18, TEMP=-11.0, PRES=1024.0, cbwd='NW', Iws=39.78, Is=0, Ir=0, new_column='New', demo feature='2010 1'),\n",
              " Row(No=77, year=2010, month=1, day=4, hour=4, pm2.5='28', DEWP=-19, TEMP=-11.0, PRES=1025.0, cbwd='NW', Iws=48.72, Is=0, Ir=0, new_column='New', demo feature='2010 1'),\n",
              " Row(No=78, year=2010, month=1, day=4, hour=5, pm2.5='26', DEWP=-20, TEMP=-12.0, PRES=1026.0, cbwd='NW', Iws=55.87, Is=0, Ir=0, new_column='New', demo feature='2010 1'),\n",
              " Row(No=79, year=2010, month=1, day=4, hour=6, pm2.5='20', DEWP=-21, TEMP=-12.0, PRES=1027.0, cbwd='NW', Iws=64.81, Is=0, Ir=0, new_column='New', demo feature='2010 1'),\n",
              " Row(No=80, year=2010, month=1, day=4, hour=7, pm2.5='29', DEWP=-21, TEMP=-13.0, PRES=1027.0, cbwd='NW', Iws=73.75, Is=0, Ir=0, new_column='New', demo feature='2010 1'),\n",
              " Row(No=81, year=2010, month=1, day=4, hour=8, pm2.5='26', DEWP=-22, TEMP=-13.0, PRES=1028.0, cbwd='NW', Iws=80.9, Is=0, Ir=0, new_column='New', demo feature='2010 1'),\n",
              " Row(No=82, year=2010, month=1, day=4, hour=9, pm2.5='27', DEWP=-22, TEMP=-13.0, PRES=1029.0, cbwd='NW', Iws=90.73, Is=0, Ir=0, new_column='New', demo feature='2010 1'),\n",
              " Row(No=83, year=2010, month=1, day=4, hour=10, pm2.5='27', DEWP=-22, TEMP=-12.0, PRES=1030.0, cbwd='NW', Iws=100.56, Is=0, Ir=0, new_column='New', demo feature='2010 1'),\n",
              " Row(No=84, year=2010, month=1, day=4, hour=11, pm2.5='25', DEWP=-23, TEMP=-12.0, PRES=1031.0, cbwd='NW', Iws=108.61, Is=0, Ir=0, new_column='New', demo feature='2010 1'),\n",
              " Row(No=85, year=2010, month=1, day=4, hour=12, pm2.5='29', DEWP=-21, TEMP=-11.0, PRES=1030.0, cbwd='NW', Iws=117.55, Is=0, Ir=0, new_column='New', demo feature='2010 1'),\n",
              " Row(No=86, year=2010, month=1, day=4, hour=13, pm2.5='32', DEWP=-20, TEMP=-10.0, PRES=1030.0, cbwd='NW', Iws=127.38, Is=0, Ir=0, new_column='New', demo feature='2010 1'),\n",
              " Row(No=87, year=2010, month=1, day=4, hour=14, pm2.5='28', DEWP=-21, TEMP=-10.0, PRES=1030.0, cbwd='NW', Iws=136.32, Is=0, Ir=0, new_column='New', demo feature='2010 1'),\n",
              " Row(No=88, year=2010, month=1, day=4, hour=15, pm2.5='29', DEWP=-21, TEMP=-9.0, PRES=1030.0, cbwd='NW', Iws=145.26, Is=0, Ir=0, new_column='New', demo feature='2010 1'),\n",
              " Row(No=89, year=2010, month=1, day=4, hour=16, pm2.5='30', DEWP=-21, TEMP=-9.0, PRES=1031.0, cbwd='NW', Iws=152.41, Is=0, Ir=0, new_column='New', demo feature='2010 1'),\n",
              " Row(No=90, year=2010, month=1, day=4, hour=17, pm2.5='30', DEWP=-20, TEMP=-11.0, PRES=1032.0, cbwd='NW', Iws=159.56, Is=0, Ir=0, new_column='New', demo feature='2010 1'),\n",
              " Row(No=91, year=2010, month=1, day=4, hour=18, pm2.5='28', DEWP=-23, TEMP=-11.0, PRES=1032.0, cbwd='NW', Iws=165.37, Is=0, Ir=0, new_column='New', demo feature='2010 1'),\n",
              " Row(No=92, year=2010, month=1, day=4, hour=19, pm2.5='26', DEWP=-21, TEMP=-12.0, PRES=1033.0, cbwd='NW', Iws=171.18, Is=0, Ir=0, new_column='New', demo feature='2010 1'),\n",
              " Row(No=93, year=2010, month=1, day=4, hour=20, pm2.5='31', DEWP=-24, TEMP=-12.0, PRES=1034.0, cbwd='NW', Iws=180.12, Is=0, Ir=0, new_column='New', demo feature='2010 1'),\n",
              " Row(No=94, year=2010, month=1, day=4, hour=21, pm2.5='33', DEWP=-24, TEMP=-13.0, PRES=1034.0, cbwd='NW', Iws=187.27, Is=0, Ir=0, new_column='New', demo feature='2010 1'),\n",
              " Row(No=95, year=2010, month=1, day=4, hour=22, pm2.5='29', DEWP=-24, TEMP=-13.0, PRES=1035.0, cbwd='NW', Iws=195.32, Is=0, Ir=0, new_column='New', demo feature='2010 1'),\n",
              " Row(No=96, year=2010, month=1, day=4, hour=23, pm2.5='31', DEWP=-26, TEMP=-15.0, PRES=1035.0, cbwd='NW', Iws=198.45, Is=0, Ir=0, new_column='New', demo feature='2010 1'),\n",
              " Row(No=97, year=2010, month=1, day=5, hour=0, pm2.5='30', DEWP=-26, TEMP=-17.0, PRES=1035.0, cbwd='NW', Iws=201.58, Is=0, Ir=0, new_column='New', demo feature='2010 1'),\n",
              " Row(No=98, year=2010, month=1, day=5, hour=1, pm2.5='34', DEWP=-26, TEMP=-18.0, PRES=1035.0, cbwd='NW', Iws=205.6, Is=0, Ir=0, new_column='New', demo feature='2010 1'),\n",
              " Row(No=99, year=2010, month=1, day=5, hour=2, pm2.5='27', DEWP=-26, TEMP=-19.0, PRES=1035.0, cbwd='NW', Iws=208.73, Is=0, Ir=0, new_column='New', demo feature='2010 1'),\n",
              " Row(No=100, year=2010, month=1, day=5, hour=3, pm2.5='25', DEWP=-27, TEMP=-18.0, PRES=1035.0, cbwd='NW', Iws=213.65, Is=0, Ir=0, new_column='New', demo feature='2010 1'),\n",
              " Row(No=101, year=2010, month=1, day=5, hour=4, pm2.5='28', DEWP=-27, TEMP=-19.0, PRES=1035.0, cbwd='NW', Iws=218.57, Is=0, Ir=0, new_column='New', demo feature='2010 1'),\n",
              " Row(No=102, year=2010, month=1, day=5, hour=5, pm2.5='28', DEWP=-27, TEMP=-16.0, PRES=1034.0, cbwd='NE', Iws=4.92, Is=0, Ir=0, new_column='New', demo feature='2010 1'),\n",
              " Row(No=103, year=2010, month=1, day=5, hour=6, pm2.5='27', DEWP=-26, TEMP=-16.0, PRES=1035.0, cbwd='NE', Iws=8.05, Is=0, Ir=0, new_column='New', demo feature='2010 1'),\n",
              " Row(No=104, year=2010, month=1, day=5, hour=7, pm2.5='27', DEWP=-27, TEMP=-16.0, PRES=1034.0, cbwd='NE', Iws=13.86, Is=0, Ir=0, new_column='New', demo feature='2010 1'),\n",
              " Row(No=105, year=2010, month=1, day=5, hour=8, pm2.5='27', DEWP=-26, TEMP=-16.0, PRES=1035.0, cbwd='NE', Iws=18.78, Is=0, Ir=0, new_column='New', demo feature='2010 1'),\n",
              " Row(No=106, year=2010, month=1, day=5, hour=9, pm2.5='29', DEWP=-26, TEMP=-15.0, PRES=1035.0, cbwd='NE', Iws=24.59, Is=0, Ir=0, new_column='New', demo feature='2010 1'),\n",
              " Row(No=107, year=2010, month=1, day=5, hour=10, pm2.5='36', DEWP=-25, TEMP=-14.0, PRES=1035.0, cbwd='NE', Iws=29.51, Is=0, Ir=0, new_column='New', demo feature='2010 1'),\n",
              " Row(No=108, year=2010, month=1, day=5, hour=11, pm2.5='30', DEWP=-25, TEMP=-13.0, PRES=1035.0, cbwd='NE', Iws=34.43, Is=0, Ir=0, new_column='New', demo feature='2010 1'),\n",
              " Row(No=109, year=2010, month=1, day=5, hour=12, pm2.5='27', DEWP=-25, TEMP=-12.0, PRES=1034.0, cbwd='NE', Iws=39.35, Is=0, Ir=0, new_column='New', demo feature='2010 1'),\n",
              " Row(No=110, year=2010, month=1, day=5, hour=13, pm2.5='39', DEWP=-24, TEMP=-11.0, PRES=1032.0, cbwd='NE', Iws=41.14, Is=0, Ir=0, new_column='New', demo feature='2010 1'),\n",
              " Row(No=111, year=2010, month=1, day=5, hour=14, pm2.5='41', DEWP=-22, TEMP=-11.0, PRES=1032.0, cbwd='cv', Iws=0.89, Is=0, Ir=0, new_column='New', demo feature='2010 1'),\n",
              " Row(No=112, year=2010, month=1, day=5, hour=15, pm2.5='33', DEWP=-23, TEMP=-11.0, PRES=1031.0, cbwd='NW', Iws=1.79, Is=0, Ir=0, new_column='New', demo feature='2010 1'),\n",
              " Row(No=113, year=2010, month=1, day=5, hour=16, pm2.5='50', DEWP=-24, TEMP=-11.0, PRES=1031.0, cbwd='NW', Iws=3.58, Is=0, Ir=0, new_column='New', demo feature='2010 1'),\n",
              " Row(No=114, year=2010, month=1, day=5, hour=17, pm2.5='56', DEWP=-23, TEMP=-11.0, PRES=1031.0, cbwd='NW', Iws=5.37, Is=0, Ir=0, new_column='New', demo feature='2010 1'),\n",
              " Row(No=115, year=2010, month=1, day=5, hour=18, pm2.5='59', DEWP=-23, TEMP=-11.0, PRES=1032.0, cbwd='NW', Iws=7.16, Is=0, Ir=0, new_column='New', demo feature='2010 1'),\n",
              " Row(No=116, year=2010, month=1, day=5, hour=19, pm2.5='60', DEWP=-22, TEMP=-13.0, PRES=1033.0, cbwd='NW', Iws=10.29, Is=0, Ir=0, new_column='New', demo feature='2010 1'),\n",
              " Row(No=117, year=2010, month=1, day=5, hour=20, pm2.5='84', DEWP=-22, TEMP=-12.0, PRES=1033.0, cbwd='NW', Iws=13.42, Is=0, Ir=0, new_column='New', demo feature='2010 1'),\n",
              " Row(No=118, year=2010, month=1, day=5, hour=21, pm2.5='106', DEWP=-24, TEMP=-18.0, PRES=1033.0, cbwd='NW', Iws=16.55, Is=0, Ir=0, new_column='New', demo feature='2010 1'),\n",
              " Row(No=119, year=2010, month=1, day=5, hour=22, pm2.5='66', DEWP=-22, TEMP=-13.0, PRES=1034.0, cbwd='NW', Iws=20.57, Is=0, Ir=0, new_column='New', demo feature='2010 1'),\n",
              " Row(No=120, year=2010, month=1, day=5, hour=23, pm2.5='50', DEWP=-22, TEMP=-16.0, PRES=1033.0, cbwd='NW', Iws=23.7, Is=0, Ir=0, new_column='New', demo feature='2010 1'),\n",
              " Row(No=121, year=2010, month=1, day=6, hour=0, pm2.5='56', DEWP=-25, TEMP=-17.0, PRES=1033.0, cbwd='NW', Iws=26.83, Is=0, Ir=0, new_column='New', demo feature='2010 1'),\n",
              " Row(No=122, year=2010, month=1, day=6, hour=1, pm2.5='77', DEWP=-25, TEMP=-14.0, PRES=1033.0, cbwd='NE', Iws=4.02, Is=0, Ir=0, new_column='New', demo feature='2010 1'),\n",
              " Row(No=123, year=2010, month=1, day=6, hour=2, pm2.5='50', DEWP=-26, TEMP=-14.0, PRES=1034.0, cbwd='NE', Iws=8.04, Is=0, Ir=0, new_column='New', demo feature='2010 1'),\n",
              " Row(No=124, year=2010, month=1, day=6, hour=3, pm2.5='44', DEWP=-26, TEMP=-14.0, PRES=1033.0, cbwd='NE', Iws=13.85, Is=0, Ir=0, new_column='New', demo feature='2010 1'),\n",
              " Row(No=125, year=2010, month=1, day=6, hour=4, pm2.5='27', DEWP=-26, TEMP=-14.0, PRES=1033.0, cbwd='NE', Iws=17.87, Is=0, Ir=0, new_column='New', demo feature='2010 1'),\n",
              " Row(No=126, year=2010, month=1, day=6, hour=5, pm2.5='28', DEWP=-26, TEMP=-14.0, PRES=1033.0, cbwd='NE', Iws=23.68, Is=0, Ir=0, new_column='New', demo feature='2010 1'),\n",
              " Row(No=127, year=2010, month=1, day=6, hour=6, pm2.5='21', DEWP=-26, TEMP=-14.0, PRES=1033.0, cbwd='NE', Iws=28.6, Is=0, Ir=0, new_column='New', demo feature='2010 1'),\n",
              " Row(No=128, year=2010, month=1, day=6, hour=7, pm2.5='25', DEWP=-26, TEMP=-15.0, PRES=1034.0, cbwd='NE', Iws=33.52, Is=0, Ir=0, new_column='New', demo feature='2010 1'),\n",
              " Row(No=129, year=2010, month=1, day=6, hour=8, pm2.5='20', DEWP=-26, TEMP=-14.0, PRES=1034.0, cbwd='NE', Iws=39.33, Is=0, Ir=0, new_column='New', demo feature='2010 1'),\n",
              " Row(No=130, year=2010, month=1, day=6, hour=9, pm2.5='29', DEWP=-25, TEMP=-13.0, PRES=1035.0, cbwd='NE', Iws=44.25, Is=0, Ir=0, new_column='New', demo feature='2010 1'),\n",
              " Row(No=131, year=2010, month=1, day=6, hour=10, pm2.5='34', DEWP=-25, TEMP=-12.0, PRES=1035.0, cbwd='NE', Iws=50.06, Is=0, Ir=0, new_column='New', demo feature='2010 1'),\n",
              " Row(No=132, year=2010, month=1, day=6, hour=11, pm2.5='42', DEWP=-24, TEMP=-11.0, PRES=1035.0, cbwd='NE', Iws=54.98, Is=0, Ir=0, new_column='New', demo feature='2010 1'),\n",
              " Row(No=133, year=2010, month=1, day=6, hour=12, pm2.5='28', DEWP=-24, TEMP=-10.0, PRES=1034.0, cbwd='NE', Iws=59.0, Is=0, Ir=0, new_column='New', demo feature='2010 1'),\n",
              " Row(No=134, year=2010, month=1, day=6, hour=13, pm2.5='36', DEWP=-22, TEMP=-10.0, PRES=1033.0, cbwd='NW', Iws=4.02, Is=0, Ir=0, new_column='New', demo feature='2010 1'),\n",
              " Row(No=135, year=2010, month=1, day=6, hour=14, pm2.5='48', DEWP=-22, TEMP=-9.0, PRES=1033.0, cbwd='NW', Iws=5.81, Is=0, Ir=0, new_column='New', demo feature='2010 1'),\n",
              " Row(No=136, year=2010, month=1, day=6, hour=15, pm2.5='49', DEWP=-22, TEMP=-8.0, PRES=1033.0, cbwd='cv', Iws=0.89, Is=0, Ir=0, new_column='New', demo feature='2010 1'),\n",
              " Row(No=137, year=2010, month=1, day=6, hour=16, pm2.5='52', DEWP=-22, TEMP=-8.0, PRES=1033.0, cbwd='NW', Iws=1.79, Is=0, Ir=0, new_column='New', demo feature='2010 1'),\n",
              " Row(No=138, year=2010, month=1, day=6, hour=17, pm2.5='56', DEWP=-21, TEMP=-9.0, PRES=1033.0, cbwd='NW', Iws=3.58, Is=0, Ir=0, new_column='New', demo feature='2010 1'),\n",
              " Row(No=139, year=2010, month=1, day=6, hour=18, pm2.5='96', DEWP=-22, TEMP=-9.0, PRES=1033.0, cbwd='NW', Iws=5.37, Is=0, Ir=0, new_column='New', demo feature='2010 1'),\n",
              " Row(No=140, year=2010, month=1, day=6, hour=19, pm2.5='75', DEWP=-22, TEMP=-14.0, PRES=1034.0, cbwd='cv', Iws=0.89, Is=0, Ir=0, new_column='New', demo feature='2010 1'),\n",
              " Row(No=141, year=2010, month=1, day=6, hour=20, pm2.5='105', DEWP=-22, TEMP=-12.0, PRES=1035.0, cbwd='NW', Iws=1.79, Is=0, Ir=0, new_column='New', demo feature='2010 1'),\n",
              " Row(No=142, year=2010, month=1, day=6, hour=21, pm2.5='132', DEWP=-21, TEMP=-14.0, PRES=1034.0, cbwd='NW', Iws=3.58, Is=0, Ir=0, new_column='New', demo feature='2010 1'),\n",
              " Row(No=143, year=2010, month=1, day=6, hour=22, pm2.5='93', DEWP=-22, TEMP=-16.0, PRES=1035.0, cbwd='NW', Iws=5.37, Is=0, Ir=0, new_column='New', demo feature='2010 1'),\n",
              " Row(No=144, year=2010, month=1, day=6, hour=23, pm2.5='131', DEWP=-21, TEMP=-16.0, PRES=1035.0, cbwd='NW', Iws=7.16, Is=0, Ir=0, new_column='New', demo feature='2010 1'),\n",
              " Row(No=145, year=2010, month=1, day=7, hour=0, pm2.5='127', DEWP=-21, TEMP=-16.0, PRES=1035.0, cbwd='NW', Iws=8.95, Is=0, Ir=0, new_column='New', demo feature='2010 1'),\n",
              " Row(No=146, year=2010, month=1, day=7, hour=1, pm2.5='130', DEWP=-21, TEMP=-16.0, PRES=1035.0, cbwd='cv', Iws=0.45, Is=0, Ir=0, new_column='New', demo feature='2010 1'),\n",
              " Row(No=147, year=2010, month=1, day=7, hour=2, pm2.5='43', DEWP=-22, TEMP=-18.0, PRES=1036.0, cbwd='cv', Iws=1.34, Is=0, Ir=0, new_column='New', demo feature='2010 1'),\n",
              " Row(No=148, year=2010, month=1, day=7, hour=3, pm2.5='37', DEWP=-23, TEMP=-15.0, PRES=1036.0, cbwd='NW', Iws=4.02, Is=0, Ir=0, new_column='New', demo feature='2010 1'),\n",
              " Row(No=149, year=2010, month=1, day=7, hour=4, pm2.5='30', DEWP=-24, TEMP=-16.0, PRES=1035.0, cbwd='NW', Iws=7.15, Is=0, Ir=0, new_column='New', demo feature='2010 1'),\n",
              " Row(No=150, year=2010, month=1, day=7, hour=5, pm2.5='28', DEWP=-25, TEMP=-15.0, PRES=1035.0, cbwd='NW', Iws=10.28, Is=0, Ir=0, new_column='New', demo feature='2010 1'),\n",
              " Row(No=151, year=2010, month=1, day=7, hour=6, pm2.5='24', DEWP=-24, TEMP=-15.0, PRES=1035.0, cbwd='NW', Iws=14.3, Is=0, Ir=0, new_column='New', demo feature='2010 1'),\n",
              " Row(No=152, year=2010, month=1, day=7, hour=7, pm2.5='23', DEWP=-25, TEMP=-13.0, PRES=1036.0, cbwd='NE', Iws=4.92, Is=0, Ir=0, new_column='New', demo feature='2010 1'),\n",
              " Row(No=153, year=2010, month=1, day=7, hour=8, pm2.5='24', DEWP=-24, TEMP=-14.0, PRES=1036.0, cbwd='NW', Iws=4.02, Is=0, Ir=0, new_column='New', demo feature='2010 1'),\n",
              " Row(No=154, year=2010, month=1, day=7, hour=9, pm2.5='27', DEWP=-23, TEMP=-12.0, PRES=1036.0, cbwd='NW', Iws=8.94, Is=0, Ir=0, new_column='New', demo feature='2010 1'),\n",
              " Row(No=155, year=2010, month=1, day=7, hour=10, pm2.5='40', DEWP=-22, TEMP=-11.0, PRES=1036.0, cbwd='NW', Iws=12.96, Is=0, Ir=0, new_column='New', demo feature='2010 1'),\n",
              " Row(No=156, year=2010, month=1, day=7, hour=11, pm2.5='42', DEWP=-20, TEMP=-10.0, PRES=1036.0, cbwd='NW', Iws=16.09, Is=0, Ir=0, new_column='New', demo feature='2010 1'),\n",
              " Row(No=157, year=2010, month=1, day=7, hour=12, pm2.5='42', DEWP=-21, TEMP=-9.0, PRES=1035.0, cbwd='NW', Iws=19.22, Is=0, Ir=0, new_column='New', demo feature='2010 1'),\n",
              " Row(No=158, year=2010, month=1, day=7, hour=13, pm2.5='55', DEWP=-21, TEMP=-8.0, PRES=1034.0, cbwd='NW', Iws=21.01, Is=0, Ir=0, new_column='New', demo feature='2010 1'),\n",
              " Row(No=159, year=2010, month=1, day=7, hour=14, pm2.5='52', DEWP=-20, TEMP=-7.0, PRES=1033.0, cbwd='NW', Iws=22.8, Is=0, Ir=0, new_column='New', demo feature='2010 1'),\n",
              " Row(No=160, year=2010, month=1, day=7, hour=15, pm2.5='51', DEWP=-20, TEMP=-7.0, PRES=1032.0, cbwd='NW', Iws=24.59, Is=0, Ir=0, new_column='New', demo feature='2010 1'),\n",
              " Row(No=161, year=2010, month=1, day=7, hour=16, pm2.5='57', DEWP=-18, TEMP=-8.0, PRES=1032.0, cbwd='NW', Iws=26.38, Is=0, Ir=0, new_column='New', demo feature='2010 1'),\n",
              " Row(No=162, year=2010, month=1, day=7, hour=17, pm2.5='50', DEWP=-19, TEMP=-9.0, PRES=1032.0, cbwd='NW', Iws=28.17, Is=0, Ir=0, new_column='New', demo feature='2010 1'),\n",
              " Row(No=163, year=2010, month=1, day=7, hour=18, pm2.5='54', DEWP=-19, TEMP=-11.0, PRES=1032.0, cbwd='NE', Iws=0.89, Is=0, Ir=0, new_column='New', demo feature='2010 1'),\n",
              " Row(No=164, year=2010, month=1, day=7, hour=19, pm2.5='67', DEWP=-18, TEMP=-11.0, PRES=1033.0, cbwd='NW', Iws=1.79, Is=0, Ir=0, new_column='New', demo feature='2010 1'),\n",
              " Row(No=165, year=2010, month=1, day=7, hour=20, pm2.5='106', DEWP=-19, TEMP=-15.0, PRES=1032.0, cbwd='NE', Iws=1.79, Is=0, Ir=0, new_column='New', demo feature='2010 1'),\n",
              " Row(No=166, year=2010, month=1, day=7, hour=21, pm2.5='159', DEWP=-19, TEMP=-14.0, PRES=1032.0, cbwd='cv', Iws=0.45, Is=0, Ir=0, new_column='New', demo feature='2010 1'),\n",
              " Row(No=167, year=2010, month=1, day=7, hour=22, pm2.5='198', DEWP=-21, TEMP=-14.0, PRES=1032.0, cbwd='cv', Iws=1.34, Is=0, Ir=0, new_column='New', demo feature='2010 1'),\n",
              " Row(No=168, year=2010, month=1, day=7, hour=23, pm2.5='190', DEWP=-21, TEMP=-16.0, PRES=1032.0, cbwd='cv', Iws=2.23, Is=0, Ir=0, new_column='New', demo feature='2010 1'),\n",
              " Row(No=169, year=2010, month=1, day=8, hour=0, pm2.5='210', DEWP=-21, TEMP=-17.0, PRES=1031.0, cbwd='NW', Iws=1.79, Is=0, Ir=0, new_column='New', demo feature='2010 1'),\n",
              " Row(No=170, year=2010, month=1, day=8, hour=1, pm2.5='195', DEWP=-19, TEMP=-16.0, PRES=1031.0, cbwd='NW', Iws=3.58, Is=0, Ir=0, new_column='New', demo feature='2010 1'),\n",
              " Row(No=171, year=2010, month=1, day=8, hour=2, pm2.5='275', DEWP=-20, TEMP=-16.0, PRES=1031.0, cbwd='NE', Iws=0.89, Is=0, Ir=0, new_column='New', demo feature='2010 1'),\n",
              " Row(No=172, year=2010, month=1, day=8, hour=3, pm2.5='164', DEWP=-19, TEMP=-15.0, PRES=1030.0, cbwd='SE', Iws=0.89, Is=0, Ir=0, new_column='New', demo feature='2010 1'),\n",
              " Row(No=173, year=2010, month=1, day=8, hour=4, pm2.5='110', DEWP=-18, TEMP=-15.0, PRES=1030.0, cbwd='cv', Iws=0.45, Is=0, Ir=0, new_column='New', demo feature='2010 1'),\n",
              " Row(No=174, year=2010, month=1, day=8, hour=5, pm2.5='100', DEWP=-18, TEMP=-15.0, PRES=1029.0, cbwd='cv', Iws=1.34, Is=0, Ir=0, new_column='New', demo feature='2010 1'),\n",
              " Row(No=175, year=2010, month=1, day=8, hour=6, pm2.5='81', DEWP=-18, TEMP=-15.0, PRES=1029.0, cbwd='NW', Iws=1.79, Is=0, Ir=0, new_column='New', demo feature='2010 1'),\n",
              " Row(No=176, year=2010, month=1, day=8, hour=7, pm2.5='71', DEWP=-16, TEMP=-13.0, PRES=1029.0, cbwd='NE', Iws=0.89, Is=0, Ir=0, new_column='New', demo feature='2010 1'),\n",
              " Row(No=177, year=2010, month=1, day=8, hour=8, pm2.5='66', DEWP=-16, TEMP=-12.0, PRES=1029.0, cbwd='SE', Iws=0.89, Is=0, Ir=0, new_column='New', demo feature='2010 1'),\n",
              " Row(No=178, year=2010, month=1, day=8, hour=9, pm2.5='92', DEWP=-16, TEMP=-12.0, PRES=1030.0, cbwd='SE', Iws=1.78, Is=0, Ir=0, new_column='New', demo feature='2010 1'),\n",
              " Row(No=179, year=2010, month=1, day=8, hour=10, pm2.5='135', DEWP=-17, TEMP=-10.0, PRES=1030.0, cbwd='NE', Iws=0.89, Is=0, Ir=0, new_column='New', demo feature='2010 1'),\n",
              " Row(No=180, year=2010, month=1, day=8, hour=11, pm2.5='155', DEWP=-16, TEMP=-10.0, PRES=1029.0, cbwd='cv', Iws=0.89, Is=0, Ir=0, new_column='New', demo feature='2010 1'),\n",
              " Row(No=181, year=2010, month=1, day=8, hour=12, pm2.5='198', DEWP=-16, TEMP=-9.0, PRES=1028.0, cbwd='SE', Iws=3.13, Is=0, Ir=0, new_column='New', demo feature='2010 1'),\n",
              " Row(No=182, year=2010, month=1, day=8, hour=13, pm2.5='250', DEWP=-15, TEMP=-8.0, PRES=1026.0, cbwd='SE', Iws=4.92, Is=0, Ir=0, new_column='New', demo feature='2010 1'),\n",
              " Row(No=183, year=2010, month=1, day=8, hour=14, pm2.5='200', DEWP=-16, TEMP=-8.0, PRES=1026.0, cbwd='cv', Iws=0.89, Is=0, Ir=0, new_column='New', demo feature='2010 1'),\n",
              " Row(No=184, year=2010, month=1, day=8, hour=15, pm2.5='231', DEWP=-16, TEMP=-8.0, PRES=1025.0, cbwd='cv', Iws=1.78, Is=0, Ir=0, new_column='New', demo feature='2010 1'),\n",
              " Row(No=185, year=2010, month=1, day=8, hour=16, pm2.5='250', DEWP=-16, TEMP=-8.0, PRES=1025.0, cbwd='cv', Iws=2.67, Is=0, Ir=0, new_column='New', demo feature='2010 1'),\n",
              " Row(No=186, year=2010, month=1, day=8, hour=17, pm2.5='212', DEWP=-17, TEMP=-8.0, PRES=1025.0, cbwd='SE', Iws=0.89, Is=0, Ir=0, new_column='New', demo feature='2010 1'),\n",
              " Row(No=187, year=2010, month=1, day=8, hour=18, pm2.5='219', DEWP=-17, TEMP=-9.0, PRES=1026.0, cbwd='cv', Iws=0.45, Is=0, Ir=0, new_column='New', demo feature='2010 1'),\n",
              " Row(No=188, year=2010, month=1, day=8, hour=19, pm2.5='227', DEWP=-17, TEMP=-11.0, PRES=1026.0, cbwd='cv', Iws=1.34, Is=0, Ir=0, new_column='New', demo feature='2010 1'),\n",
              " Row(No=189, year=2010, month=1, day=8, hour=20, pm2.5='226', DEWP=-17, TEMP=-12.0, PRES=1026.0, cbwd='cv', Iws=1.79, Is=0, Ir=0, new_column='New', demo feature='2010 1'),\n",
              " Row(No=190, year=2010, month=1, day=8, hour=21, pm2.5='225', DEWP=-18, TEMP=-14.0, PRES=1027.0, cbwd='NW', Iws=1.79, Is=0, Ir=0, new_column='New', demo feature='2010 1'),\n",
              " Row(No=191, year=2010, month=1, day=8, hour=22, pm2.5='168', DEWP=-16, TEMP=-9.0, PRES=1027.0, cbwd='NW', Iws=4.92, Is=0, Ir=0, new_column='New', demo feature='2010 1'),\n",
              " Row(No=192, year=2010, month=1, day=8, hour=23, pm2.5='169', DEWP=-16, TEMP=-11.0, PRES=1027.0, cbwd='NW', Iws=6.71, Is=0, Ir=0, new_column='New', demo feature='2010 1'),\n",
              " Row(No=193, year=2010, month=1, day=9, hour=0, pm2.5='165', DEWP=-17, TEMP=-13.0, PRES=1027.0, cbwd='cv', Iws=0.89, Is=0, Ir=0, new_column='New', demo feature='2010 1'),\n",
              " Row(No=194, year=2010, month=1, day=9, hour=1, pm2.5='159', DEWP=-17, TEMP=-13.0, PRES=1027.0, cbwd='NW', Iws=3.13, Is=0, Ir=0, new_column='New', demo feature='2010 1'),\n",
              " Row(No=195, year=2010, month=1, day=9, hour=2, pm2.5='167', DEWP=-17, TEMP=-14.0, PRES=1027.0, cbwd='NW', Iws=4.92, Is=0, Ir=0, new_column='New', demo feature='2010 1'),\n",
              " Row(No=196, year=2010, month=1, day=9, hour=3, pm2.5='196', DEWP=-17, TEMP=-15.0, PRES=1027.0, cbwd='NW', Iws=8.05, Is=0, Ir=0, new_column='New', demo feature='2010 1'),\n",
              " Row(No=197, year=2010, month=1, day=9, hour=4, pm2.5='169', DEWP=-17, TEMP=-13.0, PRES=1027.0, cbwd='NW', Iws=9.84, Is=0, Ir=0, new_column='New', demo feature='2010 1'),\n",
              " Row(No=198, year=2010, month=1, day=9, hour=5, pm2.5='155', DEWP=-19, TEMP=-16.0, PRES=1027.0, cbwd='NW', Iws=13.86, Is=0, Ir=0, new_column='New', demo feature='2010 1'),\n",
              " Row(No=199, year=2010, month=1, day=9, hour=6, pm2.5='119', DEWP=-18, TEMP=-15.0, PRES=1027.0, cbwd='NW', Iws=17.88, Is=0, Ir=0, new_column='New', demo feature='2010 1'),\n",
              " Row(No=200, year=2010, month=1, day=9, hour=7, pm2.5='106', DEWP=-19, TEMP=-15.0, PRES=1027.0, cbwd='NW', Iws=21.9, Is=0, Ir=0, new_column='New', demo feature='2010 1'),\n",
              " Row(No=201, year=2010, month=1, day=9, hour=8, pm2.5='93', DEWP=-18, TEMP=-14.0, PRES=1028.0, cbwd='NW', Iws=25.92, Is=0, Ir=0, new_column='New', demo feature='2010 1'),\n",
              " Row(No=202, year=2010, month=1, day=9, hour=9, pm2.5='84', DEWP=-18, TEMP=-9.0, PRES=1029.0, cbwd='NE', Iws=5.81, Is=0, Ir=0, new_column='New', demo feature='2010 1'),\n",
              " Row(No=203, year=2010, month=1, day=9, hour=10, pm2.5='73', DEWP=-17, TEMP=-7.0, PRES=1029.0, cbwd='NE', Iws=11.62, Is=0, Ir=0, new_column='New', demo feature='2010 1'),\n",
              " Row(No=204, year=2010, month=1, day=9, hour=11, pm2.5='66', DEWP=-17, TEMP=-6.0, PRES=1030.0, cbwd='NE', Iws=17.43, Is=0, Ir=0, new_column='New', demo feature='2010 1'),\n",
              " Row(No=205, year=2010, month=1, day=9, hour=12, pm2.5='40', DEWP=-16, TEMP=-6.0, PRES=1029.0, cbwd='NE', Iws=23.24, Is=0, Ir=0, new_column='New', demo feature='2010 1'),\n",
              " Row(No=206, year=2010, month=1, day=9, hour=13, pm2.5='49', DEWP=-16, TEMP=-5.0, PRES=1029.0, cbwd='NE', Iws=28.16, Is=0, Ir=0, new_column='New', demo feature='2010 1'),\n",
              " Row(No=207, year=2010, month=1, day=9, hour=14, pm2.5='50', DEWP=-15, TEMP=-4.0, PRES=1029.0, cbwd='NE', Iws=33.08, Is=0, Ir=0, new_column='New', demo feature='2010 1'),\n",
              " Row(No=208, year=2010, month=1, day=9, hour=15, pm2.5='49', DEWP=-14, TEMP=-4.0, PRES=1028.0, cbwd='NE', Iws=37.1, Is=0, Ir=0, new_column='New', demo feature='2010 1'),\n",
              " Row(No=209, year=2010, month=1, day=9, hour=16, pm2.5='41', DEWP=-15, TEMP=-4.0, PRES=1029.0, cbwd='NE', Iws=38.89, Is=0, Ir=0, new_column='New', demo feature='2010 1'),\n",
              " Row(No=210, year=2010, month=1, day=9, hour=17, pm2.5='37', DEWP=-15, TEMP=-4.0, PRES=1030.0, cbwd='NW', Iws=1.79, Is=0, Ir=0, new_column='New', demo feature='2010 1'),\n",
              " Row(No=211, year=2010, month=1, day=9, hour=18, pm2.5='45', DEWP=-15, TEMP=-7.0, PRES=1030.0, cbwd='NE', Iws=3.13, Is=0, Ir=0, new_column='New', demo feature='2010 1'),\n",
              " Row(No=212, year=2010, month=1, day=9, hour=19, pm2.5='44', DEWP=-15, TEMP=-6.0, PRES=1031.0, cbwd='NW', Iws=3.13, Is=0, Ir=0, new_column='New', demo feature='2010 1'),\n",
              " Row(No=213, year=2010, month=1, day=9, hour=20, pm2.5='54', DEWP=-15, TEMP=-7.0, PRES=1032.0, cbwd='NW', Iws=4.92, Is=0, Ir=0, new_column='New', demo feature='2010 1'),\n",
              " Row(No=214, year=2010, month=1, day=9, hour=21, pm2.5='50', DEWP=-15, TEMP=-6.0, PRES=1032.0, cbwd='NE', Iws=3.13, Is=0, Ir=0, new_column='New', demo feature='2010 1'),\n",
              " Row(No=215, year=2010, month=1, day=9, hour=22, pm2.5='47', DEWP=-15, TEMP=-8.0, PRES=1033.0, cbwd='cv', Iws=0.45, Is=0, Ir=0, new_column='New', demo feature='2010 1'),\n",
              " Row(No=216, year=2010, month=1, day=9, hour=23, pm2.5='66', DEWP=-15, TEMP=-8.0, PRES=1033.0, cbwd='cv', Iws=0.9, Is=0, Ir=0, new_column='New', demo feature='2010 1'),\n",
              " Row(No=217, year=2010, month=1, day=10, hour=0, pm2.5='75', DEWP=-15, TEMP=-11.0, PRES=1033.0, cbwd='NW', Iws=0.89, Is=0, Ir=0, new_column='New', demo feature='2010 1'),\n",
              " Row(No=218, year=2010, month=1, day=10, hour=1, pm2.5='82', DEWP=-17, TEMP=-13.0, PRES=1033.0, cbwd='NW', Iws=1.78, Is=0, Ir=0, new_column='New', demo feature='2010 1'),\n",
              " Row(No=219, year=2010, month=1, day=10, hour=2, pm2.5='66', DEWP=-17, TEMP=-12.0, PRES=1033.0, cbwd='NW', Iws=4.91, Is=0, Ir=0, new_column='New', demo feature='2010 1'),\n",
              " Row(No=220, year=2010, month=1, day=10, hour=3, pm2.5='83', DEWP=-17, TEMP=-13.0, PRES=1033.0, cbwd='NW', Iws=8.04, Is=0, Ir=0, new_column='New', demo feature='2010 1'),\n",
              " Row(No=221, year=2010, month=1, day=10, hour=4, pm2.5='62', DEWP=-19, TEMP=-14.0, PRES=1032.0, cbwd='NW', Iws=9.83, Is=0, Ir=0, new_column='New', demo feature='2010 1'),\n",
              " Row(No=222, year=2010, month=1, day=10, hour=5, pm2.5='40', DEWP=-18, TEMP=-13.0, PRES=1032.0, cbwd='NW', Iws=12.96, Is=0, Ir=0, new_column='New', demo feature='2010 1'),\n",
              " Row(No=223, year=2010, month=1, day=10, hour=6, pm2.5='23', DEWP=-19, TEMP=-13.0, PRES=1032.0, cbwd='NW', Iws=16.09, Is=0, Ir=0, new_column='New', demo feature='2010 1'),\n",
              " Row(No=224, year=2010, month=1, day=10, hour=7, pm2.5='25', DEWP=-19, TEMP=-14.0, PRES=1033.0, cbwd='NW', Iws=19.22, Is=0, Ir=0, new_column='New', demo feature='2010 1'),\n",
              " Row(No=225, year=2010, month=1, day=10, hour=8, pm2.5='27', DEWP=-19, TEMP=-14.0, PRES=1034.0, cbwd='NW', Iws=22.35, Is=0, Ir=0, new_column='New', demo feature='2010 1'),\n",
              " Row(No=226, year=2010, month=1, day=10, hour=9, pm2.5='35', DEWP=-17, TEMP=-12.0, PRES=1033.0, cbwd='NW', Iws=24.14, Is=0, Ir=0, new_column='New', demo feature='2010 1'),\n",
              " Row(No=227, year=2010, month=1, day=10, hour=10, pm2.5='50', DEWP=-16, TEMP=-7.0, PRES=1033.0, cbwd='NE', Iws=4.02, Is=0, Ir=0, new_column='New', demo feature='2010 1'),\n",
              " Row(No=228, year=2010, month=1, day=10, hour=11, pm2.5='70', DEWP=-15, TEMP=-7.0, PRES=1033.0, cbwd='NW', Iws=3.13, Is=0, Ir=0, new_column='New', demo feature='2010 1'),\n",
              " Row(No=229, year=2010, month=1, day=10, hour=12, pm2.5='75', DEWP=-15, TEMP=-7.0, PRES=1032.0, cbwd='NW', Iws=6.26, Is=0, Ir=0, new_column='New', demo feature='2010 1'),\n",
              " Row(No=230, year=2010, month=1, day=10, hour=13, pm2.5='58', DEWP=-14, TEMP=-6.0, PRES=1031.0, cbwd='NW', Iws=9.39, Is=0, Ir=0, new_column='New', demo feature='2010 1'),\n",
              " Row(No=231, year=2010, month=1, day=10, hour=14, pm2.5='70', DEWP=-14, TEMP=-6.0, PRES=1031.0, cbwd='NW', Iws=12.52, Is=0, Ir=0, new_column='New', demo feature='2010 1'),\n",
              " Row(No=232, year=2010, month=1, day=10, hour=15, pm2.5='68', DEWP=-13, TEMP=-5.0, PRES=1030.0, cbwd='NW', Iws=14.31, Is=0, Ir=0, new_column='New', demo feature='2010 1'),\n",
              " Row(No=233, year=2010, month=1, day=10, hour=16, pm2.5='71', DEWP=-14, TEMP=-5.0, PRES=1031.0, cbwd='NW', Iws=16.1, Is=0, Ir=0, new_column='New', demo feature='2010 1'),\n",
              " Row(No=234, year=2010, month=1, day=10, hour=17, pm2.5='88', DEWP=-14, TEMP=-6.0, PRES=1031.0, cbwd='NW', Iws=19.23, Is=0, Ir=0, new_column='New', demo feature='2010 1'),\n",
              " Row(No=235, year=2010, month=1, day=10, hour=18, pm2.5='84', DEWP=-13, TEMP=-7.0, PRES=1032.0, cbwd='NW', Iws=23.25, Is=0, Ir=0, new_column='New', demo feature='2010 1'),\n",
              " Row(No=236, year=2010, month=1, day=10, hour=19, pm2.5='83', DEWP=-15, TEMP=-6.0, PRES=1032.0, cbwd='NW', Iws=27.27, Is=0, Ir=0, new_column='New', demo feature='2010 1'),\n",
              " Row(No=237, year=2010, month=1, day=10, hour=20, pm2.5='66', DEWP=-15, TEMP=-6.0, PRES=1033.0, cbwd='NW', Iws=30.4, Is=0, Ir=0, new_column='New', demo feature='2010 1'),\n",
              " Row(No=238, year=2010, month=1, day=10, hour=21, pm2.5='27', DEWP=-15, TEMP=-4.0, PRES=1034.0, cbwd='NW', Iws=35.32, Is=0, Ir=0, new_column='New', demo feature='2010 1'),\n",
              " Row(No=239, year=2010, month=1, day=10, hour=22, pm2.5='24', DEWP=-16, TEMP=-4.0, PRES=1034.0, cbwd='NW', Iws=44.26, Is=0, Ir=0, new_column='New', demo feature='2010 1'),\n",
              " Row(No=240, year=2010, month=1, day=10, hour=23, pm2.5='22', DEWP=-17, TEMP=-5.0, PRES=1035.0, cbwd='NW', Iws=52.31, Is=0, Ir=0, new_column='New', demo feature='2010 1'),\n",
              " Row(No=241, year=2010, month=1, day=11, hour=0, pm2.5='23', DEWP=-17, TEMP=-6.0, PRES=1035.0, cbwd='NW', Iws=60.36, Is=0, Ir=0, new_column='New', demo feature='2010 1'),\n",
              " Row(No=242, year=2010, month=1, day=11, hour=1, pm2.5='27', DEWP=-17, TEMP=-8.0, PRES=1035.0, cbwd='cv', Iws=0.89, Is=0, Ir=0, new_column='New', demo feature='2010 1'),\n",
              " Row(No=243, year=2010, month=1, day=11, hour=2, pm2.5='23', DEWP=-19, TEMP=-11.0, PRES=1036.0, cbwd='NW', Iws=4.02, Is=0, Ir=0, new_column='New', demo feature='2010 1'),\n",
              " Row(No=244, year=2010, month=1, day=11, hour=3, pm2.5='17', DEWP=-20, TEMP=-11.0, PRES=1036.0, cbwd='NW', Iws=8.94, Is=0, Ir=0, new_column='New', demo feature='2010 1'),\n",
              " Row(No=245, year=2010, month=1, day=11, hour=4, pm2.5='17', DEWP=-21, TEMP=-11.0, PRES=1035.0, cbwd='NE', Iws=4.02, Is=0, Ir=0, new_column='New', demo feature='2010 1'),\n",
              " Row(No=246, year=2010, month=1, day=11, hour=5, pm2.5='16', DEWP=-22, TEMP=-12.0, PRES=1035.0, cbwd='NW', Iws=3.13, Is=0, Ir=0, new_column='New', demo feature='2010 1'),\n",
              " Row(No=247, year=2010, month=1, day=11, hour=6, pm2.5='16', DEWP=-22, TEMP=-12.0, PRES=1035.0, cbwd='NE', Iws=4.92, Is=0, Ir=0, new_column='New', demo feature='2010 1'),\n",
              " Row(No=248, year=2010, month=1, day=11, hour=7, pm2.5='20', DEWP=-22, TEMP=-13.0, PRES=1036.0, cbwd='NW', Iws=5.81, Is=0, Ir=0, new_column='New', demo feature='2010 1'),\n",
              " Row(No=249, year=2010, month=1, day=11, hour=8, pm2.5='20', DEWP=-22, TEMP=-9.0, PRES=1036.0, cbwd='NW', Iws=13.86, Is=0, Ir=0, new_column='New', demo feature='2010 1'),\n",
              " Row(No=250, year=2010, month=1, day=11, hour=9, pm2.5='18', DEWP=-22, TEMP=-10.0, PRES=1036.0, cbwd='NW', Iws=21.91, Is=0, Ir=0, new_column='New', demo feature='2010 1'),\n",
              " Row(No=251, year=2010, month=1, day=11, hour=10, pm2.5='25', DEWP=-22, TEMP=-9.0, PRES=1036.0, cbwd='NW', Iws=29.06, Is=0, Ir=0, new_column='New', demo feature='2010 1'),\n",
              " Row(No=252, year=2010, month=1, day=11, hour=11, pm2.5='26', DEWP=-21, TEMP=-9.0, PRES=1036.0, cbwd='NW', Iws=33.08, Is=0, Ir=0, new_column='New', demo feature='2010 1'),\n",
              " Row(No=253, year=2010, month=1, day=11, hour=12, pm2.5='27', DEWP=-20, TEMP=-6.0, PRES=1035.0, cbwd='NW', Iws=42.02, Is=0, Ir=0, new_column='New', demo feature='2010 1'),\n",
              " Row(No=254, year=2010, month=1, day=11, hour=13, pm2.5='28', DEWP=-19, TEMP=-5.0, PRES=1034.0, cbwd='NW', Iws=50.96, Is=0, Ir=0, new_column='New', demo feature='2010 1'),\n",
              " Row(No=255, year=2010, month=1, day=11, hour=14, pm2.5='15', DEWP=-19, TEMP=-5.0, PRES=1033.0, cbwd='NW', Iws=59.01, Is=0, Ir=0, new_column='New', demo feature='2010 1'),\n",
              " Row(No=256, year=2010, month=1, day=11, hour=15, pm2.5='24', DEWP=-20, TEMP=-5.0, PRES=1033.0, cbwd='NW', Iws=66.16, Is=0, Ir=0, new_column='New', demo feature='2010 1'),\n",
              " Row(No=257, year=2010, month=1, day=11, hour=16, pm2.5='13', DEWP=-20, TEMP=-5.0, PRES=1032.0, cbwd='NW', Iws=71.97, Is=0, Ir=0, new_column='New', demo feature='2010 1'),\n",
              " Row(No=258, year=2010, month=1, day=11, hour=17, pm2.5='13', DEWP=-20, TEMP=-5.0, PRES=1033.0, cbwd='NW', Iws=76.89, Is=0, Ir=0, new_column='New', demo feature='2010 1'),\n",
              " Row(No=259, year=2010, month=1, day=11, hour=18, pm2.5='13', DEWP=-20, TEMP=-7.0, PRES=1033.0, cbwd='NW', Iws=81.81, Is=0, Ir=0, new_column='New', demo feature='2010 1'),\n",
              " Row(No=260, year=2010, month=1, day=11, hour=19, pm2.5='17', DEWP=-22, TEMP=-7.0, PRES=1033.0, cbwd='NW', Iws=85.83, Is=0, Ir=0, new_column='New', demo feature='2010 1'),\n",
              " Row(No=261, year=2010, month=1, day=11, hour=20, pm2.5='20', DEWP=-22, TEMP=-8.0, PRES=1033.0, cbwd='NW', Iws=89.85, Is=0, Ir=0, new_column='New', demo feature='2010 1'),\n",
              " Row(No=262, year=2010, month=1, day=11, hour=21, pm2.5='27', DEWP=-23, TEMP=-10.0, PRES=1033.0, cbwd='NW', Iws=91.64, Is=0, Ir=0, new_column='New', demo feature='2010 1'),\n",
              " Row(No=263, year=2010, month=1, day=11, hour=22, pm2.5='20', DEWP=-23, TEMP=-13.0, PRES=1033.0, cbwd='NW', Iws=93.43, Is=0, Ir=0, new_column='New', demo feature='2010 1'),\n",
              " Row(No=264, year=2010, month=1, day=11, hour=23, pm2.5='15', DEWP=-22, TEMP=-12.0, PRES=1032.0, cbwd='cv', Iws=0.89, Is=0, Ir=0, new_column='New', demo feature='2010 1'),\n",
              " Row(No=265, year=2010, month=1, day=12, hour=0, pm2.5='21', DEWP=-22, TEMP=-15.0, PRES=1031.0, cbwd='cv', Iws=1.78, Is=0, Ir=0, new_column='New', demo feature='2010 1'),\n",
              " Row(No=266, year=2010, month=1, day=12, hour=1, pm2.5='21', DEWP=-22, TEMP=-14.0, PRES=1031.0, cbwd='NE', Iws=1.79, Is=0, Ir=0, new_column='New', demo feature='2010 1'),\n",
              " Row(No=267, year=2010, month=1, day=12, hour=2, pm2.5='37', DEWP=-22, TEMP=-14.0, PRES=1031.0, cbwd='NW', Iws=0.89, Is=0, Ir=0, new_column='New', demo feature='2010 1'),\n",
              " Row(No=268, year=2010, month=1, day=12, hour=3, pm2.5='26', DEWP=-24, TEMP=-18.0, PRES=1030.0, cbwd='NE', Iws=1.79, Is=0, Ir=0, new_column='New', demo feature='2010 1'),\n",
              " Row(No=269, year=2010, month=1, day=12, hour=4, pm2.5='15', DEWP=-24, TEMP=-13.0, PRES=1030.0, cbwd='NE', Iws=3.58, Is=0, Ir=0, new_column='New', demo feature='2010 1'),\n",
              " Row(No=270, year=2010, month=1, day=12, hour=5, pm2.5='9', DEWP=-25, TEMP=-14.0, PRES=1030.0, cbwd='NW', Iws=3.13, Is=0, Ir=0, new_column='New', demo feature='2010 1'),\n",
              " Row(No=271, year=2010, month=1, day=12, hour=6, pm2.5='11', DEWP=-24, TEMP=-14.0, PRES=1030.0, cbwd='NW', Iws=7.15, Is=0, Ir=0, new_column='New', demo feature='2010 1'),\n",
              " Row(No=272, year=2010, month=1, day=12, hour=7, pm2.5='11', DEWP=-25, TEMP=-12.0, PRES=1030.0, cbwd='NW', Iws=12.96, Is=0, Ir=0, new_column='New', demo feature='2010 1'),\n",
              " Row(No=273, year=2010, month=1, day=12, hour=8, pm2.5='16', DEWP=-26, TEMP=-14.0, PRES=1030.0, cbwd='NW', Iws=16.98, Is=0, Ir=0, new_column='New', demo feature='2010 1'),\n",
              " Row(No=274, year=2010, month=1, day=12, hour=9, pm2.5='13', DEWP=-25, TEMP=-12.0, PRES=1031.0, cbwd='NW', Iws=21.0, Is=0, Ir=0, new_column='New', demo feature='2010 1'),\n",
              " Row(No=275, year=2010, month=1, day=12, hour=10, pm2.5='15', DEWP=-25, TEMP=-11.0, PRES=1031.0, cbwd='NW', Iws=26.81, Is=0, Ir=0, new_column='New', demo feature='2010 1'),\n",
              " Row(No=276, year=2010, month=1, day=12, hour=11, pm2.5='21', DEWP=-24, TEMP=-11.0, PRES=1030.0, cbwd='NW', Iws=35.75, Is=0, Ir=0, new_column='New', demo feature='2010 1'),\n",
              " Row(No=277, year=2010, month=1, day=12, hour=12, pm2.5='24', DEWP=-23, TEMP=-11.0, PRES=1029.0, cbwd='NW', Iws=47.82, Is=0, Ir=0, new_column='New', demo feature='2010 1'),\n",
              " Row(No=278, year=2010, month=1, day=12, hour=13, pm2.5='22', DEWP=-22, TEMP=-11.0, PRES=1029.0, cbwd='NW', Iws=63.02, Is=0, Ir=0, new_column='New', demo feature='2010 1'),\n",
              " Row(No=279, year=2010, month=1, day=12, hour=14, pm2.5='22', DEWP=-23, TEMP=-11.0, PRES=1029.0, cbwd='NW', Iws=75.98, Is=0, Ir=0, new_column='New', demo feature='2010 1'),\n",
              " Row(No=280, year=2010, month=1, day=12, hour=15, pm2.5='22', DEWP=-22, TEMP=-11.0, PRES=1029.0, cbwd='NW', Iws=88.05, Is=0, Ir=0, new_column='New', demo feature='2010 1'),\n",
              " Row(No=281, year=2010, month=1, day=12, hour=16, pm2.5='19', DEWP=-23, TEMP=-11.0, PRES=1030.0, cbwd='NW', Iws=101.01, Is=0, Ir=0, new_column='New', demo feature='2010 1'),\n",
              " Row(No=282, year=2010, month=1, day=12, hour=17, pm2.5='23', DEWP=-24, TEMP=-11.0, PRES=1030.0, cbwd='NW', Iws=109.06, Is=0, Ir=0, new_column='New', demo feature='2010 1'),\n",
              " Row(No=283, year=2010, month=1, day=12, hour=18, pm2.5='25', DEWP=-24, TEMP=-11.0, PRES=1032.0, cbwd='NW', Iws=118.0, Is=0, Ir=0, new_column='New', demo feature='2010 1'),\n",
              " Row(No=284, year=2010, month=1, day=12, hour=19, pm2.5='25', DEWP=-23, TEMP=-11.0, PRES=1032.0, cbwd='NW', Iws=126.05, Is=0, Ir=0, new_column='New', demo feature='2010 1'),\n",
              " Row(No=285, year=2010, month=1, day=12, hour=20, pm2.5='31', DEWP=-23, TEMP=-12.0, PRES=1032.0, cbwd='NW', Iws=134.1, Is=0, Ir=0, new_column='New', demo feature='2010 1'),\n",
              " Row(No=286, year=2010, month=1, day=12, hour=21, pm2.5='25', DEWP=-24, TEMP=-12.0, PRES=1033.0, cbwd='NW', Iws=142.15, Is=0, Ir=0, new_column='New', demo feature='2010 1'),\n",
              " Row(No=287, year=2010, month=1, day=12, hour=22, pm2.5='22', DEWP=-23, TEMP=-12.0, PRES=1033.0, cbwd='NW', Iws=150.2, Is=0, Ir=0, new_column='New', demo feature='2010 1'),\n",
              " Row(No=288, year=2010, month=1, day=12, hour=23, pm2.5='22', DEWP=-23, TEMP=-12.0, PRES=1034.0, cbwd='NW', Iws=160.03, Is=0, Ir=0, new_column='New', demo feature='2010 1'),\n",
              " Row(No=289, year=2010, month=1, day=13, hour=0, pm2.5='15', DEWP=-24, TEMP=-12.0, PRES=1034.0, cbwd='NW', Iws=169.86, Is=0, Ir=0, new_column='New', demo feature='2010 1'),\n",
              " Row(No=290, year=2010, month=1, day=13, hour=1, pm2.5='16', DEWP=-24, TEMP=-12.0, PRES=1033.0, cbwd='NW', Iws=178.8, Is=0, Ir=0, new_column='New', demo feature='2010 1'),\n",
              " Row(No=291, year=2010, month=1, day=13, hour=2, pm2.5='11', DEWP=-25, TEMP=-12.0, PRES=1033.0, cbwd='NW', Iws=189.98, Is=0, Ir=0, new_column='New', demo feature='2010 1'),\n",
              " Row(No=292, year=2010, month=1, day=13, hour=3, pm2.5='11', DEWP=-24, TEMP=-13.0, PRES=1033.0, cbwd='NW', Iws=198.03, Is=0, Ir=0, new_column='New', demo feature='2010 1'),\n",
              " Row(No=293, year=2010, month=1, day=13, hour=4, pm2.5='12', DEWP=-25, TEMP=-12.0, PRES=1032.0, cbwd='NW', Iws=205.18, Is=0, Ir=0, new_column='New', demo feature='2010 1'),\n",
              " Row(No=294, year=2010, month=1, day=13, hour=5, pm2.5='11', DEWP=-25, TEMP=-12.0, PRES=1033.0, cbwd='NW', Iws=215.01, Is=0, Ir=0, new_column='New', demo feature='2010 1'),\n",
              " Row(No=295, year=2010, month=1, day=13, hour=6, pm2.5='12', DEWP=-25, TEMP=-12.0, PRES=1032.0, cbwd='NW', Iws=226.19, Is=0, Ir=0, new_column='New', demo feature='2010 1'),\n",
              " Row(No=296, year=2010, month=1, day=13, hour=7, pm2.5='27', DEWP=-25, TEMP=-12.0, PRES=1032.0, cbwd='NW', Iws=235.13, Is=0, Ir=0, new_column='New', demo feature='2010 1'),\n",
              " Row(No=297, year=2010, month=1, day=13, hour=8, pm2.5='28', DEWP=-25, TEMP=-12.0, PRES=1032.0, cbwd='NW', Iws=243.18, Is=0, Ir=0, new_column='New', demo feature='2010 1'),\n",
              " Row(No=298, year=2010, month=1, day=13, hour=9, pm2.5='34', DEWP=-23, TEMP=-11.0, PRES=1033.0, cbwd='NW', Iws=252.12, Is=0, Ir=0, new_column='New', demo feature='2010 1'),\n",
              " Row(No=299, year=2010, month=1, day=13, hour=10, pm2.5='33', DEWP=-23, TEMP=-10.0, PRES=1033.0, cbwd='NW', Iws=257.93, Is=0, Ir=0, new_column='New', demo feature='2010 1'),\n",
              " Row(No=300, year=2010, month=1, day=13, hour=11, pm2.5='36', DEWP=-22, TEMP=-9.0, PRES=1033.0, cbwd='NW', Iws=263.74, Is=0, Ir=0, new_column='New', demo feature='2010 1'),\n",
              " Row(No=301, year=2010, month=1, day=13, hour=12, pm2.5='26', DEWP=-21, TEMP=-8.0, PRES=1031.0, cbwd='NW', Iws=270.89, Is=0, Ir=0, new_column='New', demo feature='2010 1'),\n",
              " Row(No=302, year=2010, month=1, day=13, hour=13, pm2.5='49', DEWP=-21, TEMP=-6.0, PRES=1030.0, cbwd='NW', Iws=278.94, Is=0, Ir=0, new_column='New', demo feature='2010 1'),\n",
              " Row(No=303, year=2010, month=1, day=13, hour=14, pm2.5='52', DEWP=-20, TEMP=-5.0, PRES=1029.0, cbwd='NW', Iws=286.99, Is=0, Ir=0, new_column='New', demo feature='2010 1'),\n",
              " Row(No=304, year=2010, month=1, day=13, hour=15, pm2.5='47', DEWP=-22, TEMP=-5.0, PRES=1028.0, cbwd='NW', Iws=294.14, Is=0, Ir=0, new_column='New', demo feature='2010 1'),\n",
              " Row(No=305, year=2010, month=1, day=13, hour=16, pm2.5='47', DEWP=-21, TEMP=-5.0, PRES=1028.0, cbwd='NW', Iws=299.06, Is=0, Ir=0, new_column='New', demo feature='2010 1'),\n",
              " Row(No=306, year=2010, month=1, day=13, hour=17, pm2.5='39', DEWP=-19, TEMP=-7.0, PRES=1028.0, cbwd='SE', Iws=1.79, Is=0, Ir=0, new_column='New', demo feature='2010 1'),\n",
              " Row(No=307, year=2010, month=1, day=13, hour=18, pm2.5='59', DEWP=-19, TEMP=-8.0, PRES=1028.0, cbwd='cv', Iws=0.45, Is=0, Ir=0, new_column='New', demo feature='2010 1'),\n",
              " Row(No=308, year=2010, month=1, day=13, hour=19, pm2.5='76', DEWP=-20, TEMP=-9.0, PRES=1028.0, cbwd='cv', Iws=1.34, Is=0, Ir=0, new_column='New', demo feature='2010 1'),\n",
              " Row(No=309, year=2010, month=1, day=13, hour=20, pm2.5='96', DEWP=-19, TEMP=-10.0, PRES=1027.0, cbwd='SE', Iws=1.79, Is=0, Ir=0, new_column='New', demo feature='2010 1'),\n",
              " Row(No=310, year=2010, month=1, day=13, hour=21, pm2.5='95', DEWP=-19, TEMP=-13.0, PRES=1027.0, cbwd='cv', Iws=0.89, Is=0, Ir=0, new_column='New', demo feature='2010 1'),\n",
              " Row(No=311, year=2010, month=1, day=13, hour=22, pm2.5='68', DEWP=-18, TEMP=-12.0, PRES=1027.0, cbwd='cv', Iws=1.78, Is=0, Ir=0, new_column='New', demo feature='2010 1'),\n",
              " Row(No=312, year=2010, month=1, day=13, hour=23, pm2.5='65', DEWP=-18, TEMP=-13.0, PRES=1027.0, cbwd='NE', Iws=0.89, Is=0, Ir=0, new_column='New', demo feature='2010 1'),\n",
              " Row(No=313, year=2010, month=1, day=14, hour=0, pm2.5='75', DEWP=-18, TEMP=-14.0, PRES=1026.0, cbwd='NE', Iws=1.78, Is=0, Ir=0, new_column='New', demo feature='2010 1'),\n",
              " Row(No=314, year=2010, month=1, day=14, hour=1, pm2.5='257', DEWP=-20, TEMP=-15.0, PRES=1025.0, cbwd='NE', Iws=2.67, Is=0, Ir=0, new_column='New', demo feature='2010 1'),\n",
              " Row(No=315, year=2010, month=1, day=14, hour=2, pm2.5='174', DEWP=-20, TEMP=-15.0, PRES=1025.0, cbwd='NW', Iws=0.89, Is=0, Ir=0, new_column='New', demo feature='2010 1'),\n",
              " Row(No=316, year=2010, month=1, day=14, hour=3, pm2.5='164', DEWP=-20, TEMP=-16.0, PRES=1025.0, cbwd='NW', Iws=1.78, Is=0, Ir=0, new_column='New', demo feature='2010 1'),\n",
              " Row(No=317, year=2010, month=1, day=14, hour=4, pm2.5='161', DEWP=-20, TEMP=-16.0, PRES=1024.0, cbwd='NW', Iws=3.57, Is=0, Ir=0, new_column='New', demo feature='2010 1'),\n",
              " Row(No=318, year=2010, month=1, day=14, hour=5, pm2.5='137', DEWP=-21, TEMP=-17.0, PRES=1024.0, cbwd='NW', Iws=6.7, Is=0, Ir=0, new_column='New', demo feature='2010 1'),\n",
              " Row(No=319, year=2010, month=1, day=14, hour=6, pm2.5='92', DEWP=-19, TEMP=-14.0, PRES=1023.0, cbwd='NW', Iws=10.72, Is=0, Ir=0, new_column='New', demo feature='2010 1'),\n",
              " Row(No=320, year=2010, month=1, day=14, hour=7, pm2.5='64', DEWP=-21, TEMP=-17.0, PRES=1023.0, cbwd='NW', Iws=13.85, Is=0, Ir=0, new_column='New', demo feature='2010 1'),\n",
              " Row(No=321, year=2010, month=1, day=14, hour=8, pm2.5='87', DEWP=-19, TEMP=-15.0, PRES=1024.0, cbwd='NW', Iws=15.64, Is=0, Ir=0, new_column='New', demo feature='2010 1'),\n",
              " Row(No=322, year=2010, month=1, day=14, hour=9, pm2.5='87', DEWP=-19, TEMP=-14.0, PRES=1024.0, cbwd='NW', Iws=18.77, Is=0, Ir=0, new_column='New', demo feature='2010 1'),\n",
              " Row(No=323, year=2010, month=1, day=14, hour=10, pm2.5='84', DEWP=-18, TEMP=-10.0, PRES=1024.0, cbwd='NW', Iws=22.79, Is=0, Ir=0, new_column='New', demo feature='2010 1'),\n",
              " Row(No=324, year=2010, month=1, day=14, hour=11, pm2.5='95', DEWP=-17, TEMP=-9.0, PRES=1023.0, cbwd='NW', Iws=24.58, Is=0, Ir=0, new_column='New', demo feature='2010 1'),\n",
              " Row(No=325, year=2010, month=1, day=14, hour=12, pm2.5='79', DEWP=-16, TEMP=-6.0, PRES=1023.0, cbwd='NW', Iws=26.37, Is=0, Ir=0, new_column='New', demo feature='2010 1'),\n",
              " Row(No=326, year=2010, month=1, day=14, hour=13, pm2.5='75', DEWP=-17, TEMP=-5.0, PRES=1022.0, cbwd='NW', Iws=28.16, Is=0, Ir=0, new_column='New', demo feature='2010 1'),\n",
              " Row(No=327, year=2010, month=1, day=14, hour=14, pm2.5='79', DEWP=-16, TEMP=-5.0, PRES=1022.0, cbwd='NW', Iws=29.95, Is=0, Ir=0, new_column='New', demo feature='2010 1'),\n",
              " Row(No=328, year=2010, month=1, day=14, hour=15, pm2.5='86', DEWP=-15, TEMP=-4.0, PRES=1022.0, cbwd='NW', Iws=33.08, Is=0, Ir=0, new_column='New', demo feature='2010 1'),\n",
              " Row(No=329, year=2010, month=1, day=14, hour=16, pm2.5='72', DEWP=-16, TEMP=-4.0, PRES=1023.0, cbwd='cv', Iws=0.89, Is=0, Ir=0, new_column='New', demo feature='2010 1'),\n",
              " Row(No=330, year=2010, month=1, day=14, hour=17, pm2.5='89', DEWP=-15, TEMP=-5.0, PRES=1025.0, cbwd='SE', Iws=1.79, Is=0, Ir=0, new_column='New', demo feature='2010 1'),\n",
              " Row(No=331, year=2010, month=1, day=14, hour=18, pm2.5='94', DEWP=-14, TEMP=-3.0, PRES=1026.0, cbwd='NW', Iws=5.81, Is=0, Ir=0, new_column='New', demo feature='2010 1'),\n",
              " Row(No=332, year=2010, month=1, day=14, hour=19, pm2.5='69', DEWP=-16, TEMP=-3.0, PRES=1027.0, cbwd='NW', Iws=11.62, Is=0, Ir=0, new_column='New', demo feature='2010 1'),\n",
              " Row(No=333, year=2010, month=1, day=14, hour=20, pm2.5='49', DEWP=-15, TEMP=-4.0, PRES=1029.0, cbwd='NW', Iws=20.56, Is=0, Ir=0, new_column='New', demo feature='2010 1'),\n",
              " Row(No=334, year=2010, month=1, day=14, hour=21, pm2.5='33', DEWP=-16, TEMP=-5.0, PRES=1031.0, cbwd='NW', Iws=24.58, Is=0, Ir=0, new_column='New', demo feature='2010 1'),\n",
              " Row(No=335, year=2010, month=1, day=14, hour=22, pm2.5='27', DEWP=-17, TEMP=-6.0, PRES=1032.0, cbwd='NE', Iws=3.13, Is=0, Ir=0, new_column='New', demo feature='2010 1'),\n",
              " Row(No=336, year=2010, month=1, day=14, hour=23, pm2.5='20', DEWP=-18, TEMP=-6.0, PRES=1033.0, cbwd='NE', Iws=8.05, Is=0, Ir=0, new_column='New', demo feature='2010 1'),\n",
              " Row(No=337, year=2010, month=1, day=15, hour=0, pm2.5='36', DEWP=-19, TEMP=-7.0, PRES=1034.0, cbwd='NE', Iws=13.86, Is=0, Ir=0, new_column='New', demo feature='2010 1'),\n",
              " Row(No=338, year=2010, month=1, day=15, hour=1, pm2.5='37', DEWP=-17, TEMP=-8.0, PRES=1035.0, cbwd='NW', Iws=5.81, Is=0, Ir=0, new_column='New', demo feature='2010 1'),\n",
              " Row(No=339, year=2010, month=1, day=15, hour=2, pm2.5='30', DEWP=-18, TEMP=-10.0, PRES=1035.0, cbwd='NW', Iws=11.62, Is=0, Ir=0, new_column='New', demo feature='2010 1'),\n",
              " Row(No=340, year=2010, month=1, day=15, hour=3, pm2.5='18', DEWP=-19, TEMP=-10.0, PRES=1036.0, cbwd='NW', Iws=14.75, Is=0, Ir=0, new_column='New', demo feature='2010 1'),\n",
              " Row(No=341, year=2010, month=1, day=15, hour=4, pm2.5='21', DEWP=-19, TEMP=-9.0, PRES=1036.0, cbwd='NW', Iws=19.67, Is=0, Ir=0, new_column='New', demo feature='2010 1'),\n",
              " Row(No=342, year=2010, month=1, day=15, hour=5, pm2.5='13', DEWP=-19, TEMP=-9.0, PRES=1036.0, cbwd='NE', Iws=7.15, Is=0, Ir=0, new_column='New', demo feature='2010 1'),\n",
              " Row(No=343, year=2010, month=1, day=15, hour=6, pm2.5='23', DEWP=-20, TEMP=-9.0, PRES=1037.0, cbwd='NE', Iws=12.96, Is=0, Ir=0, new_column='New', demo feature='2010 1'),\n",
              " Row(No=344, year=2010, month=1, day=15, hour=7, pm2.5='26', DEWP=-19, TEMP=-9.0, PRES=1037.0, cbwd='NE', Iws=18.77, Is=0, Ir=0, new_column='New', demo feature='2010 1'),\n",
              " Row(No=345, year=2010, month=1, day=15, hour=8, pm2.5='27', DEWP=-19, TEMP=-8.0, PRES=1038.0, cbwd='NE', Iws=22.79, Is=0, Ir=0, new_column='New', demo feature='2010 1'),\n",
              " Row(No=346, year=2010, month=1, day=15, hour=9, pm2.5='30', DEWP=-19, TEMP=-8.0, PRES=1039.0, cbwd='NE', Iws=28.6, Is=0, Ir=0, new_column='New', demo feature='2010 1'),\n",
              " Row(No=347, year=2010, month=1, day=15, hour=10, pm2.5='28', DEWP=-19, TEMP=-7.0, PRES=1039.0, cbwd='NE', Iws=35.75, Is=0, Ir=0, new_column='New', demo feature='2010 1'),\n",
              " Row(No=348, year=2010, month=1, day=15, hour=11, pm2.5='26', DEWP=-18, TEMP=-6.0, PRES=1039.0, cbwd='NE', Iws=41.56, Is=0, Ir=0, new_column='New', demo feature='2010 1'),\n",
              " Row(No=349, year=2010, month=1, day=15, hour=12, pm2.5='26', DEWP=-18, TEMP=-5.0, PRES=1039.0, cbwd='NE', Iws=45.58, Is=0, Ir=0, new_column='New', demo feature='2010 1'),\n",
              " Row(No=350, year=2010, month=1, day=15, hour=13, pm2.5='31', DEWP=-17, TEMP=-4.0, PRES=1038.0, cbwd='NW', Iws=1.79, Is=0, Ir=0, new_column='New', demo feature='2010 1'),\n",
              " Row(No=351, year=2010, month=1, day=15, hour=14, pm2.5='35', DEWP=-16, TEMP=-3.0, PRES=1037.0, cbwd='cv', Iws=0.89, Is=0, Ir=0, new_column='New', demo feature='2010 1'),\n",
              " Row(No=352, year=2010, month=1, day=15, hour=15, pm2.5='36', DEWP=-17, TEMP=-3.0, PRES=1037.0, cbwd='cv', Iws=1.78, Is=0, Ir=0, new_column='New', demo feature='2010 1'),\n",
              " Row(No=353, year=2010, month=1, day=15, hour=16, pm2.5='37', DEWP=-17, TEMP=-2.0, PRES=1037.0, cbwd='cv', Iws=2.23, Is=0, Ir=0, new_column='New', demo feature='2010 1'),\n",
              " Row(No=354, year=2010, month=1, day=15, hour=17, pm2.5='64', DEWP=-15, TEMP=-5.0, PRES=1036.0, cbwd='SE', Iws=0.89, Is=0, Ir=0, new_column='New', demo feature='2010 1'),\n",
              " Row(No=355, year=2010, month=1, day=15, hour=18, pm2.5='83', DEWP=-15, TEMP=-6.0, PRES=1036.0, cbwd='cv', Iws=0.89, Is=0, Ir=0, new_column='New', demo feature='2010 1'),\n",
              " Row(No=356, year=2010, month=1, day=15, hour=19, pm2.5='91', DEWP=-15, TEMP=-6.0, PRES=1037.0, cbwd='cv', Iws=1.78, Is=0, Ir=0, new_column='New', demo feature='2010 1'),\n",
              " Row(No=357, year=2010, month=1, day=15, hour=20, pm2.5='90', DEWP=-14, TEMP=-6.0, PRES=1037.0, cbwd='SE', Iws=1.79, Is=0, Ir=0, new_column='New', demo feature='2010 1'),\n",
              " Row(No=358, year=2010, month=1, day=15, hour=21, pm2.5='102', DEWP=-14, TEMP=-8.0, PRES=1036.0, cbwd='SE', Iws=3.58, Is=0, Ir=0, new_column='New', demo feature='2010 1'),\n",
              " Row(No=359, year=2010, month=1, day=15, hour=22, pm2.5='94', DEWP=-14, TEMP=-10.0, PRES=1037.0, cbwd='cv', Iws=0.89, Is=0, Ir=0, new_column='New', demo feature='2010 1'),\n",
              " Row(No=360, year=2010, month=1, day=15, hour=23, pm2.5='87', DEWP=-15, TEMP=-11.0, PRES=1036.0, cbwd='cv', Iws=1.78, Is=0, Ir=0, new_column='New', demo feature='2010 1'),\n",
              " Row(No=361, year=2010, month=1, day=16, hour=0, pm2.5='141', DEWP=-15, TEMP=-11.0, PRES=1036.0, cbwd='cv', Iws=2.67, Is=0, Ir=0, new_column='New', demo feature='2010 1'),\n",
              " Row(No=362, year=2010, month=1, day=16, hour=1, pm2.5='211', DEWP=-16, TEMP=-13.0, PRES=1036.0, cbwd='NE', Iws=0.89, Is=0, Ir=0, new_column='New', demo feature='2010 1'),\n",
              " Row(No=363, year=2010, month=1, day=16, hour=2, pm2.5='242', DEWP=-16, TEMP=-12.0, PRES=1036.0, cbwd='cv', Iws=0.89, Is=0, Ir=0, new_column='New', demo feature='2010 1'),\n",
              " Row(No=364, year=2010, month=1, day=16, hour=3, pm2.5='271', DEWP=-16, TEMP=-13.0, PRES=1035.0, cbwd='NE', Iws=0.89, Is=0, Ir=0, new_column='New', demo feature='2010 1'),\n",
              " Row(No=365, year=2010, month=1, day=16, hour=4, pm2.5='249', DEWP=-15, TEMP=-12.0, PRES=1035.0, cbwd='NE', Iws=1.78, Is=0, Ir=0, new_column='New', demo feature='2010 1'),\n",
              " Row(No=366, year=2010, month=1, day=16, hour=5, pm2.5='200', DEWP=-14, TEMP=-10.0, PRES=1034.0, cbwd='NW', Iws=1.79, Is=0, Ir=0, new_column='New', demo feature='2010 1'),\n",
              " Row(No=367, year=2010, month=1, day=16, hour=6, pm2.5='147', DEWP=-15, TEMP=-10.0, PRES=1034.0, cbwd='NW', Iws=2.68, Is=0, Ir=0, new_column='New', demo feature='2010 1'),\n",
              " Row(No=368, year=2010, month=1, day=16, hour=7, pm2.5='114', DEWP=-15, TEMP=-11.0, PRES=1034.0, cbwd='NW', Iws=4.47, Is=0, Ir=0, new_column='New', demo feature='2010 1'),\n",
              " Row(No=369, year=2010, month=1, day=16, hour=8, pm2.5='102', DEWP=-15, TEMP=-11.0, PRES=1034.0, cbwd='NW', Iws=6.26, Is=0, Ir=0, new_column='New', demo feature='2010 1'),\n",
              " Row(No=370, year=2010, month=1, day=16, hour=9, pm2.5='108', DEWP=-14, TEMP=-9.0, PRES=1034.0, cbwd='NW', Iws=8.05, Is=0, Ir=0, new_column='New', demo feature='2010 1'),\n",
              " Row(No=371, year=2010, month=1, day=16, hour=10, pm2.5='135', DEWP=-14, TEMP=-9.0, PRES=1034.0, cbwd='NW', Iws=9.84, Is=0, Ir=0, new_column='New', demo feature='2010 1'),\n",
              " Row(No=372, year=2010, month=1, day=16, hour=11, pm2.5='120', DEWP=-13, TEMP=-6.0, PRES=1034.0, cbwd='cv', Iws=0.89, Is=0, Ir=0, new_column='New', demo feature='2010 1'),\n",
              " Row(No=373, year=2010, month=1, day=16, hour=12, pm2.5='148', DEWP=-13, TEMP=-5.0, PRES=1033.0, cbwd='NW', Iws=1.79, Is=0, Ir=0, new_column='New', demo feature='2010 1'),\n",
              " Row(No=374, year=2010, month=1, day=16, hour=13, pm2.5='127', DEWP=-12, TEMP=-4.0, PRES=1031.0, cbwd='cv', Iws=0.89, Is=0, Ir=0, new_column='New', demo feature='2010 1'),\n",
              " Row(No=375, year=2010, month=1, day=16, hour=14, pm2.5='128', DEWP=-12, TEMP=-3.0, PRES=1031.0, cbwd='cv', Iws=1.78, Is=0, Ir=0, new_column='New', demo feature='2010 1'),\n",
              " Row(No=376, year=2010, month=1, day=16, hour=15, pm2.5='140', DEWP=-12, TEMP=-3.0, PRES=1030.0, cbwd='cv', Iws=2.67, Is=0, Ir=0, new_column='New', demo feature='2010 1'),\n",
              " Row(No=377, year=2010, month=1, day=16, hour=16, pm2.5='148', DEWP=-11, TEMP=-3.0, PRES=1030.0, cbwd='cv', Iws=3.56, Is=0, Ir=0, new_column='New', demo feature='2010 1'),\n",
              " Row(No=378, year=2010, month=1, day=16, hour=17, pm2.5='150', DEWP=-11, TEMP=-4.0, PRES=1031.0, cbwd='NE', Iws=0.89, Is=0, Ir=0, new_column='New', demo feature='2010 1'),\n",
              " Row(No=379, year=2010, month=1, day=16, hour=18, pm2.5='154', DEWP=-12, TEMP=-7.0, PRES=1031.0, cbwd='cv', Iws=0.89, Is=0, Ir=0, new_column='New', demo feature='2010 1'),\n",
              " Row(No=380, year=2010, month=1, day=16, hour=19, pm2.5='197', DEWP=-12, TEMP=-7.0, PRES=1032.0, cbwd='cv', Iws=1.78, Is=0, Ir=0, new_column='New', demo feature='2010 1'),\n",
              " Row(No=381, year=2010, month=1, day=16, hour=20, pm2.5='235', DEWP=-12, TEMP=-8.0, PRES=1032.0, cbwd='cv', Iws=2.23, Is=0, Ir=0, new_column='New', demo feature='2010 1'),\n",
              " Row(No=382, year=2010, month=1, day=16, hour=21, pm2.5='261', DEWP=-12, TEMP=-9.0, PRES=1032.0, cbwd='cv', Iws=3.12, Is=0, Ir=0, new_column='New', demo feature='2010 1'),\n",
              " Row(No=383, year=2010, month=1, day=16, hour=22, pm2.5='269', DEWP=-13, TEMP=-11.0, PRES=1032.0, cbwd='NW', Iws=0.89, Is=0, Ir=0, new_column='New', demo feature='2010 1'),\n",
              " Row(No=384, year=2010, month=1, day=16, hour=23, pm2.5='266', DEWP=-14, TEMP=-11.0, PRES=1032.0, cbwd='NW', Iws=2.68, Is=0, Ir=0, new_column='New', demo feature='2010 1'),\n",
              " Row(No=385, year=2010, month=1, day=17, hour=0, pm2.5='263', DEWP=-15, TEMP=-12.0, PRES=1032.0, cbwd='NW', Iws=5.81, Is=0, Ir=0, new_column='New', demo feature='2010 1'),\n",
              " Row(No=386, year=2010, month=1, day=17, hour=1, pm2.5='241', DEWP=-14, TEMP=-11.0, PRES=1032.0, cbwd='cv', Iws=0.45, Is=0, Ir=0, new_column='New', demo feature='2010 1'),\n",
              " Row(No=387, year=2010, month=1, day=17, hour=2, pm2.5='205', DEWP=-14, TEMP=-11.0, PRES=1031.0, cbwd='cv', Iws=1.34, Is=0, Ir=0, new_column='New', demo feature='2010 1'),\n",
              " Row(No=388, year=2010, month=1, day=17, hour=3, pm2.5='160', DEWP=-14, TEMP=-12.0, PRES=1031.0, cbwd='NW', Iws=1.79, Is=0, Ir=0, new_column='New', demo feature='2010 1'),\n",
              " Row(No=389, year=2010, month=1, day=17, hour=4, pm2.5='150', DEWP=-14, TEMP=-12.0, PRES=1031.0, cbwd='NW', Iws=3.58, Is=0, Ir=0, new_column='New', demo feature='2010 1'),\n",
              " Row(No=390, year=2010, month=1, day=17, hour=5, pm2.5='148', DEWP=-14, TEMP=-10.0, PRES=1030.0, cbwd='NW', Iws=6.71, Is=0, Ir=0, new_column='New', demo feature='2010 1'),\n",
              " Row(No=391, year=2010, month=1, day=17, hour=6, pm2.5='208', DEWP=-14, TEMP=-11.0, PRES=1030.0, cbwd='NW', Iws=9.84, Is=0, Ir=0, new_column='New', demo feature='2010 1'),\n",
              " Row(No=392, year=2010, month=1, day=17, hour=7, pm2.5='209', DEWP=-15, TEMP=-10.0, PRES=1030.0, cbwd='NW', Iws=11.63, Is=0, Ir=0, new_column='New', demo feature='2010 1'),\n",
              " Row(No=393, year=2010, month=1, day=17, hour=8, pm2.5='183', DEWP=-13, TEMP=-10.0, PRES=1030.0, cbwd='NW', Iws=14.76, Is=0, Ir=0, new_column='New', demo feature='2010 1'),\n",
              " Row(No=394, year=2010, month=1, day=17, hour=9, pm2.5='161', DEWP=-13, TEMP=-8.0, PRES=1030.0, cbwd='NW', Iws=17.89, Is=0, Ir=0, new_column='New', demo feature='2010 1'),\n",
              " Row(No=395, year=2010, month=1, day=17, hour=10, pm2.5='182', DEWP=-12, TEMP=-6.0, PRES=1030.0, cbwd='cv', Iws=0.45, Is=0, Ir=0, new_column='New', demo feature='2010 1'),\n",
              " Row(No=396, year=2010, month=1, day=17, hour=11, pm2.5='230', DEWP=-11, TEMP=-5.0, PRES=1030.0, cbwd='cv', Iws=1.34, Is=0, Ir=0, new_column='New', demo feature='2010 1'),\n",
              " Row(No=397, year=2010, month=1, day=17, hour=12, pm2.5='170', DEWP=-11, TEMP=-4.0, PRES=1029.0, cbwd='cv', Iws=2.23, Is=0, Ir=0, new_column='New', demo feature='2010 1'),\n",
              " Row(No=398, year=2010, month=1, day=17, hour=13, pm2.5='172', DEWP=-11, TEMP=-3.0, PRES=1028.0, cbwd='cv', Iws=3.12, Is=0, Ir=0, new_column='New', demo feature='2010 1'),\n",
              " Row(No=399, year=2010, month=1, day=17, hour=14, pm2.5='154', DEWP=-10, TEMP=-1.0, PRES=1027.0, cbwd='cv', Iws=4.01, Is=0, Ir=0, new_column='New', demo feature='2010 1'),\n",
              " Row(No=400, year=2010, month=1, day=17, hour=15, pm2.5='166', DEWP=-11, TEMP=-1.0, PRES=1027.0, cbwd='cv', Iws=4.46, Is=0, Ir=0, new_column='New', demo feature='2010 1'),\n",
              " Row(No=401, year=2010, month=1, day=17, hour=16, pm2.5='177', DEWP=-10, TEMP=-1.0, PRES=1026.0, cbwd='SE', Iws=0.89, Is=0, Ir=0, new_column='New', demo feature='2010 1'),\n",
              " Row(No=402, year=2010, month=1, day=17, hour=17, pm2.5='191', DEWP=-10, TEMP=-3.0, PRES=1026.0, cbwd='SE', Iws=1.78, Is=0, Ir=0, new_column='New', demo feature='2010 1'),\n",
              " Row(No=403, year=2010, month=1, day=17, hour=18, pm2.5='212', DEWP=-10, TEMP=-5.0, PRES=1027.0, cbwd='SE', Iws=2.67, Is=0, Ir=0, new_column='New', demo feature='2010 1'),\n",
              " Row(No=404, year=2010, month=1, day=17, hour=19, pm2.5='250', DEWP=-10, TEMP=-6.0, PRES=1027.0, cbwd='NE', Iws=0.89, Is=0, Ir=0, new_column='New', demo feature='2010 1'),\n",
              " Row(No=405, year=2010, month=1, day=17, hour=20, pm2.5='268', DEWP=-11, TEMP=-7.0, PRES=1027.0, cbwd='cv', Iws=0.45, Is=0, Ir=0, new_column='New', demo feature='2010 1'),\n",
              " Row(No=406, year=2010, month=1, day=17, hour=21, pm2.5='317', DEWP=-10, TEMP=-7.0, PRES=1027.0, cbwd='cv', Iws=0.9, Is=0, Ir=0, new_column='New', demo feature='2010 1'),\n",
              " Row(No=407, year=2010, month=1, day=17, hour=22, pm2.5='291', DEWP=-11, TEMP=-9.0, PRES=1027.0, cbwd='cv', Iws=1.35, Is=0, Ir=0, new_column='New', demo feature='2010 1'),\n",
              " Row(No=408, year=2010, month=1, day=17, hour=23, pm2.5='313', DEWP=-12, TEMP=-9.0, PRES=1027.0, cbwd='NE', Iws=0.89, Is=0, Ir=0, new_column='New', demo feature='2010 1'),\n",
              " Row(No=409, year=2010, month=1, day=18, hour=0, pm2.5='282', DEWP=-12, TEMP=-10.0, PRES=1028.0, cbwd='cv', Iws=0.89, Is=0, Ir=0, new_column='New', demo feature='2010 1'),\n",
              " Row(No=410, year=2010, month=1, day=18, hour=1, pm2.5='282', DEWP=-13, TEMP=-11.0, PRES=1028.0, cbwd='NW', Iws=3.13, Is=0, Ir=0, new_column='New', demo feature='2010 1'),\n",
              " Row(No=411, year=2010, month=1, day=18, hour=2, pm2.5='303', DEWP=-11, TEMP=-9.0, PRES=1028.0, cbwd='NW', Iws=4.92, Is=0, Ir=0, new_column='New', demo feature='2010 1'),\n",
              " Row(No=412, year=2010, month=1, day=18, hour=3, pm2.5='349', DEWP=-13, TEMP=-10.0, PRES=1028.0, cbwd='NW', Iws=6.71, Is=0, Ir=0, new_column='New', demo feature='2010 1'),\n",
              " Row(No=413, year=2010, month=1, day=18, hour=4, pm2.5='407', DEWP=-13, TEMP=-11.0, PRES=1028.0, cbwd='NW', Iws=7.6, Is=0, Ir=0, new_column='New', demo feature='2010 1'),\n",
              " Row(No=414, year=2010, month=1, day=18, hour=5, pm2.5='361', DEWP=-13, TEMP=-11.0, PRES=1027.0, cbwd='NE', Iws=1.79, Is=0, Ir=0, new_column='New', demo feature='2010 1'),\n",
              " Row(No=415, year=2010, month=1, day=18, hour=6, pm2.5='234', DEWP=-14, TEMP=-11.0, PRES=1028.0, cbwd='NW', Iws=0.89, Is=0, Ir=0, new_column='New', demo feature='2010 1'),\n",
              " Row(No=416, year=2010, month=1, day=18, hour=7, pm2.5='149', DEWP=-14, TEMP=-11.0, PRES=1028.0, cbwd='NW', Iws=4.02, Is=0, Ir=0, new_column='New', demo feature='2010 1'),\n",
              " Row(No=417, year=2010, month=1, day=18, hour=8, pm2.5='147', DEWP=-14, TEMP=-11.0, PRES=1028.0, cbwd='NW', Iws=5.81, Is=0, Ir=0, new_column='New', demo feature='2010 1'),\n",
              " Row(No=418, year=2010, month=1, day=18, hour=9, pm2.5='184', DEWP=-11, TEMP=-6.0, PRES=1028.0, cbwd='NW', Iws=9.83, Is=0, Ir=0, new_column='New', demo feature='2010 1'),\n",
              " Row(No=419, year=2010, month=1, day=18, hour=10, pm2.5='161', DEWP=-10, TEMP=-5.0, PRES=1028.0, cbwd='NW', Iws=11.62, Is=0, Ir=0, new_column='New', demo feature='2010 1'),\n",
              " Row(No=420, year=2010, month=1, day=18, hour=11, pm2.5='137', DEWP=-9, TEMP=-3.0, PRES=1028.0, cbwd='NW', Iws=13.41, Is=0, Ir=0, new_column='New', demo feature='2010 1'),\n",
              " Row(No=421, year=2010, month=1, day=18, hour=12, pm2.5='146', DEWP=-8, TEMP=-1.0, PRES=1027.0, cbwd='NW', Iws=15.2, Is=0, Ir=0, new_column='New', demo feature='2010 1'),\n",
              " Row(No=422, year=2010, month=1, day=18, hour=13, pm2.5='144', DEWP=-9, TEMP=0.0, PRES=1026.0, cbwd='NW', Iws=16.99, Is=0, Ir=0, new_column='New', demo feature='2010 1'),\n",
              " Row(No=423, year=2010, month=1, day=18, hour=14, pm2.5='154', DEWP=-9, TEMP=1.0, PRES=1025.0, cbwd='NE', Iws=1.79, Is=0, Ir=0, new_column='New', demo feature='2010 1'),\n",
              " Row(No=424, year=2010, month=1, day=18, hour=15, pm2.5='173', DEWP=-9, TEMP=1.0, PRES=1025.0, cbwd='cv', Iws=0.89, Is=0, Ir=0, new_column='New', demo feature='2010 1'),\n",
              " Row(No=425, year=2010, month=1, day=18, hour=16, pm2.5='188', DEWP=-8, TEMP=1.0, PRES=1025.0, cbwd='SE', Iws=0.89, Is=0, Ir=0, new_column='New', demo feature='2010 1'),\n",
              " Row(No=426, year=2010, month=1, day=18, hour=17, pm2.5='203', DEWP=-7, TEMP=-1.0, PRES=1025.0, cbwd='SE', Iws=2.68, Is=0, Ir=0, new_column='New', demo feature='2010 1'),\n",
              " Row(No=427, year=2010, month=1, day=18, hour=18, pm2.5='233', DEWP=-7, TEMP=-2.0, PRES=1025.0, cbwd='cv', Iws=0.89, Is=0, Ir=0, new_column='New', demo feature='2010 1'),\n",
              " Row(No=428, year=2010, month=1, day=18, hour=19, pm2.5='408', DEWP=-7, TEMP=-3.0, PRES=1025.0, cbwd='SE', Iws=0.89, Is=0, Ir=0, new_column='New', demo feature='2010 1'),\n",
              " Row(No=429, year=2010, month=1, day=18, hour=20, pm2.5='435', DEWP=-5, TEMP=-2.0, PRES=1026.0, cbwd='cv', Iws=0.89, Is=0, Ir=0, new_column='New', demo feature='2010 1'),\n",
              " Row(No=430, year=2010, month=1, day=18, hour=21, pm2.5='403', DEWP=-5, TEMP=-1.0, PRES=1026.0, cbwd='NW', Iws=1.79, Is=0, Ir=0, new_column='New', demo feature='2010 1'),\n",
              " Row(No=431, year=2010, month=1, day=18, hour=22, pm2.5='360', DEWP=-5, TEMP=-1.0, PRES=1026.0, cbwd='NW', Iws=3.58, Is=0, Ir=0, new_column='New', demo feature='2010 1'),\n",
              " Row(No=432, year=2010, month=1, day=18, hour=23, pm2.5='402', DEWP=-6, TEMP=-1.0, PRES=1026.0, cbwd='cv', Iws=0.89, Is=0, Ir=0, new_column='New', demo feature='2010 1'),\n",
              " Row(No=433, year=2010, month=1, day=19, hour=0, pm2.5='358', DEWP=-4, TEMP=-1.0, PRES=1025.0, cbwd='NW', Iws=1.79, Is=0, Ir=0, new_column='New', demo feature='2010 1'),\n",
              " Row(No=434, year=2010, month=1, day=19, hour=1, pm2.5='383', DEWP=-5, TEMP=-1.0, PRES=1024.0, cbwd='NW', Iws=4.92, Is=0, Ir=0, new_column='New', demo feature='2010 1'),\n",
              " Row(No=435, year=2010, month=1, day=19, hour=2, pm2.5='332', DEWP=-5, TEMP=-1.0, PRES=1024.0, cbwd='NW', Iws=6.71, Is=0, Ir=0, new_column='New', demo feature='2010 1'),\n",
              " Row(No=436, year=2010, month=1, day=19, hour=3, pm2.5='274', DEWP=-5, TEMP=-1.0, PRES=1023.0, cbwd='NW', Iws=8.5, Is=0, Ir=0, new_column='New', demo feature='2010 1'),\n",
              " Row(No=437, year=2010, month=1, day=19, hour=4, pm2.5='256', DEWP=-4, TEMP=-1.0, PRES=1022.0, cbwd='NW', Iws=10.29, Is=0, Ir=0, new_column='New', demo feature='2010 1'),\n",
              " Row(No=438, year=2010, month=1, day=19, hour=5, pm2.5='302', DEWP=-4, TEMP=-1.0, PRES=1021.0, cbwd='NW', Iws=11.18, Is=0, Ir=0, new_column='New', demo feature='2010 1'),\n",
              " Row(No=439, year=2010, month=1, day=19, hour=6, pm2.5='330', DEWP=-4, TEMP=-1.0, PRES=1021.0, cbwd='NW', Iws=12.07, Is=0, Ir=0, new_column='New', demo feature='2010 1'),\n",
              " Row(No=440, year=2010, month=1, day=19, hour=7, pm2.5='367', DEWP=-4, TEMP=-1.0, PRES=1021.0, cbwd='NW', Iws=13.86, Is=0, Ir=0, new_column='New', demo feature='2010 1'),\n",
              " Row(No=441, year=2010, month=1, day=19, hour=8, pm2.5='297', DEWP=-4, TEMP=0.0, PRES=1021.0, cbwd='cv', Iws=0.89, Is=0, Ir=0, new_column='New', demo feature='2010 1'),\n",
              " Row(No=442, year=2010, month=1, day=19, hour=9, pm2.5='331', DEWP=-4, TEMP=0.0, PRES=1021.0, cbwd='NW', Iws=1.79, Is=0, Ir=0, new_column='New', demo feature='2010 1'),\n",
              " Row(No=443, year=2010, month=1, day=19, hour=10, pm2.5='323', DEWP=-4, TEMP=0.0, PRES=1021.0, cbwd='cv', Iws=0.89, Is=0, Ir=0, new_column='New', demo feature='2010 1'),\n",
              " Row(No=444, year=2010, month=1, day=19, hour=11, pm2.5='339', DEWP=-5, TEMP=1.0, PRES=1021.0, cbwd='NW', Iws=1.79, Is=0, Ir=0, new_column='New', demo feature='2010 1'),\n",
              " Row(No=445, year=2010, month=1, day=19, hour=12, pm2.5='301', DEWP=-5, TEMP=1.0, PRES=1020.0, cbwd='cv', Iws=0.89, Is=0, Ir=0, new_column='New', demo feature='2010 1'),\n",
              " Row(No=446, year=2010, month=1, day=19, hour=13, pm2.5='310', DEWP=-4, TEMP=1.0, PRES=1019.0, cbwd='cv', Iws=1.34, Is=0, Ir=0, new_column='New', demo feature='2010 1'),\n",
              " Row(No=447, year=2010, month=1, day=19, hour=14, pm2.5='305', DEWP=-4, TEMP=1.0, PRES=1018.0, cbwd='NE', Iws=0.89, Is=0, Ir=0, new_column='New', demo feature='2010 1'),\n",
              " Row(No=448, year=2010, month=1, day=19, hour=15, pm2.5='313', DEWP=-3, TEMP=2.0, PRES=1018.0, cbwd='cv', Iws=0.45, Is=0, Ir=0, new_column='New', demo feature='2010 1'),\n",
              " Row(No=449, year=2010, month=1, day=19, hour=16, pm2.5='336', DEWP=-3, TEMP=2.0, PRES=1018.0, cbwd='cv', Iws=1.34, Is=0, Ir=0, new_column='New', demo feature='2010 1'),\n",
              " Row(No=450, year=2010, month=1, day=19, hour=17, pm2.5='357', DEWP=-2, TEMP=2.0, PRES=1018.0, cbwd='NE', Iws=0.89, Is=0, Ir=0, new_column='New', demo feature='2010 1'),\n",
              " Row(No=451, year=2010, month=1, day=19, hour=18, pm2.5='485', DEWP=-3, TEMP=1.0, PRES=1018.0, cbwd='cv', Iws=0.89, Is=0, Ir=0, new_column='New', demo feature='2010 1'),\n",
              " Row(No=452, year=2010, month=1, day=19, hour=19, pm2.5='426', DEWP=-3, TEMP=2.0, PRES=1020.0, cbwd='NW', Iws=1.79, Is=0, Ir=0, new_column='New', demo feature='2010 1'),\n",
              " Row(No=453, year=2010, month=1, day=19, hour=20, pm2.5='403', DEWP=-3, TEMP=1.0, PRES=1020.0, cbwd='NW', Iws=4.92, Is=0, Ir=0, new_column='New', demo feature='2010 1'),\n",
              " Row(No=454, year=2010, month=1, day=19, hour=21, pm2.5='374', DEWP=-3, TEMP=0.0, PRES=1021.0, cbwd='NW', Iws=6.71, Is=0, Ir=0, new_column='New', demo feature='2010 1'),\n",
              " Row(No=455, year=2010, month=1, day=19, hour=22, pm2.5='333', DEWP=-3, TEMP=0.0, PRES=1021.0, cbwd='NW', Iws=8.5, Is=0, Ir=0, new_column='New', demo feature='2010 1'),\n",
              " Row(No=456, year=2010, month=1, day=19, hour=23, pm2.5='343', DEWP=-3, TEMP=1.0, PRES=1020.0, cbwd='NW', Iws=11.63, Is=0, Ir=0, new_column='New', demo feature='2010 1'),\n",
              " Row(No=457, year=2010, month=1, day=20, hour=0, pm2.5='364', DEWP=-2, TEMP=0.0, PRES=1021.0, cbwd='NW', Iws=14.76, Is=0, Ir=0, new_column='New', demo feature='2010 1'),\n",
              " Row(No=458, year=2010, month=1, day=20, hour=1, pm2.5='389', DEWP=-2, TEMP=-1.0, PRES=1022.0, cbwd='NW', Iws=16.55, Is=0, Ir=0, new_column='New', demo feature='2010 1'),\n",
              " Row(No=459, year=2010, month=1, day=20, hour=2, pm2.5='368', DEWP=-4, TEMP=-2.0, PRES=1022.0, cbwd='NW', Iws=19.68, Is=0, Ir=0, new_column='New', demo feature='2010 1'),\n",
              " Row(No=460, year=2010, month=1, day=20, hour=3, pm2.5='267', DEWP=-2, TEMP=-1.0, PRES=1023.0, cbwd='NW', Iws=25.49, Is=0, Ir=0, new_column='New', demo feature='2010 1'),\n",
              " Row(No=461, year=2010, month=1, day=20, hour=4, pm2.5='71', DEWP=-3, TEMP=1.0, PRES=1023.0, cbwd='NW', Iws=28.62, Is=0, Ir=0, new_column='New', demo feature='2010 1'),\n",
              " Row(No=462, year=2010, month=1, day=20, hour=5, pm2.5='81', DEWP=-3, TEMP=0.0, PRES=1024.0, cbwd='NW', Iws=31.75, Is=0, Ir=0, new_column='New', demo feature='2010 1'),\n",
              " Row(No=463, year=2010, month=1, day=20, hour=6, pm2.5='51', DEWP=-5, TEMP=2.0, PRES=1026.0, cbwd='NW', Iws=36.67, Is=0, Ir=0, new_column='New', demo feature='2010 1'),\n",
              " Row(No=464, year=2010, month=1, day=20, hour=7, pm2.5='49', DEWP=-9, TEMP=1.0, PRES=1027.0, cbwd='NW', Iws=41.59, Is=0, Ir=0, new_column='New', demo feature='2010 1'),\n",
              " Row(No=465, year=2010, month=1, day=20, hour=8, pm2.5='44', DEWP=-10, TEMP=0.0, PRES=1028.0, cbwd='NW', Iws=48.74, Is=0, Ir=0, new_column='New', demo feature='2010 1'),\n",
              " Row(No=466, year=2010, month=1, day=20, hour=9, pm2.5='45', DEWP=-10, TEMP=0.0, PRES=1030.0, cbwd='NW', Iws=55.89, Is=0, Ir=0, new_column='New', demo feature='2010 1'),\n",
              " Row(No=467, year=2010, month=1, day=20, hour=10, pm2.5='35', DEWP=-11, TEMP=1.0, PRES=1032.0, cbwd='NW', Iws=63.04, Is=0, Ir=0, new_column='New', demo feature='2010 1'),\n",
              " Row(No=468, year=2010, month=1, day=20, hour=11, pm2.5='29', DEWP=-13, TEMP=0.0, PRES=1033.0, cbwd='NW', Iws=71.09, Is=0, Ir=0, new_column='New', demo feature='2010 1'),\n",
              " Row(No=469, year=2010, month=1, day=20, hour=12, pm2.5='27', DEWP=-13, TEMP=0.0, PRES=1033.0, cbwd='NW', Iws=78.24, Is=0, Ir=0, new_column='New', demo feature='2010 1'),\n",
              " Row(No=470, year=2010, month=1, day=20, hour=13, pm2.5='29', DEWP=-13, TEMP=-1.0, PRES=1033.0, cbwd='NE', Iws=8.05, Is=0, Ir=0, new_column='New', demo feature='2010 1'),\n",
              " Row(No=471, year=2010, month=1, day=20, hour=14, pm2.5='16', DEWP=-13, TEMP=-1.0, PRES=1032.0, cbwd='NW', Iws=7.15, Is=0, Ir=0, new_column='New', demo feature='2010 1'),\n",
              " Row(No=472, year=2010, month=1, day=20, hour=15, pm2.5='23', DEWP=-15, TEMP=-1.0, PRES=1032.0, cbwd='NE', Iws=5.81, Is=0, Ir=0, new_column='New', demo feature='2010 1'),\n",
              " Row(No=473, year=2010, month=1, day=20, hour=16, pm2.5='28', DEWP=-14, TEMP=-1.0, PRES=1033.0, cbwd='NW', Iws=5.81, Is=0, Ir=0, new_column='New', demo feature='2010 1'),\n",
              " Row(No=474, year=2010, month=1, day=20, hour=17, pm2.5='22', DEWP=-15, TEMP=-2.0, PRES=1033.0, cbwd='NW', Iws=12.96, Is=0, Ir=0, new_column='New', demo feature='2010 1'),\n",
              " Row(No=475, year=2010, month=1, day=20, hour=18, pm2.5='11', DEWP=-16, TEMP=-3.0, PRES=1034.0, cbwd='NW', Iws=21.01, Is=0, Ir=0, new_column='New', demo feature='2010 1'),\n",
              " Row(No=476, year=2010, month=1, day=20, hour=19, pm2.5='25', DEWP=-17, TEMP=-4.0, PRES=1035.0, cbwd='NW', Iws=28.16, Is=0, Ir=0, new_column='New', demo feature='2010 1'),\n",
              " Row(No=477, year=2010, month=1, day=20, hour=20, pm2.5='16', DEWP=-19, TEMP=-3.0, PRES=1036.0, cbwd='NW', Iws=37.99, Is=0, Ir=0, new_column='New', demo feature='2010 1'),\n",
              " Row(No=478, year=2010, month=1, day=20, hour=21, pm2.5='20', DEWP=-18, TEMP=-4.0, PRES=1037.0, cbwd='NW', Iws=46.93, Is=0, Ir=0, new_column='New', demo feature='2010 1'),\n",
              " Row(No=479, year=2010, month=1, day=20, hour=22, pm2.5='20', DEWP=-19, TEMP=-4.0, PRES=1038.0, cbwd='NW', Iws=55.87, Is=0, Ir=0, new_column='New', demo feature='2010 1'),\n",
              " Row(No=480, year=2010, month=1, day=20, hour=23, pm2.5='18', DEWP=-19, TEMP=-5.0, PRES=1038.0, cbwd='NW', Iws=65.7, Is=0, Ir=0, new_column='New', demo feature='2010 1'),\n",
              " Row(No=481, year=2010, month=1, day=21, hour=0, pm2.5='18', DEWP=-20, TEMP=-6.0, PRES=1038.0, cbwd='NW', Iws=75.53, Is=0, Ir=0, new_column='New', demo feature='2010 1'),\n",
              " Row(No=482, year=2010, month=1, day=21, hour=1, pm2.5='17', DEWP=-20, TEMP=-6.0, PRES=1038.0, cbwd='NW', Iws=85.36, Is=0, Ir=0, new_column='New', demo feature='2010 1'),\n",
              " Row(No=483, year=2010, month=1, day=21, hour=2, pm2.5='17', DEWP=-20, TEMP=-7.0, PRES=1038.0, cbwd='NW', Iws=95.19, Is=0, Ir=0, new_column='New', demo feature='2010 1'),\n",
              " Row(No=484, year=2010, month=1, day=21, hour=3, pm2.5='17', DEWP=-22, TEMP=-8.0, PRES=1038.0, cbwd='NW', Iws=103.24, Is=0, Ir=0, new_column='New', demo feature='2010 1'),\n",
              " Row(No=485, year=2010, month=1, day=21, hour=4, pm2.5='15', DEWP=-23, TEMP=-8.0, PRES=1038.0, cbwd='NW', Iws=111.29, Is=0, Ir=0, new_column='New', demo feature='2010 1'),\n",
              " Row(No=486, year=2010, month=1, day=21, hour=5, pm2.5='19', DEWP=-24, TEMP=-9.0, PRES=1038.0, cbwd='NW', Iws=118.44, Is=0, Ir=0, new_column='New', demo feature='2010 1'),\n",
              " Row(No=487, year=2010, month=1, day=21, hour=6, pm2.5='16', DEWP=-24, TEMP=-9.0, PRES=1038.0, cbwd='NW', Iws=128.27, Is=0, Ir=0, new_column='New', demo feature='2010 1'),\n",
              " Row(No=488, year=2010, month=1, day=21, hour=7, pm2.5='18', DEWP=-25, TEMP=-9.0, PRES=1038.0, cbwd='NW', Iws=138.1, Is=0, Ir=0, new_column='New', demo feature='2010 1'),\n",
              " Row(No=489, year=2010, month=1, day=21, hour=8, pm2.5='18', DEWP=-25, TEMP=-8.0, PRES=1039.0, cbwd='NW', Iws=147.04, Is=0, Ir=0, new_column='New', demo feature='2010 1'),\n",
              " Row(No=490, year=2010, month=1, day=21, hour=9, pm2.5='18', DEWP=-25, TEMP=-8.0, PRES=1039.0, cbwd='NW', Iws=155.98, Is=0, Ir=0, new_column='New', demo feature='2010 1'),\n",
              " Row(No=491, year=2010, month=1, day=21, hour=10, pm2.5='26', DEWP=-22, TEMP=-7.0, PRES=1039.0, cbwd='NW', Iws=160.9, Is=0, Ir=0, new_column='New', demo feature='2010 1'),\n",
              " Row(No=492, year=2010, month=1, day=21, hour=11, pm2.5='26', DEWP=-22, TEMP=-7.0, PRES=1038.0, cbwd='NE', Iws=3.13, Is=0, Ir=0, new_column='New', demo feature='2010 1'),\n",
              " Row(No=493, year=2010, month=1, day=21, hour=12, pm2.5='25', DEWP=-22, TEMP=-5.0, PRES=1037.0, cbwd='NW', Iws=4.02, Is=0, Ir=0, new_column='New', demo feature='2010 1'),\n",
              " Row(No=494, year=2010, month=1, day=21, hour=13, pm2.5='24', DEWP=-21, TEMP=-5.0, PRES=1035.0, cbwd='NE', Iws=3.13, Is=0, Ir=0, new_column='New', demo feature='2010 1'),\n",
              " Row(No=495, year=2010, month=1, day=21, hour=14, pm2.5='15', DEWP=-21, TEMP=-4.0, PRES=1034.0, cbwd='SE', Iws=1.79, Is=0, Ir=0, new_column='New', demo feature='2010 1'),\n",
              " Row(No=496, year=2010, month=1, day=21, hour=15, pm2.5='17', DEWP=-20, TEMP=-3.0, PRES=1034.0, cbwd='NE', Iws=1.79, Is=0, Ir=0, new_column='New', demo feature='2010 1'),\n",
              " Row(No=497, year=2010, month=1, day=21, hour=16, pm2.5='15', DEWP=-21, TEMP=-2.0, PRES=1033.0, cbwd='NW', Iws=4.92, Is=0, Ir=0, new_column='New', demo feature='2010 1'),\n",
              " Row(No=498, year=2010, month=1, day=21, hour=17, pm2.5='21', DEWP=-20, TEMP=-2.0, PRES=1033.0, cbwd='NW', Iws=10.73, Is=0, Ir=0, new_column='New', demo feature='2010 1'),\n",
              " Row(No=499, year=2010, month=1, day=21, hour=18, pm2.5='40', DEWP=-20, TEMP=-2.0, PRES=1034.0, cbwd='NW', Iws=15.65, Is=0, Ir=0, new_column='New', demo feature='2010 1'),\n",
              " Row(No=500, year=2010, month=1, day=21, hour=19, pm2.5='51', DEWP=-19, TEMP=-3.0, PRES=1034.0, cbwd='NW', Iws=21.46, Is=0, Ir=0, new_column='New', demo feature='2010 1'),\n",
              " Row(No=501, year=2010, month=1, day=21, hour=20, pm2.5='45', DEWP=-19, TEMP=-3.0, PRES=1035.0, cbwd='NW', Iws=25.48, Is=0, Ir=0, new_column='New', demo feature='2010 1'),\n",
              " Row(No=502, year=2010, month=1, day=21, hour=21, pm2.5='61', DEWP=-17, TEMP=-8.0, PRES=1035.0, cbwd='NE', Iws=0.89, Is=0, Ir=0, new_column='New', demo feature='2010 1'),\n",
              " Row(No=503, year=2010, month=1, day=21, hour=22, pm2.5='72', DEWP=-18, TEMP=-9.0, PRES=1035.0, cbwd='NW', Iws=1.79, Is=0, Ir=0, new_column='New', demo feature='2010 1'),\n",
              " Row(No=504, year=2010, month=1, day=21, hour=23, pm2.5='38', DEWP=-18, TEMP=-9.0, PRES=1035.0, cbwd='NW', Iws=3.58, Is=0, Ir=0, new_column='New', demo feature='2010 1'),\n",
              " Row(No=505, year=2010, month=1, day=22, hour=0, pm2.5='35', DEWP=-18, TEMP=-6.0, PRES=1036.0, cbwd='NW', Iws=7.6, Is=0, Ir=0, new_column='New', demo feature='2010 1'),\n",
              " Row(No=506, year=2010, month=1, day=22, hour=1, pm2.5='29', DEWP=-20, TEMP=-4.0, PRES=1037.0, cbwd='NW', Iws=17.43, Is=0, Ir=0, new_column='New', demo feature='2010 1'),\n",
              " Row(No=507, year=2010, month=1, day=22, hour=2, pm2.5='26', DEWP=-21, TEMP=-5.0, PRES=1037.0, cbwd='NW', Iws=27.26, Is=0, Ir=0, new_column='New', demo feature='2010 1'),\n",
              " Row(No=508, year=2010, month=1, day=22, hour=3, pm2.5='18', DEWP=-21, TEMP=-6.0, PRES=1037.0, cbwd='NW', Iws=35.31, Is=0, Ir=0, new_column='New', demo feature='2010 1'),\n",
              " Row(No=509, year=2010, month=1, day=22, hour=4, pm2.5='15', DEWP=-20, TEMP=-7.0, PRES=1036.0, cbwd='NW', Iws=42.46, Is=0, Ir=0, new_column='New', demo feature='2010 1'),\n",
              " Row(No=510, year=2010, month=1, day=22, hour=5, pm2.5='15', DEWP=-20, TEMP=-7.0, PRES=1035.0, cbwd='NW', Iws=48.27, Is=0, Ir=0, new_column='New', demo feature='2010 1'),\n",
              " Row(No=511, year=2010, month=1, day=22, hour=6, pm2.5='22', DEWP=-20, TEMP=-7.0, PRES=1035.0, cbwd='NW', Iws=54.08, Is=0, Ir=0, new_column='New', demo feature='2010 1'),\n",
              " Row(No=512, year=2010, month=1, day=22, hour=7, pm2.5='21', DEWP=-20, TEMP=-7.0, PRES=1036.0, cbwd='NW', Iws=59.0, Is=0, Ir=0, new_column='New', demo feature='2010 1'),\n",
              " Row(No=513, year=2010, month=1, day=22, hour=8, pm2.5='19', DEWP=-19, TEMP=-7.0, PRES=1036.0, cbwd='NW', Iws=63.92, Is=0, Ir=0, new_column='New', demo feature='2010 1'),\n",
              " Row(No=514, year=2010, month=1, day=22, hour=9, pm2.5='22', DEWP=-20, TEMP=-5.0, PRES=1036.0, cbwd='NW', Iws=67.94, Is=0, Ir=0, new_column='New', demo feature='2010 1'),\n",
              " Row(No=515, year=2010, month=1, day=22, hour=10, pm2.5='25', DEWP=-19, TEMP=-4.0, PRES=1036.0, cbwd='NW', Iws=75.09, Is=0, Ir=0, new_column='New', demo feature='2010 1'),\n",
              " Row(No=516, year=2010, month=1, day=22, hour=11, pm2.5='22', DEWP=-19, TEMP=-4.0, PRES=1036.0, cbwd='NW', Iws=84.03, Is=0, Ir=0, new_column='New', demo feature='2010 1'),\n",
              " Row(No=517, year=2010, month=1, day=22, hour=12, pm2.5='26', DEWP=-19, TEMP=-3.0, PRES=1035.0, cbwd='NW', Iws=95.21, Is=0, Ir=0, new_column='New', demo feature='2010 1'),\n",
              " Row(No=518, year=2010, month=1, day=22, hour=13, pm2.5='32', DEWP=-18, TEMP=-3.0, PRES=1034.0, cbwd='NW', Iws=105.04, Is=0, Ir=0, new_column='New', demo feature='2010 1'),\n",
              " Row(No=519, year=2010, month=1, day=22, hour=14, pm2.5='30', DEWP=-19, TEMP=-2.0, PRES=1033.0, cbwd='NW', Iws=114.87, Is=0, Ir=0, new_column='New', demo feature='2010 1'),\n",
              " Row(No=520, year=2010, month=1, day=22, hour=15, pm2.5='32', DEWP=-18, TEMP=-2.0, PRES=1032.0, cbwd='NW', Iws=124.7, Is=0, Ir=0, new_column='New', demo feature='2010 1'),\n",
              " Row(No=521, year=2010, month=1, day=22, hour=16, pm2.5='30', DEWP=-18, TEMP=-2.0, PRES=1032.0, cbwd='NW', Iws=133.64, Is=0, Ir=0, new_column='New', demo feature='2010 1'),\n",
              " Row(No=522, year=2010, month=1, day=22, hour=17, pm2.5='32', DEWP=-18, TEMP=-2.0, PRES=1032.0, cbwd='NW', Iws=139.45, Is=0, Ir=0, new_column='New', demo feature='2010 1'),\n",
              " Row(No=523, year=2010, month=1, day=22, hour=18, pm2.5='37', DEWP=-18, TEMP=-3.0, PRES=1032.0, cbwd='NW', Iws=144.37, Is=0, Ir=0, new_column='New', demo feature='2010 1'),\n",
              " Row(No=524, year=2010, month=1, day=22, hour=19, pm2.5='49', DEWP=-17, TEMP=-5.0, PRES=1033.0, cbwd='NW', Iws=149.29, Is=0, Ir=0, new_column='New', demo feature='2010 1'),\n",
              " Row(No=525, year=2010, month=1, day=22, hour=20, pm2.5='47', DEWP=-18, TEMP=-4.0, PRES=1033.0, cbwd='NW', Iws=153.31, Is=0, Ir=0, new_column='New', demo feature='2010 1'),\n",
              " Row(No=526, year=2010, month=1, day=22, hour=21, pm2.5='39', DEWP=-17, TEMP=-4.0, PRES=1032.0, cbwd='NW', Iws=159.12, Is=0, Ir=0, new_column='New', demo feature='2010 1'),\n",
              " Row(No=527, year=2010, month=1, day=22, hour=22, pm2.5='35', DEWP=-17, TEMP=-4.0, PRES=1032.0, cbwd='NW', Iws=164.04, Is=0, Ir=0, new_column='New', demo feature='2010 1'),\n",
              " Row(No=528, year=2010, month=1, day=22, hour=23, pm2.5='48', DEWP=-17, TEMP=-7.0, PRES=1032.0, cbwd='NW', Iws=168.06, Is=0, Ir=0, new_column='New', demo feature='2010 1'),\n",
              " Row(No=529, year=2010, month=1, day=23, hour=0, pm2.5='49', DEWP=-17, TEMP=-4.0, PRES=1033.0, cbwd='NW', Iws=172.08, Is=0, Ir=0, new_column='New', demo feature='2010 1'),\n",
              " Row(No=530, year=2010, month=1, day=23, hour=1, pm2.5='24', DEWP=-17, TEMP=-8.0, PRES=1033.0, cbwd='cv', Iws=0.89, Is=0, Ir=0, new_column='New', demo feature='2010 1'),\n",
              " Row(No=531, year=2010, month=1, day=23, hour=2, pm2.5='23', DEWP=-17, TEMP=-5.0, PRES=1032.0, cbwd='NW', Iws=4.92, Is=0, Ir=0, new_column='New', demo feature='2010 1'),\n",
              " Row(No=532, year=2010, month=1, day=23, hour=3, pm2.5='20', DEWP=-18, TEMP=-6.0, PRES=1032.0, cbwd='NW', Iws=8.05, Is=0, Ir=0, new_column='New', demo feature='2010 1'),\n",
              " Row(No=533, year=2010, month=1, day=23, hour=4, pm2.5='19', DEWP=-18, TEMP=-5.0, PRES=1031.0, cbwd='NW', Iws=12.97, Is=0, Ir=0, new_column='New', demo feature='2010 1'),\n",
              " Row(No=534, year=2010, month=1, day=23, hour=5, pm2.5='16', DEWP=-18, TEMP=-6.0, PRES=1031.0, cbwd='NW', Iws=16.1, Is=0, Ir=0, new_column='New', demo feature='2010 1'),\n",
              " Row(No=535, year=2010, month=1, day=23, hour=6, pm2.5='22', DEWP=-18, TEMP=-7.0, PRES=1031.0, cbwd='NW', Iws=20.12, Is=0, Ir=0, new_column='New', demo feature='2010 1'),\n",
              " Row(No=536, year=2010, month=1, day=23, hour=7, pm2.5='24', DEWP=-18, TEMP=-7.0, PRES=1031.0, cbwd='NW', Iws=24.14, Is=0, Ir=0, new_column='New', demo feature='2010 1'),\n",
              " Row(No=537, year=2010, month=1, day=23, hour=8, pm2.5='24', DEWP=-18, TEMP=-6.0, PRES=1031.0, cbwd='NW', Iws=25.93, Is=0, Ir=0, new_column='New', demo feature='2010 1'),\n",
              " Row(No=538, year=2010, month=1, day=23, hour=9, pm2.5='41', DEWP=-18, TEMP=-2.0, PRES=1031.0, cbwd='NW', Iws=30.85, Is=0, Ir=0, new_column='New', demo feature='2010 1'),\n",
              " Row(No=539, year=2010, month=1, day=23, hour=10, pm2.5='23', DEWP=-17, TEMP=-1.0, PRES=1031.0, cbwd='NW', Iws=38.9, Is=0, Ir=0, new_column='New', demo feature='2010 1'),\n",
              " Row(No=540, year=2010, month=1, day=23, hour=11, pm2.5='19', DEWP=-17, TEMP=0.0, PRES=1030.0, cbwd='NW', Iws=46.95, Is=0, Ir=0, new_column='New', demo feature='2010 1'),\n",
              " Row(No=541, year=2010, month=1, day=23, hour=12, pm2.5='15', DEWP=-19, TEMP=1.0, PRES=1029.0, cbwd='NW', Iws=55.0, Is=0, Ir=0, new_column='New', demo feature='2010 1'),\n",
              " Row(No=542, year=2010, month=1, day=23, hour=13, pm2.5='19', DEWP=-20, TEMP=2.0, PRES=1027.0, cbwd='NW', Iws=63.05, Is=0, Ir=0, new_column='New', demo feature='2010 1'),\n",
              " Row(No=543, year=2010, month=1, day=23, hour=14, pm2.5='17', DEWP=-19, TEMP=2.0, PRES=1025.0, cbwd='NW', Iws=71.1, Is=0, Ir=0, new_column='New', demo feature='2010 1'),\n",
              " Row(No=544, year=2010, month=1, day=23, hour=15, pm2.5='17', DEWP=-19, TEMP=3.0, PRES=1024.0, cbwd='NW', Iws=79.15, Is=0, Ir=0, new_column='New', demo feature='2010 1'),\n",
              " Row(No=545, year=2010, month=1, day=23, hour=16, pm2.5='22', DEWP=-19, TEMP=3.0, PRES=1024.0, cbwd='NW', Iws=86.3, Is=0, Ir=0, new_column='New', demo feature='2010 1'),\n",
              " Row(No=546, year=2010, month=1, day=23, hour=17, pm2.5='NA', DEWP=-18, TEMP=2.0, PRES=1024.0, cbwd='NW', Iws=91.22, Is=0, Ir=0, new_column='New', demo feature='2010 1'),\n",
              " Row(No=547, year=2010, month=1, day=23, hour=18, pm2.5='NA', DEWP=-18, TEMP=1.0, PRES=1024.0, cbwd='NW', Iws=96.14, Is=0, Ir=0, new_column='New', demo feature='2010 1'),\n",
              " Row(No=548, year=2010, month=1, day=23, hour=19, pm2.5='NA', DEWP=-17, TEMP=0.0, PRES=1024.0, cbwd='NW', Iws=100.16, Is=0, Ir=0, new_column='New', demo feature='2010 1'),\n",
              " Row(No=549, year=2010, month=1, day=23, hour=20, pm2.5='NA', DEWP=-18, TEMP=0.0, PRES=1024.0, cbwd='SE', Iws=1.79, Is=0, Ir=0, new_column='New', demo feature='2010 1'),\n",
              " Row(No=550, year=2010, month=1, day=23, hour=21, pm2.5='NA', DEWP=-15, TEMP=-3.0, PRES=1024.0, cbwd='cv', Iws=0.89, Is=0, Ir=0, new_column='New', demo feature='2010 1'),\n",
              " Row(No=551, year=2010, month=1, day=23, hour=22, pm2.5='NA', DEWP=-16, TEMP=0.0, PRES=1023.0, cbwd='NW', Iws=1.79, Is=0, Ir=0, new_column='New', demo feature='2010 1'),\n",
              " Row(No=552, year=2010, month=1, day=23, hour=23, pm2.5='NA', DEWP=-16, TEMP=0.0, PRES=1023.0, cbwd='NW', Iws=4.92, Is=0, Ir=0, new_column='New', demo feature='2010 1'),\n",
              " Row(No=553, year=2010, month=1, day=24, hour=0, pm2.5='NA', DEWP=-15, TEMP=-2.0, PRES=1022.0, cbwd='NW', Iws=6.71, Is=0, Ir=0, new_column='New', demo feature='2010 1'),\n",
              " Row(No=554, year=2010, month=1, day=24, hour=1, pm2.5='NA', DEWP=-14, TEMP=-7.0, PRES=1022.0, cbwd='cv', Iws=0.45, Is=0, Ir=0, new_column='New', demo feature='2010 1'),\n",
              " Row(No=555, year=2010, month=1, day=24, hour=2, pm2.5='NA', DEWP=-14, TEMP=-8.0, PRES=1021.0, cbwd='NW', Iws=1.79, Is=0, Ir=0, new_column='New', demo feature='2010 1'),\n",
              " Row(No=556, year=2010, month=1, day=24, hour=3, pm2.5='NA', DEWP=-16, TEMP=-11.0, PRES=1021.0, cbwd='NW', Iws=3.58, Is=0, Ir=0, new_column='New', demo feature='2010 1'),\n",
              " Row(No=557, year=2010, month=1, day=24, hour=4, pm2.5='NA', DEWP=-14, TEMP=-9.0, PRES=1019.0, cbwd='NW', Iws=4.47, Is=0, Ir=0, new_column='New', demo feature='2010 1'),\n",
              " Row(No=558, year=2010, month=1, day=24, hour=5, pm2.5='NA', DEWP=-15, TEMP=-10.0, PRES=1019.0, cbwd='cv', Iws=0.89, Is=0, Ir=0, new_column='New', demo feature='2010 1'),\n",
              " Row(No=559, year=2010, month=1, day=24, hour=6, pm2.5='NA', DEWP=-16, TEMP=-12.0, PRES=1019.0, cbwd='SE', Iws=0.89, Is=0, Ir=0, new_column='New', demo feature='2010 1'),\n",
              " Row(No=560, year=2010, month=1, day=24, hour=7, pm2.5='NA', DEWP=-15, TEMP=-12.0, PRES=1019.0, cbwd='cv', Iws=0.89, Is=0, Ir=0, new_column='New', demo feature='2010 1'),\n",
              " Row(No=561, year=2010, month=1, day=24, hour=8, pm2.5='NA', DEWP=-16, TEMP=-13.0, PRES=1019.0, cbwd='NE', Iws=1.79, Is=0, Ir=0, new_column='New', demo feature='2010 1'),\n",
              " Row(No=562, year=2010, month=1, day=24, hour=9, pm2.5='NA', DEWP=-13, TEMP=-7.0, PRES=1020.0, cbwd='cv', Iws=0.89, Is=0, Ir=0, new_column='New', demo feature='2010 1'),\n",
              " Row(No=563, year=2010, month=1, day=24, hour=10, pm2.5='NA', DEWP=-12, TEMP=-4.0, PRES=1019.0, cbwd='cv', Iws=1.78, Is=0, Ir=0, new_column='New', demo feature='2010 1'),\n",
              " Row(No=564, year=2010, month=1, day=24, hour=11, pm2.5='NA', DEWP=-13, TEMP=0.0, PRES=1019.0, cbwd='cv', Iws=2.67, Is=0, Ir=0, new_column='New', demo feature='2010 1'),\n",
              " Row(No=565, year=2010, month=1, day=24, hour=12, pm2.5='NA', DEWP=-16, TEMP=4.0, PRES=1018.0, cbwd='NW', Iws=4.02, Is=0, Ir=0, new_column='New', demo feature='2010 1'),\n",
              " Row(No=566, year=2010, month=1, day=24, hour=13, pm2.5='NA', DEWP=-19, TEMP=5.0, PRES=1017.0, cbwd='NW', Iws=13.85, Is=0, Ir=0, new_column='New', demo feature='2010 1'),\n",
              " Row(No=567, year=2010, month=1, day=24, hour=14, pm2.5='NA', DEWP=-18, TEMP=5.0, PRES=1017.0, cbwd='NW', Iws=22.79, Is=0, Ir=0, new_column='New', demo feature='2010 1'),\n",
              " Row(No=568, year=2010, month=1, day=24, hour=15, pm2.5='NA', DEWP=-19, TEMP=5.0, PRES=1017.0, cbwd='NW', Iws=32.62, Is=0, Ir=0, new_column='New', demo feature='2010 1'),\n",
              " Row(No=569, year=2010, month=1, day=24, hour=16, pm2.5='NA', DEWP=-20, TEMP=5.0, PRES=1018.0, cbwd='NW', Iws=40.67, Is=0, Ir=0, new_column='New', demo feature='2010 1'),\n",
              " Row(No=570, year=2010, month=1, day=24, hour=17, pm2.5='NA', DEWP=-19, TEMP=3.0, PRES=1020.0, cbwd='NW', Iws=49.61, Is=0, Ir=0, new_column='New', demo feature='2010 1'),\n",
              " Row(No=571, year=2010, month=1, day=24, hour=18, pm2.5='NA', DEWP=-18, TEMP=1.0, PRES=1023.0, cbwd='NW', Iws=61.68, Is=0, Ir=0, new_column='New', demo feature='2010 1'),\n",
              " Row(No=572, year=2010, month=1, day=24, hour=19, pm2.5='NA', DEWP=-20, TEMP=-1.0, PRES=1027.0, cbwd='NW', Iws=76.88, Is=0, Ir=0, new_column='New', demo feature='2010 1'),\n",
              " Row(No=573, year=2010, month=1, day=24, hour=20, pm2.5='NA', DEWP=-20, TEMP=-2.0, PRES=1028.0, cbwd='NW', Iws=89.84, Is=0, Ir=0, new_column='New', demo feature='2010 1'),\n",
              " Row(No=574, year=2010, month=1, day=24, hour=21, pm2.5='NA', DEWP=-21, TEMP=-3.0, PRES=1029.0, cbwd='NW', Iws=98.78, Is=0, Ir=0, new_column='New', demo feature='2010 1'),\n",
              " Row(No=575, year=2010, month=1, day=24, hour=22, pm2.5='NA', DEWP=-25, TEMP=-4.0, PRES=1030.0, cbwd='NW', Iws=113.98, Is=0, Ir=0, new_column='New', demo feature='2010 1'),\n",
              " Row(No=576, year=2010, month=1, day=24, hour=23, pm2.5='NA', DEWP=-26, TEMP=-5.0, PRES=1031.0, cbwd='NW', Iws=129.18, Is=0, Ir=0, new_column='New', demo feature='2010 1'),\n",
              " Row(No=577, year=2010, month=1, day=25, hour=0, pm2.5='NA', DEWP=-25, TEMP=-5.0, PRES=1031.0, cbwd='NW', Iws=141.25, Is=0, Ir=0, new_column='New', demo feature='2010 1'),\n",
              " Row(No=578, year=2010, month=1, day=25, hour=1, pm2.5='NA', DEWP=-25, TEMP=-6.0, PRES=1031.0, cbwd='NW', Iws=150.19, Is=0, Ir=0, new_column='New', demo feature='2010 1'),\n",
              " Row(No=579, year=2010, month=1, day=25, hour=2, pm2.5='NA', DEWP=-24, TEMP=-6.0, PRES=1032.0, cbwd='NW', Iws=162.26, Is=0, Ir=0, new_column='New', demo feature='2010 1'),\n",
              " Row(No=580, year=2010, month=1, day=25, hour=3, pm2.5='NA', DEWP=-24, TEMP=-6.0, PRES=1033.0, cbwd='NW', Iws=172.09, Is=0, Ir=0, new_column='New', demo feature='2010 1'),\n",
              " Row(No=581, year=2010, month=1, day=25, hour=4, pm2.5='NA', DEWP=-23, TEMP=-6.0, PRES=1033.0, cbwd='NW', Iws=181.92, Is=0, Ir=0, new_column='New', demo feature='2010 1'),\n",
              " Row(No=582, year=2010, month=1, day=25, hour=5, pm2.5='NA', DEWP=-22, TEMP=-7.0, PRES=1033.0, cbwd='NW', Iws=187.73, Is=0, Ir=0, new_column='New', demo feature='2010 1'),\n",
              " Row(No=583, year=2010, month=1, day=25, hour=6, pm2.5='NA', DEWP=-21, TEMP=-7.0, PRES=1033.0, cbwd='NW', Iws=192.65, Is=0, Ir=0, new_column='New', demo feature='2010 1'),\n",
              " Row(No=584, year=2010, month=1, day=25, hour=7, pm2.5='NA', DEWP=-21, TEMP=-7.0, PRES=1034.0, cbwd='NW', Iws=196.67, Is=0, Ir=0, new_column='New', demo feature='2010 1'),\n",
              " Row(No=585, year=2010, month=1, day=25, hour=8, pm2.5='NA', DEWP=-21, TEMP=-6.0, PRES=1035.0, cbwd='NW', Iws=201.59, Is=0, Ir=0, new_column='New', demo feature='2010 1'),\n",
              " Row(No=586, year=2010, month=1, day=25, hour=9, pm2.5='NA', DEWP=-21, TEMP=-4.0, PRES=1036.0, cbwd='NW', Iws=207.4, Is=0, Ir=0, new_column='New', demo feature='2010 1'),\n",
              " Row(No=587, year=2010, month=1, day=25, hour=10, pm2.5='NA', DEWP=-22, TEMP=-3.0, PRES=1036.0, cbwd='NW', Iws=216.34, Is=0, Ir=0, new_column='New', demo feature='2010 1'),\n",
              " Row(No=588, year=2010, month=1, day=25, hour=11, pm2.5='NA', DEWP=-22, TEMP=-2.0, PRES=1036.0, cbwd='NW', Iws=222.15, Is=0, Ir=0, new_column='New', demo feature='2010 1'),\n",
              " Row(No=589, year=2010, month=1, day=25, hour=12, pm2.5='NA', DEWP=-23, TEMP=-1.0, PRES=1035.0, cbwd='NW', Iws=230.2, Is=0, Ir=0, new_column='New', demo feature='2010 1'),\n",
              " Row(No=590, year=2010, month=1, day=25, hour=13, pm2.5='NA', DEWP=-26, TEMP=1.0, PRES=1033.0, cbwd='NW', Iws=238.25, Is=0, Ir=0, new_column='New', demo feature='2010 1'),\n",
              " Row(No=591, year=2010, month=1, day=25, hour=14, pm2.5='NA', DEWP=-25, TEMP=2.0, PRES=1032.0, cbwd='NW', Iws=245.4, Is=0, Ir=0, new_column='New', demo feature='2010 1'),\n",
              " Row(No=592, year=2010, month=1, day=25, hour=15, pm2.5='NA', DEWP=-25, TEMP=2.0, PRES=1031.0, cbwd='NW', Iws=252.55, Is=0, Ir=0, new_column='New', demo feature='2010 1'),\n",
              " Row(No=593, year=2010, month=1, day=25, hour=16, pm2.5='NA', DEWP=-24, TEMP=2.0, PRES=1031.0, cbwd='NW', Iws=257.47, Is=0, Ir=0, new_column='New', demo feature='2010 1'),\n",
              " Row(No=594, year=2010, month=1, day=25, hour=17, pm2.5='NA', DEWP=-22, TEMP=1.0, PRES=1031.0, cbwd='SE', Iws=4.02, Is=0, Ir=0, new_column='New', demo feature='2010 1'),\n",
              " Row(No=595, year=2010, month=1, day=25, hour=18, pm2.5='NA', DEWP=-19, TEMP=-1.0, PRES=1031.0, cbwd='SE', Iws=7.15, Is=0, Ir=0, new_column='New', demo feature='2010 1'),\n",
              " Row(No=596, year=2010, month=1, day=25, hour=19, pm2.5='NA', DEWP=-19, TEMP=-1.0, PRES=1031.0, cbwd='SE', Iws=10.28, Is=0, Ir=0, new_column='New', demo feature='2010 1'),\n",
              " Row(No=597, year=2010, month=1, day=25, hour=20, pm2.5='NA', DEWP=-17, TEMP=-4.0, PRES=1031.0, cbwd='SE', Iws=12.07, Is=0, Ir=0, new_column='New', demo feature='2010 1'),\n",
              " Row(No=598, year=2010, month=1, day=25, hour=21, pm2.5='NA', DEWP=-18, TEMP=-1.0, PRES=1031.0, cbwd='SE', Iws=15.2, Is=0, Ir=0, new_column='New', demo feature='2010 1'),\n",
              " Row(No=599, year=2010, month=1, day=25, hour=22, pm2.5='NA', DEWP=-18, TEMP=-5.0, PRES=1030.0, cbwd='cv', Iws=0.89, Is=0, Ir=0, new_column='New', demo feature='2010 1'),\n",
              " Row(No=600, year=2010, month=1, day=25, hour=23, pm2.5='NA', DEWP=-18, TEMP=-3.0, PRES=1030.0, cbwd='SE', Iws=3.13, Is=0, Ir=0, new_column='New', demo feature='2010 1'),\n",
              " Row(No=601, year=2010, month=1, day=26, hour=0, pm2.5='NA', DEWP=-16, TEMP=-9.0, PRES=1030.0, cbwd='cv', Iws=0.89, Is=0, Ir=0, new_column='New', demo feature='2010 1'),\n",
              " Row(No=602, year=2010, month=1, day=26, hour=1, pm2.5='NA', DEWP=-16, TEMP=-8.0, PRES=1029.0, cbwd='cv', Iws=1.78, Is=0, Ir=0, new_column='New', demo feature='2010 1'),\n",
              " Row(No=603, year=2010, month=1, day=26, hour=2, pm2.5='NA', DEWP=-16, TEMP=-11.0, PRES=1029.0, cbwd='cv', Iws=2.23, Is=0, Ir=0, new_column='New', demo feature='2010 1'),\n",
              " Row(No=604, year=2010, month=1, day=26, hour=3, pm2.5='NA', DEWP=-16, TEMP=-12.0, PRES=1029.0, cbwd='cv', Iws=3.12, Is=0, Ir=0, new_column='New', demo feature='2010 1'),\n",
              " Row(No=605, year=2010, month=1, day=26, hour=4, pm2.5='NA', DEWP=-16, TEMP=-10.0, PRES=1028.0, cbwd='NW', Iws=3.13, Is=0, Ir=0, new_column='New', demo feature='2010 1'),\n",
              " Row(No=606, year=2010, month=1, day=26, hour=5, pm2.5='NA', DEWP=-17, TEMP=-10.0, PRES=1028.0, cbwd='NW', Iws=4.92, Is=0, Ir=0, new_column='New', demo feature='2010 1'),\n",
              " Row(No=607, year=2010, month=1, day=26, hour=6, pm2.5='NA', DEWP=-17, TEMP=-12.0, PRES=1027.0, cbwd='NW', Iws=6.71, Is=0, Ir=0, new_column='New', demo feature='2010 1'),\n",
              " Row(No=608, year=2010, month=1, day=26, hour=7, pm2.5='NA', DEWP=-17, TEMP=-10.0, PRES=1027.0, cbwd='NW', Iws=8.5, Is=0, Ir=0, new_column='New', demo feature='2010 1'),\n",
              " Row(No=609, year=2010, month=1, day=26, hour=8, pm2.5='NA', DEWP=-18, TEMP=-13.0, PRES=1028.0, cbwd='NE', Iws=1.79, Is=0, Ir=0, new_column='New', demo feature='2010 1'),\n",
              " Row(No=610, year=2010, month=1, day=26, hour=9, pm2.5='NA', DEWP=-16, TEMP=-8.0, PRES=1028.0, cbwd='NW', Iws=4.02, Is=0, Ir=0, new_column='New', demo feature='2010 1'),\n",
              " Row(No=611, year=2010, month=1, day=26, hour=10, pm2.5='NA', DEWP=-16, TEMP=-6.0, PRES=1027.0, cbwd='NW', Iws=5.81, Is=0, Ir=0, new_column='New', demo feature='2010 1'),\n",
              " Row(No=612, year=2010, month=1, day=26, hour=11, pm2.5='NA', DEWP=-15, TEMP=-3.0, PRES=1027.0, cbwd='cv', Iws=0.89, Is=0, Ir=0, new_column='New', demo feature='2010 1'),\n",
              " Row(No=613, year=2010, month=1, day=26, hour=12, pm2.5='88', DEWP=-15, TEMP=-1.0, PRES=1025.0, cbwd='SE', Iws=1.79, Is=0, Ir=0, new_column='New', demo feature='2010 1'),\n",
              " Row(No=614, year=2010, month=1, day=26, hour=13, pm2.5='85', DEWP=-18, TEMP=0.0, PRES=1024.0, cbwd='SE', Iws=3.58, Is=0, Ir=0, new_column='New', demo feature='2010 1'),\n",
              " Row(No=615, year=2010, month=1, day=26, hour=14, pm2.5='90', DEWP=-19, TEMP=1.0, PRES=1023.0, cbwd='cv', Iws=0.89, Is=0, Ir=0, new_column='New', demo feature='2010 1'),\n",
              " Row(No=616, year=2010, month=1, day=26, hour=15, pm2.5='127', DEWP=-18, TEMP=2.0, PRES=1021.0, cbwd='SE', Iws=1.79, Is=0, Ir=0, new_column='New', demo feature='2010 1'),\n",
              " Row(No=617, year=2010, month=1, day=26, hour=16, pm2.5='144', DEWP=-17, TEMP=1.0, PRES=1021.0, cbwd='SE', Iws=4.92, Is=0, Ir=0, new_column='New', demo feature='2010 1'),\n",
              " Row(No=618, year=2010, month=1, day=26, hour=17, pm2.5='203', DEWP=-14, TEMP=-1.0, PRES=1021.0, cbwd='SE', Iws=5.81, Is=0, Ir=0, new_column='New', demo feature='2010 1'),\n",
              " Row(No=619, year=2010, month=1, day=26, hour=18, pm2.5='199', DEWP=-13, TEMP=-3.0, PRES=1021.0, cbwd='SE', Iws=6.7, Is=0, Ir=0, new_column='New', demo feature='2010 1'),\n",
              " Row(No=620, year=2010, month=1, day=26, hour=19, pm2.5='231', DEWP=-13, TEMP=-3.0, PRES=1021.0, cbwd='cv', Iws=0.89, Is=0, Ir=0, new_column='New', demo feature='2010 1'),\n",
              " Row(No=621, year=2010, month=1, day=26, hour=20, pm2.5='274', DEWP=-11, TEMP=-5.0, PRES=1020.0, cbwd='NE', Iws=0.89, Is=0, Ir=0, new_column='New', demo feature='2010 1'),\n",
              " Row(No=622, year=2010, month=1, day=26, hour=21, pm2.5='340', DEWP=-13, TEMP=-6.0, PRES=1020.0, cbwd='NW', Iws=1.79, Is=0, Ir=0, new_column='New', demo feature='2010 1'),\n",
              " Row(No=623, year=2010, month=1, day=26, hour=22, pm2.5='298', DEWP=-11, TEMP=-5.0, PRES=1020.0, cbwd='cv', Iws=0.89, Is=0, Ir=0, new_column='New', demo feature='2010 1'),\n",
              " Row(No=624, year=2010, month=1, day=26, hour=23, pm2.5='268', DEWP=-11, TEMP=-4.0, PRES=1019.0, cbwd='NW', Iws=1.79, Is=0, Ir=0, new_column='New', demo feature='2010 1'),\n",
              " Row(No=625, year=2010, month=1, day=27, hour=0, pm2.5='299', DEWP=-11, TEMP=-4.0, PRES=1019.0, cbwd='NW', Iws=3.58, Is=0, Ir=0, new_column='New', demo feature='2010 1'),\n",
              " Row(No=626, year=2010, month=1, day=27, hour=1, pm2.5='300', DEWP=-12, TEMP=-3.0, PRES=1018.0, cbwd='NW', Iws=5.37, Is=0, Ir=0, new_column='New', demo feature='2010 1'),\n",
              " Row(No=627, year=2010, month=1, day=27, hour=2, pm2.5='240', DEWP=-11, TEMP=-4.0, PRES=1017.0, cbwd='NW', Iws=7.16, Is=0, Ir=0, new_column='New', demo feature='2010 1'),\n",
              " Row(No=628, year=2010, month=1, day=27, hour=3, pm2.5='213', DEWP=-11, TEMP=-4.0, PRES=1016.0, cbwd='NW', Iws=10.29, Is=0, Ir=0, new_column='New', demo feature='2010 1'),\n",
              " Row(No=629, year=2010, month=1, day=27, hour=4, pm2.5='171', DEWP=-12, TEMP=-3.0, PRES=1016.0, cbwd='NW', Iws=12.08, Is=0, Ir=0, new_column='New', demo feature='2010 1'),\n",
              " Row(No=630, year=2010, month=1, day=27, hour=5, pm2.5='153', DEWP=-11, TEMP=-4.0, PRES=1016.0, cbwd='NW', Iws=15.21, Is=0, Ir=0, new_column='New', demo feature='2010 1'),\n",
              " Row(No=631, year=2010, month=1, day=27, hour=6, pm2.5='153', DEWP=-11, TEMP=-5.0, PRES=1015.0, cbwd='NW', Iws=17.0, Is=0, Ir=0, new_column='New', demo feature='2010 1'),\n",
              " Row(No=632, year=2010, month=1, day=27, hour=7, pm2.5='140', DEWP=-11, TEMP=-4.0, PRES=1015.0, cbwd='NW', Iws=18.79, Is=0, Ir=0, new_column='New', demo feature='2010 1'),\n",
              " Row(No=633, year=2010, month=1, day=27, hour=8, pm2.5='147', DEWP=-11, TEMP=-3.0, PRES=1015.0, cbwd='NE', Iws=3.13, Is=0, Ir=0, new_column='New', demo feature='2010 1'),\n",
              " Row(No=634, year=2010, month=1, day=27, hour=9, pm2.5='158', DEWP=-10, TEMP=-1.0, PRES=1015.0, cbwd='NE', Iws=6.26, Is=0, Ir=0, new_column='New', demo feature='2010 1'),\n",
              " Row(No=635, year=2010, month=1, day=27, hour=10, pm2.5='153', DEWP=-9, TEMP=1.0, PRES=1015.0, cbwd='NE', Iws=9.39, Is=0, Ir=0, new_column='New', demo feature='2010 1'),\n",
              " Row(No=636, year=2010, month=1, day=27, hour=11, pm2.5='154', DEWP=-9, TEMP=3.0, PRES=1015.0, cbwd='NW', Iws=1.79, Is=0, Ir=0, new_column='New', demo feature='2010 1'),\n",
              " Row(No=637, year=2010, month=1, day=27, hour=12, pm2.5='143', DEWP=-9, TEMP=4.0, PRES=1014.0, cbwd='NW', Iws=4.92, Is=0, Ir=0, new_column='New', demo feature='2010 1'),\n",
              " Row(No=638, year=2010, month=1, day=27, hour=13, pm2.5='90', DEWP=-9, TEMP=6.0, PRES=1013.0, cbwd='NW', Iws=8.05, Is=0, Ir=0, new_column='New', demo feature='2010 1'),\n",
              " Row(No=639, year=2010, month=1, day=27, hour=14, pm2.5='55', DEWP=-13, TEMP=8.0, PRES=1012.0, cbwd='NW', Iws=16.1, Is=0, Ir=0, new_column='New', demo feature='2010 1'),\n",
              " Row(No=640, year=2010, month=1, day=27, hour=15, pm2.5='52', DEWP=-14, TEMP=8.0, PRES=1013.0, cbwd='NW', Iws=24.15, Is=0, Ir=0, new_column='New', demo feature='2010 1'),\n",
              " Row(No=641, year=2010, month=1, day=27, hour=16, pm2.5='41', DEWP=-14, TEMP=7.0, PRES=1014.0, cbwd='NW', Iws=32.2, Is=0, Ir=0, new_column='New', demo feature='2010 1'),\n",
              " Row(No=642, year=2010, month=1, day=27, hour=17, pm2.5='29', DEWP=-13, TEMP=7.0, PRES=1015.0, cbwd='NW', Iws=39.35, Is=0, Ir=0, new_column='New', demo feature='2010 1'),\n",
              " Row(No=643, year=2010, month=1, day=27, hour=18, pm2.5='37', DEWP=-13, TEMP=5.0, PRES=1016.0, cbwd='NW', Iws=47.4, Is=0, Ir=0, new_column='New', demo feature='2010 1'),\n",
              " Row(No=644, year=2010, month=1, day=27, hour=19, pm2.5='49', DEWP=-12, TEMP=4.0, PRES=1018.0, cbwd='NW', Iws=52.32, Is=0, Ir=0, new_column='New', demo feature='2010 1'),\n",
              " Row(No=645, year=2010, month=1, day=27, hour=20, pm2.5='56', DEWP=-13, TEMP=3.0, PRES=1019.0, cbwd='NW', Iws=56.34, Is=0, Ir=0, new_column='New', demo feature='2010 1'),\n",
              " Row(No=646, year=2010, month=1, day=27, hour=21, pm2.5='38', DEWP=-14, TEMP=3.0, PRES=1020.0, cbwd='NW', Iws=62.15, Is=0, Ir=0, new_column='New', demo feature='2010 1'),\n",
              " Row(No=647, year=2010, month=1, day=27, hour=22, pm2.5='37', DEWP=-14, TEMP=3.0, PRES=1021.0, cbwd='NW', Iws=67.96, Is=0, Ir=0, new_column='New', demo feature='2010 1'),\n",
              " Row(No=648, year=2010, month=1, day=27, hour=23, pm2.5='28', DEWP=-14, TEMP=0.0, PRES=1022.0, cbwd='NW', Iws=71.98, Is=0, Ir=0, new_column='New', demo feature='2010 1'),\n",
              " Row(No=649, year=2010, month=1, day=28, hour=0, pm2.5='20', DEWP=-13, TEMP=-1.0, PRES=1023.0, cbwd='NW', Iws=76.9, Is=0, Ir=0, new_column='New', demo feature='2010 1'),\n",
              " Row(No=650, year=2010, month=1, day=28, hour=1, pm2.5='22', DEWP=-15, TEMP=-1.0, PRES=1023.0, cbwd='NE', Iws=7.15, Is=0, Ir=0, new_column='New', demo feature='2010 1'),\n",
              " Row(No=651, year=2010, month=1, day=28, hour=2, pm2.5='27', DEWP=-15, TEMP=-1.0, PRES=1024.0, cbwd='NE', Iws=12.07, Is=0, Ir=0, new_column='New', demo feature='2010 1'),\n",
              " Row(No=652, year=2010, month=1, day=28, hour=3, pm2.5='34', DEWP=-15, TEMP=-2.0, PRES=1025.0, cbwd='NE', Iws=16.09, Is=0, Ir=0, new_column='New', demo feature='2010 1'),\n",
              " Row(No=653, year=2010, month=1, day=28, hour=4, pm2.5='27', DEWP=-15, TEMP=-2.0, PRES=1025.0, cbwd='NE', Iws=21.01, Is=0, Ir=0, new_column='New', demo feature='2010 1'),\n",
              " Row(No=654, year=2010, month=1, day=28, hour=5, pm2.5='32', DEWP=-15, TEMP=-3.0, PRES=1025.0, cbwd='NE', Iws=25.03, Is=0, Ir=0, new_column='New', demo feature='2010 1'),\n",
              " Row(No=655, year=2010, month=1, day=28, hour=6, pm2.5='28', DEWP=-15, TEMP=-3.0, PRES=1025.0, cbwd='NW', Iws=3.13, Is=0, Ir=0, new_column='New', demo feature='2010 1'),\n",
              " Row(No=656, year=2010, month=1, day=28, hour=7, pm2.5='28', DEWP=-15, TEMP=-3.0, PRES=1026.0, cbwd='NW', Iws=8.05, Is=0, Ir=0, new_column='New', demo feature='2010 1'),\n",
              " Row(No=657, year=2010, month=1, day=28, hour=8, pm2.5='18', DEWP=-16, TEMP=-3.0, PRES=1027.0, cbwd='NW', Iws=12.97, Is=0, Ir=0, new_column='New', demo feature='2010 1'),\n",
              " Row(No=658, year=2010, month=1, day=28, hour=9, pm2.5='17', DEWP=-17, TEMP=-2.0, PRES=1028.0, cbwd='NW', Iws=20.12, Is=0, Ir=0, new_column='New', demo feature='2010 1'),\n",
              " Row(No=659, year=2010, month=1, day=28, hour=10, pm2.5='16', DEWP=-18, TEMP=-2.0, PRES=1029.0, cbwd='NW', Iws=25.93, Is=0, Ir=0, new_column='New', demo feature='2010 1'),\n",
              " Row(No=660, year=2010, month=1, day=28, hour=11, pm2.5='18', DEWP=-19, TEMP=-1.0, PRES=1028.0, cbwd='NW', Iws=35.76, Is=0, Ir=0, new_column='New', demo feature='2010 1'),\n",
              " Row(No=661, year=2010, month=1, day=28, hour=12, pm2.5='16', DEWP=-21, TEMP=1.0, PRES=1027.0, cbwd='NW', Iws=44.7, Is=0, Ir=0, new_column='New', demo feature='2010 1'),\n",
              " Row(No=662, year=2010, month=1, day=28, hour=13, pm2.5='12', DEWP=-24, TEMP=1.0, PRES=1026.0, cbwd='NW', Iws=53.64, Is=0, Ir=0, new_column='New', demo feature='2010 1'),\n",
              " Row(No=663, year=2010, month=1, day=28, hour=14, pm2.5='13', DEWP=-25, TEMP=1.0, PRES=1026.0, cbwd='NW', Iws=62.58, Is=0, Ir=0, new_column='New', demo feature='2010 1'),\n",
              " Row(No=664, year=2010, month=1, day=28, hour=15, pm2.5='23', DEWP=-25, TEMP=1.0, PRES=1026.0, cbwd='NW', Iws=72.41, Is=0, Ir=0, new_column='New', demo feature='2010 1'),\n",
              " Row(No=665, year=2010, month=1, day=28, hour=16, pm2.5='21', DEWP=-24, TEMP=1.0, PRES=1026.0, cbwd='NW', Iws=82.24, Is=0, Ir=0, new_column='New', demo feature='2010 1'),\n",
              " Row(No=666, year=2010, month=1, day=28, hour=17, pm2.5='13', DEWP=-25, TEMP=0.0, PRES=1026.0, cbwd='NW', Iws=91.18, Is=0, Ir=0, new_column='New', demo feature='2010 1'),\n",
              " Row(No=667, year=2010, month=1, day=28, hour=18, pm2.5='14', DEWP=-22, TEMP=0.0, PRES=1027.0, cbwd='NW', Iws=99.23, Is=0, Ir=0, new_column='New', demo feature='2010 1'),\n",
              " Row(No=668, year=2010, month=1, day=28, hour=19, pm2.5='23', DEWP=-20, TEMP=-1.0, PRES=1027.0, cbwd='NW', Iws=103.25, Is=0, Ir=0, new_column='New', demo feature='2010 1'),\n",
              " Row(No=669, year=2010, month=1, day=28, hour=20, pm2.5='16', DEWP=-21, TEMP=-1.0, PRES=1027.0, cbwd='NW', Iws=105.04, Is=0, Ir=0, new_column='New', demo feature='2010 1'),\n",
              " Row(No=670, year=2010, month=1, day=28, hour=21, pm2.5='25', DEWP=-21, TEMP=-4.0, PRES=1028.0, cbwd='NE', Iws=0.89, Is=0, Ir=0, new_column='New', demo feature='2010 1'),\n",
              " Row(No=671, year=2010, month=1, day=28, hour=22, pm2.5='20', DEWP=-21, TEMP=-2.0, PRES=1027.0, cbwd='NW', Iws=4.02, Is=0, Ir=0, new_column='New', demo feature='2010 1'),\n",
              " Row(No=672, year=2010, month=1, day=28, hour=23, pm2.5='25', DEWP=-22, TEMP=-2.0, PRES=1027.0, cbwd='NW', Iws=7.15, Is=0, Ir=0, new_column='New', demo feature='2010 1'),\n",
              " Row(No=673, year=2010, month=1, day=29, hour=0, pm2.5='19', DEWP=-22, TEMP=-1.0, PRES=1027.0, cbwd='NW', Iws=12.07, Is=0, Ir=0, new_column='New', demo feature='2010 1'),\n",
              " Row(No=674, year=2010, month=1, day=29, hour=1, pm2.5='24', DEWP=-21, TEMP=-4.0, PRES=1027.0, cbwd='NW', Iws=15.2, Is=0, Ir=0, new_column='New', demo feature='2010 1'),\n",
              " Row(No=675, year=2010, month=1, day=29, hour=2, pm2.5='25', DEWP=-21, TEMP=-4.0, PRES=1026.0, cbwd='cv', Iws=0.89, Is=0, Ir=0, new_column='New', demo feature='2010 1'),\n",
              " Row(No=676, year=2010, month=1, day=29, hour=3, pm2.5='20', DEWP=-19, TEMP=-8.0, PRES=1026.0, cbwd='NE', Iws=1.79, Is=0, Ir=0, new_column='New', demo feature='2010 1'),\n",
              " Row(No=677, year=2010, month=1, day=29, hour=4, pm2.5='24', DEWP=-20, TEMP=-7.0, PRES=1025.0, cbwd='cv', Iws=0.89, Is=0, Ir=0, new_column='New', demo feature='2010 1'),\n",
              " Row(No=678, year=2010, month=1, day=29, hour=5, pm2.5='17', DEWP=-20, TEMP=-8.0, PRES=1024.0, cbwd='NW', Iws=1.79, Is=0, Ir=0, new_column='New', demo feature='2010 1'),\n",
              " Row(No=679, year=2010, month=1, day=29, hour=6, pm2.5='10', DEWP=-18, TEMP=-10.0, PRES=1024.0, cbwd='cv', Iws=0.89, Is=0, Ir=0, new_column='New', demo feature='2010 1'),\n",
              " Row(No=680, year=2010, month=1, day=29, hour=7, pm2.5='11', DEWP=-21, TEMP=-2.0, PRES=1024.0, cbwd='NW', Iws=4.02, Is=0, Ir=0, new_column='New', demo feature='2010 1'),\n",
              " Row(No=681, year=2010, month=1, day=29, hour=8, pm2.5='16', DEWP=-21, TEMP=-1.0, PRES=1025.0, cbwd='NW', Iws=9.83, Is=0, Ir=0, new_column='New', demo feature='2010 1'),\n",
              " Row(No=682, year=2010, month=1, day=29, hour=9, pm2.5='20', DEWP=-24, TEMP=1.0, PRES=1025.0, cbwd='NW', Iws=17.88, Is=0, Ir=0, new_column='New', demo feature='2010 1'),\n",
              " Row(No=683, year=2010, month=1, day=29, hour=10, pm2.5='13', DEWP=-25, TEMP=2.0, PRES=1025.0, cbwd='NW', Iws=26.82, Is=0, Ir=0, new_column='New', demo feature='2010 1'),\n",
              " Row(No=684, year=2010, month=1, day=29, hour=11, pm2.5='12', DEWP=-24, TEMP=3.0, PRES=1024.0, cbwd='NW', Iws=33.97, Is=0, Ir=0, new_column='New', demo feature='2010 1'),\n",
              " Row(No=685, year=2010, month=1, day=29, hour=12, pm2.5='12', DEWP=-25, TEMP=4.0, PRES=1023.0, cbwd='NW', Iws=42.02, Is=0, Ir=0, new_column='New', demo feature='2010 1'),\n",
              " Row(No=686, year=2010, month=1, day=29, hour=13, pm2.5='12', DEWP=-24, TEMP=5.0, PRES=1022.0, cbwd='NW', Iws=50.07, Is=0, Ir=0, new_column='New', demo feature='2010 1'),\n",
              " Row(No=687, year=2010, month=1, day=29, hour=14, pm2.5='12', DEWP=-25, TEMP=6.0, PRES=1020.0, cbwd='NW', Iws=57.22, Is=0, Ir=0, new_column='New', demo feature='2010 1'),\n",
              " Row(No=688, year=2010, month=1, day=29, hour=15, pm2.5='31', DEWP=-25, TEMP=6.0, PRES=1020.0, cbwd='NW', Iws=65.27, Is=0, Ir=0, new_column='New', demo feature='2010 1'),\n",
              " Row(No=689, year=2010, month=1, day=29, hour=16, pm2.5='36', DEWP=-23, TEMP=6.0, PRES=1020.0, cbwd='NW', Iws=72.42, Is=0, Ir=0, new_column='New', demo feature='2010 1'),\n",
              " Row(No=690, year=2010, month=1, day=29, hour=17, pm2.5='42', DEWP=-22, TEMP=5.0, PRES=1020.0, cbwd='NW', Iws=78.23, Is=0, Ir=0, new_column='New', demo feature='2010 1'),\n",
              " Row(No=691, year=2010, month=1, day=29, hour=18, pm2.5='52', DEWP=-21, TEMP=5.0, PRES=1020.0, cbwd='NW', Iws=84.04, Is=0, Ir=0, new_column='New', demo feature='2010 1'),\n",
              " Row(No=692, year=2010, month=1, day=29, hour=19, pm2.5='26', DEWP=-20, TEMP=5.0, PRES=1020.0, cbwd='NW', Iws=89.85, Is=0, Ir=0, new_column='New', demo feature='2010 1'),\n",
              " Row(No=693, year=2010, month=1, day=29, hour=20, pm2.5='24', DEWP=-20, TEMP=3.0, PRES=1020.0, cbwd='NW', Iws=93.87, Is=0, Ir=0, new_column='New', demo feature='2010 1'),\n",
              " Row(No=694, year=2010, month=1, day=29, hour=21, pm2.5='25', DEWP=-20, TEMP=3.0, PRES=1020.0, cbwd='NW', Iws=97.89, Is=0, Ir=0, new_column='New', demo feature='2010 1'),\n",
              " Row(No=695, year=2010, month=1, day=29, hour=22, pm2.5='43', DEWP=-19, TEMP=3.0, PRES=1021.0, cbwd='NW', Iws=101.02, Is=0, Ir=0, new_column='New', demo feature='2010 1'),\n",
              " Row(No=696, year=2010, month=1, day=29, hour=23, pm2.5='47', DEWP=-19, TEMP=3.0, PRES=1020.0, cbwd='NW', Iws=105.94, Is=0, Ir=0, new_column='New', demo feature='2010 1'),\n",
              " Row(No=697, year=2010, month=1, day=30, hour=0, pm2.5='61', DEWP=-18, TEMP=0.0, PRES=1020.0, cbwd='NW', Iws=109.96, Is=0, Ir=0, new_column='New', demo feature='2010 1'),\n",
              " Row(No=698, year=2010, month=1, day=30, hour=1, pm2.5='66', DEWP=-18, TEMP=0.0, PRES=1020.0, cbwd='NW', Iws=114.88, Is=0, Ir=0, new_column='New', demo feature='2010 1'),\n",
              " Row(No=699, year=2010, month=1, day=30, hour=2, pm2.5='65', DEWP=-15, TEMP=-1.0, PRES=1020.0, cbwd='cv', Iws=1.79, Is=0, Ir=0, new_column='New', demo feature='2010 1'),\n",
              " Row(No=700, year=2010, month=1, day=30, hour=3, pm2.5='70', DEWP=-15, TEMP=-2.0, PRES=1020.0, cbwd='NW', Iws=0.89, Is=0, Ir=0, new_column='New', demo feature='2010 1'),\n",
              " Row(No=701, year=2010, month=1, day=30, hour=4, pm2.5='36', DEWP=-16, TEMP=-1.0, PRES=1020.0, cbwd='NW', Iws=4.02, Is=0, Ir=0, new_column='New', demo feature='2010 1'),\n",
              " Row(No=702, year=2010, month=1, day=30, hour=5, pm2.5='37', DEWP=-16, TEMP=-4.0, PRES=1019.0, cbwd='NW', Iws=8.94, Is=0, Ir=0, new_column='New', demo feature='2010 1'),\n",
              " Row(No=703, year=2010, month=1, day=30, hour=6, pm2.5='22', DEWP=-15, TEMP=-5.0, PRES=1020.0, cbwd='cv', Iws=0.89, Is=0, Ir=0, new_column='New', demo feature='2010 1'),\n",
              " Row(No=704, year=2010, month=1, day=30, hour=7, pm2.5='24', DEWP=-16, TEMP=-5.0, PRES=1020.0, cbwd='NW', Iws=3.13, Is=0, Ir=0, new_column='New', demo feature='2010 1'),\n",
              " Row(No=705, year=2010, month=1, day=30, hour=8, pm2.5='29', DEWP=-15, TEMP=-6.0, PRES=1021.0, cbwd='cv', Iws=0.89, Is=0, Ir=0, new_column='New', demo feature='2010 1'),\n",
              " Row(No=706, year=2010, month=1, day=30, hour=9, pm2.5='35', DEWP=-15, TEMP=0.0, PRES=1021.0, cbwd='NW', Iws=4.02, Is=0, Ir=0, new_column='New', demo feature='2010 1'),\n",
              " Row(No=707, year=2010, month=1, day=30, hour=10, pm2.5='35', DEWP=-18, TEMP=3.0, PRES=1021.0, cbwd='NW', Iws=8.04, Is=0, Ir=0, new_column='New', demo feature='2010 1'),\n",
              " Row(No=708, year=2010, month=1, day=30, hour=11, pm2.5='33', DEWP=-21, TEMP=5.0, PRES=1020.0, cbwd='NW', Iws=12.96, Is=0, Ir=0, new_column='New', demo feature='2010 1'),\n",
              " Row(No=709, year=2010, month=1, day=30, hour=12, pm2.5='32', DEWP=-22, TEMP=6.0, PRES=1020.0, cbwd='NW', Iws=18.77, Is=0, Ir=0, new_column='New', demo feature='2010 1'),\n",
              " Row(No=710, year=2010, month=1, day=30, hour=13, pm2.5='25', DEWP=-22, TEMP=7.0, PRES=1019.0, cbwd='NW', Iws=25.92, Is=0, Ir=0, new_column='New', demo feature='2010 1'),\n",
              " Row(No=711, year=2010, month=1, day=30, hour=14, pm2.5='16', DEWP=-22, TEMP=7.0, PRES=1018.0, cbwd='NW', Iws=35.75, Is=0, Ir=0, new_column='New', demo feature='2010 1'),\n",
              " Row(No=712, year=2010, month=1, day=30, hour=15, pm2.5='26', DEWP=-23, TEMP=7.0, PRES=1018.0, cbwd='NW', Iws=45.58, Is=0, Ir=0, new_column='New', demo feature='2010 1'),\n",
              " Row(No=713, year=2010, month=1, day=30, hour=16, pm2.5='32', DEWP=-23, TEMP=7.0, PRES=1017.0, cbwd='NW', Iws=52.73, Is=0, Ir=0, new_column='New', demo feature='2010 1'),\n",
              " Row(No=714, year=2010, month=1, day=30, hour=17, pm2.5='36', DEWP=-22, TEMP=6.0, PRES=1018.0, cbwd='NW', Iws=58.54, Is=0, Ir=0, new_column='New', demo feature='2010 1'),\n",
              " Row(No=715, year=2010, month=1, day=30, hour=18, pm2.5='37', DEWP=-21, TEMP=5.0, PRES=1018.0, cbwd='NW', Iws=64.35, Is=0, Ir=0, new_column='New', demo feature='2010 1'),\n",
              " Row(No=716, year=2010, month=1, day=30, hour=19, pm2.5='45', DEWP=-21, TEMP=5.0, PRES=1019.0, cbwd='NW', Iws=70.16, Is=0, Ir=0, new_column='New', demo feature='2010 1'),\n",
              " Row(No=717, year=2010, month=1, day=30, hour=20, pm2.5='71', DEWP=-19, TEMP=4.0, PRES=1019.0, cbwd='NW', Iws=74.18, Is=0, Ir=0, new_column='New', demo feature='2010 1'),\n",
              " Row(No=718, year=2010, month=1, day=30, hour=21, pm2.5='67', DEWP=-19, TEMP=5.0, PRES=1020.0, cbwd='NW', Iws=78.2, Is=0, Ir=0, new_column='New', demo feature='2010 1'),\n",
              " Row(No=719, year=2010, month=1, day=30, hour=22, pm2.5='69', DEWP=-19, TEMP=2.0, PRES=1020.0, cbwd='NW', Iws=81.33, Is=0, Ir=0, new_column='New', demo feature='2010 1'),\n",
              " Row(No=720, year=2010, month=1, day=30, hour=23, pm2.5='94', DEWP=-18, TEMP=2.0, PRES=1021.0, cbwd='NW', Iws=84.46, Is=0, Ir=0, new_column='New', demo feature='2010 1'),\n",
              " Row(No=721, year=2010, month=1, day=31, hour=0, pm2.5='85', DEWP=-18, TEMP=1.0, PRES=1021.0, cbwd='NW', Iws=87.59, Is=0, Ir=0, new_column='New', demo feature='2010 1'),\n",
              " Row(No=722, year=2010, month=1, day=31, hour=1, pm2.5='35', DEWP=-18, TEMP=1.0, PRES=1021.0, cbwd='NW', Iws=90.72, Is=0, Ir=0, new_column='New', demo feature='2010 1'),\n",
              " Row(No=723, year=2010, month=1, day=31, hour=2, pm2.5='26', DEWP=-16, TEMP=-3.0, PRES=1022.0, cbwd='NW', Iws=93.85, Is=0, Ir=0, new_column='New', demo feature='2010 1'),\n",
              " Row(No=724, year=2010, month=1, day=31, hour=3, pm2.5='24', DEWP=-15, TEMP=-2.0, PRES=1022.0, cbwd='NW', Iws=95.64, Is=0, Ir=0, new_column='New', demo feature='2010 1'),\n",
              " Row(No=725, year=2010, month=1, day=31, hour=4, pm2.5='20', DEWP=-15, TEMP=0.0, PRES=1022.0, cbwd='NW', Iws=99.66, Is=0, Ir=0, new_column='New', demo feature='2010 1'),\n",
              " Row(No=726, year=2010, month=1, day=31, hour=5, pm2.5='16', DEWP=-17, TEMP=1.0, PRES=1023.0, cbwd='NW', Iws=105.47, Is=0, Ir=0, new_column='New', demo feature='2010 1'),\n",
              " Row(No=727, year=2010, month=1, day=31, hour=6, pm2.5='18', DEWP=-15, TEMP=0.0, PRES=1023.0, cbwd='NW', Iws=109.49, Is=0, Ir=0, new_column='New', demo feature='2010 1'),\n",
              " Row(No=728, year=2010, month=1, day=31, hour=7, pm2.5='19', DEWP=-18, TEMP=0.0, PRES=1025.0, cbwd='NW', Iws=113.51, Is=0, Ir=0, new_column='New', demo feature='2010 1'),\n",
              " Row(No=729, year=2010, month=1, day=31, hour=8, pm2.5='22', DEWP=-17, TEMP=0.0, PRES=1025.0, cbwd='NW', Iws=116.64, Is=0, Ir=0, new_column='New', demo feature='2010 1'),\n",
              " Row(No=730, year=2010, month=1, day=31, hour=9, pm2.5='17', DEWP=-17, TEMP=2.0, PRES=1026.0, cbwd='NW', Iws=120.66, Is=0, Ir=0, new_column='New', demo feature='2010 1'),\n",
              " Row(No=731, year=2010, month=1, day=31, hour=10, pm2.5='18', DEWP=-19, TEMP=3.0, PRES=1026.0, cbwd='NW', Iws=129.6, Is=0, Ir=0, new_column='New', demo feature='2010 1'),\n",
              " Row(No=732, year=2010, month=1, day=31, hour=11, pm2.5='11', DEWP=-19, TEMP=4.0, PRES=1026.0, cbwd='NW', Iws=138.54, Is=0, Ir=0, new_column='New', demo feature='2010 1'),\n",
              " Row(No=733, year=2010, month=1, day=31, hour=12, pm2.5='11', DEWP=-20, TEMP=5.0, PRES=1025.0, cbwd='NW', Iws=145.69, Is=0, Ir=0, new_column='New', demo feature='2010 1'),\n",
              " Row(No=734, year=2010, month=1, day=31, hour=13, pm2.5='16', DEWP=-17, TEMP=5.0, PRES=1024.0, cbwd='NE', Iws=4.02, Is=0, Ir=0, new_column='New', demo feature='2010 1'),\n",
              " Row(No=735, year=2010, month=1, day=31, hour=14, pm2.5='18', DEWP=-18, TEMP=6.0, PRES=1024.0, cbwd='NE', Iws=7.15, Is=0, Ir=0, new_column='New', demo feature='2010 1'),\n",
              " Row(No=736, year=2010, month=1, day=31, hour=15, pm2.5='17', DEWP=-18, TEMP=6.0, PRES=1024.0, cbwd='cv', Iws=0.89, Is=0, Ir=0, new_column='New', demo feature='2010 1'),\n",
              " Row(No=737, year=2010, month=1, day=31, hour=16, pm2.5='19', DEWP=-18, TEMP=5.0, PRES=1024.0, cbwd='SE', Iws=1.79, Is=0, Ir=0, new_column='New', demo feature='2010 1'),\n",
              " Row(No=738, year=2010, month=1, day=31, hour=17, pm2.5='26', DEWP=-17, TEMP=4.0, PRES=1024.0, cbwd='SE', Iws=3.58, Is=0, Ir=0, new_column='New', demo feature='2010 1'),\n",
              " Row(No=739, year=2010, month=1, day=31, hour=18, pm2.5='24', DEWP=-17, TEMP=1.0, PRES=1024.0, cbwd='NE', Iws=1.79, Is=0, Ir=0, new_column='New', demo feature='2010 1'),\n",
              " Row(No=740, year=2010, month=1, day=31, hour=19, pm2.5='54', DEWP=-15, TEMP=-1.0, PRES=1025.0, cbwd='NE', Iws=2.68, Is=0, Ir=0, new_column='New', demo feature='2010 1'),\n",
              " Row(No=741, year=2010, month=1, day=31, hour=20, pm2.5='71', DEWP=-13, TEMP=-1.0, PRES=1025.0, cbwd='cv', Iws=0.89, Is=0, Ir=0, new_column='New', demo feature='2010 1'),\n",
              " Row(No=742, year=2010, month=1, day=31, hour=21, pm2.5='129', DEWP=-8, TEMP=-1.0, PRES=1026.0, cbwd='SE', Iws=5.81, Is=0, Ir=0, new_column='New', demo feature='2010 1'),\n",
              " Row(No=743, year=2010, month=1, day=31, hour=22, pm2.5='145', DEWP=-7, TEMP=-2.0, PRES=1027.0, cbwd='SE', Iws=10.73, Is=0, Ir=0, new_column='New', demo feature='2010 1'),\n",
              " Row(No=744, year=2010, month=1, day=31, hour=23, pm2.5='101', DEWP=-7, TEMP=-2.0, PRES=1027.0, cbwd='SE', Iws=13.86, Is=0, Ir=0, new_column='New', demo feature='2010 1'),\n",
              " Row(No=745, year=2010, month=2, day=1, hour=0, pm2.5='65', DEWP=-8, TEMP=-3.0, PRES=1027.0, cbwd='SE', Iws=15.65, Is=0, Ir=0, new_column='New', demo feature='2010 2'),\n",
              " Row(No=746, year=2010, month=2, day=1, hour=1, pm2.5='70', DEWP=-9, TEMP=-4.0, PRES=1027.0, cbwd='NE', Iws=0.89, Is=0, Ir=0, new_column='New', demo feature='2010 2'),\n",
              " Row(No=747, year=2010, month=2, day=1, hour=2, pm2.5='67', DEWP=-9, TEMP=-4.0, PRES=1027.0, cbwd='NE', Iws=1.78, Is=0, Ir=0, new_column='New', demo feature='2010 2'),\n",
              " Row(No=748, year=2010, month=2, day=1, hour=3, pm2.5='76', DEWP=-9, TEMP=-4.0, PRES=1027.0, cbwd='cv', Iws=0.89, Is=0, Ir=0, new_column='New', demo feature='2010 2'),\n",
              " Row(No=749, year=2010, month=2, day=1, hour=4, pm2.5='76', DEWP=-9, TEMP=-4.0, PRES=1026.0, cbwd='SE', Iws=0.89, Is=0, Ir=0, new_column='New', demo feature='2010 2'),\n",
              " Row(No=750, year=2010, month=2, day=1, hour=5, pm2.5='68', DEWP=-9, TEMP=-5.0, PRES=1027.0, cbwd='cv', Iws=0.89, Is=0, Ir=0, new_column='New', demo feature='2010 2'),\n",
              " Row(No=751, year=2010, month=2, day=1, hour=6, pm2.5='73', DEWP=-10, TEMP=-4.0, PRES=1027.0, cbwd='SE', Iws=0.89, Is=0, Ir=0, new_column='New', demo feature='2010 2'),\n",
              " Row(No=752, year=2010, month=2, day=1, hour=7, pm2.5='73', DEWP=-10, TEMP=-4.0, PRES=1027.0, cbwd='cv', Iws=0.89, Is=0, Ir=0, new_column='New', demo feature='2010 2'),\n",
              " Row(No=753, year=2010, month=2, day=1, hour=8, pm2.5='64', DEWP=-10, TEMP=-6.0, PRES=1028.0, cbwd='NE', Iws=0.89, Is=0, Ir=0, new_column='New', demo feature='2010 2'),\n",
              " Row(No=754, year=2010, month=2, day=1, hour=9, pm2.5='53', DEWP=-9, TEMP=-3.0, PRES=1028.0, cbwd='SE', Iws=1.79, Is=0, Ir=0, new_column='New', demo feature='2010 2'),\n",
              " Row(No=755, year=2010, month=2, day=1, hour=10, pm2.5='72', DEWP=-9, TEMP=-2.0, PRES=1028.0, cbwd='cv', Iws=0.89, Is=0, Ir=0, new_column='New', demo feature='2010 2'),\n",
              " Row(No=756, year=2010, month=2, day=1, hour=11, pm2.5='78', DEWP=-9, TEMP=-1.0, PRES=1028.0, cbwd='SE', Iws=1.79, Is=0, Ir=0, new_column='New', demo feature='2010 2'),\n",
              " Row(No=757, year=2010, month=2, day=1, hour=12, pm2.5='72', DEWP=-10, TEMP=0.0, PRES=1027.0, cbwd='SE', Iws=6.71, Is=0, Ir=0, new_column='New', demo feature='2010 2'),\n",
              " Row(No=758, year=2010, month=2, day=1, hour=13, pm2.5='56', DEWP=-12, TEMP=0.0, PRES=1026.0, cbwd='SE', Iws=10.73, Is=0, Ir=0, new_column='New', demo feature='2010 2'),\n",
              " Row(No=759, year=2010, month=2, day=1, hour=14, pm2.5='54', DEWP=-14, TEMP=1.0, PRES=1026.0, cbwd='SE', Iws=14.75, Is=0, Ir=0, new_column='New', demo feature='2010 2'),\n",
              " Row(No=760, year=2010, month=2, day=1, hour=15, pm2.5='40', DEWP=-14, TEMP=0.0, PRES=1025.0, cbwd='SE', Iws=16.54, Is=0, Ir=0, new_column='New', demo feature='2010 2'),\n",
              " Row(No=761, year=2010, month=2, day=1, hour=16, pm2.5='49', DEWP=-12, TEMP=0.0, PRES=1026.0, cbwd='SE', Iws=19.67, Is=0, Ir=0, new_column='New', demo feature='2010 2'),\n",
              " Row(No=762, year=2010, month=2, day=1, hour=17, pm2.5='63', DEWP=-10, TEMP=-1.0, PRES=1025.0, cbwd='SE', Iws=21.46, Is=0, Ir=0, new_column='New', demo feature='2010 2'),\n",
              " Row(No=763, year=2010, month=2, day=1, hour=18, pm2.5='66', DEWP=-9, TEMP=-2.0, PRES=1026.0, cbwd='SE', Iws=23.25, Is=0, Ir=0, new_column='New', demo feature='2010 2'),\n",
              " Row(No=764, year=2010, month=2, day=1, hour=19, pm2.5='64', DEWP=-10, TEMP=-2.0, PRES=1026.0, cbwd='SE', Iws=26.38, Is=0, Ir=0, new_column='New', demo feature='2010 2'),\n",
              " Row(No=765, year=2010, month=2, day=1, hour=20, pm2.5='63', DEWP=-10, TEMP=-4.0, PRES=1027.0, cbwd='SE', Iws=30.4, Is=0, Ir=0, new_column='New', demo feature='2010 2'),\n",
              " Row(No=766, year=2010, month=2, day=1, hour=21, pm2.5='65', DEWP=-10, TEMP=-5.0, PRES=1027.0, cbwd='SE', Iws=34.42, Is=0, Ir=0, new_column='New', demo feature='2010 2'),\n",
              " Row(No=767, year=2010, month=2, day=1, hour=22, pm2.5='64', DEWP=-10, TEMP=-5.0, PRES=1027.0, cbwd='SE', Iws=39.34, Is=0, Ir=0, new_column='New', demo feature='2010 2'),\n",
              " Row(No=768, year=2010, month=2, day=1, hour=23, pm2.5='64', DEWP=-11, TEMP=-7.0, PRES=1027.0, cbwd='SE', Iws=41.13, Is=0, Ir=0, new_column='New', demo feature='2010 2'),\n",
              " Row(No=769, year=2010, month=2, day=2, hour=0, pm2.5='62', DEWP=-10, TEMP=-7.0, PRES=1028.0, cbwd='SE', Iws=42.92, Is=0, Ir=0, new_column='New', demo feature='2010 2'),\n",
              " Row(No=770, year=2010, month=2, day=2, hour=1, pm2.5='56', DEWP=-11, TEMP=-8.0, PRES=1028.0, cbwd='cv', Iws=0.89, Is=0, Ir=0, new_column='New', demo feature='2010 2'),\n",
              " Row(No=771, year=2010, month=2, day=2, hour=2, pm2.5='87', DEWP=-11, TEMP=-9.0, PRES=1028.0, cbwd='cv', Iws=1.34, Is=0, Ir=0, new_column='New', demo feature='2010 2'),\n",
              " Row(No=772, year=2010, month=2, day=2, hour=3, pm2.5='72', DEWP=-11, TEMP=-10.0, PRES=1028.0, cbwd='NE', Iws=1.79, Is=0, Ir=0, new_column='New', demo feature='2010 2'),\n",
              " Row(No=773, year=2010, month=2, day=2, hour=4, pm2.5='104', DEWP=-12, TEMP=-10.0, PRES=1028.0, cbwd='cv', Iws=0.89, Is=0, Ir=0, new_column='New', demo feature='2010 2'),\n",
              " Row(No=774, year=2010, month=2, day=2, hour=5, pm2.5='97', DEWP=-13, TEMP=-11.0, PRES=1028.0, cbwd='NE', Iws=0.89, Is=0, Ir=0, new_column='New', demo feature='2010 2'),\n",
              " Row(No=775, year=2010, month=2, day=2, hour=6, pm2.5='96', DEWP=-11, TEMP=-9.0, PRES=1028.0, cbwd='cv', Iws=0.89, Is=0, Ir=0, new_column='New', demo feature='2010 2'),\n",
              " Row(No=776, year=2010, month=2, day=2, hour=7, pm2.5='86', DEWP=-11, TEMP=-8.0, PRES=1028.0, cbwd='SE', Iws=0.89, Is=0, Ir=0, new_column='New', demo feature='2010 2'),\n",
              " Row(No=777, year=2010, month=2, day=2, hour=8, pm2.5='85', DEWP=-10, TEMP=-7.0, PRES=1029.0, cbwd='NW', Iws=1.79, Is=0, Ir=0, new_column='New', demo feature='2010 2'),\n",
              " Row(No=778, year=2010, month=2, day=2, hour=9, pm2.5='92', DEWP=-14, TEMP=-6.0, PRES=1029.0, cbwd='NE', Iws=4.92, Is=0, Ir=0, new_column='New', demo feature='2010 2'),\n",
              " Row(No=779, year=2010, month=2, day=2, hour=10, pm2.5='55', DEWP=-18, TEMP=-5.0, PRES=1029.0, cbwd='NE', Iws=10.73, Is=0, Ir=0, new_column='New', demo feature='2010 2'),\n",
              " Row(No=780, year=2010, month=2, day=2, hour=11, pm2.5='36', DEWP=-20, TEMP=-3.0, PRES=1029.0, cbwd='NE', Iws=14.75, Is=0, Ir=0, new_column='New', demo feature='2010 2'),\n",
              " Row(No=781, year=2010, month=2, day=2, hour=12, pm2.5='27', DEWP=-20, TEMP=-2.0, PRES=1028.0, cbwd='NE', Iws=16.54, Is=0, Ir=0, new_column='New', demo feature='2010 2'),\n",
              " Row(No=782, year=2010, month=2, day=2, hour=13, pm2.5='25', DEWP=-20, TEMP=-1.0, PRES=1028.0, cbwd='NE', Iws=18.33, Is=0, Ir=0, new_column='New', demo feature='2010 2'),\n",
              " Row(No=783, year=2010, month=2, day=2, hour=14, pm2.5='28', DEWP=-20, TEMP=0.0, PRES=1027.0, cbwd='cv', Iws=1.79, Is=0, Ir=0, new_column='New', demo feature='2010 2'),\n",
              " Row(No=784, year=2010, month=2, day=2, hour=15, pm2.5='32', DEWP=-22, TEMP=0.0, PRES=1027.0, cbwd='cv', Iws=2.68, Is=0, Ir=0, new_column='New', demo feature='2010 2'),\n",
              " Row(No=785, year=2010, month=2, day=2, hour=16, pm2.5='35', DEWP=-22, TEMP=1.0, PRES=1027.0, cbwd='cv', Iws=3.57, Is=0, Ir=0, new_column='New', demo feature='2010 2'),\n",
              " Row(No=786, year=2010, month=2, day=2, hour=17, pm2.5='43', DEWP=-19, TEMP=-2.0, PRES=1027.0, cbwd='NE', Iws=1.79, Is=0, Ir=0, new_column='New', demo feature='2010 2'),\n",
              " Row(No=787, year=2010, month=2, day=2, hour=18, pm2.5='70', DEWP=-20, TEMP=-4.0, PRES=1028.0, cbwd='NW', Iws=3.13, Is=0, Ir=0, new_column='New', demo feature='2010 2'),\n",
              " Row(No=788, year=2010, month=2, day=2, hour=19, pm2.5='83', DEWP=-21, TEMP=-3.0, PRES=1029.0, cbwd='NW', Iws=4.02, Is=0, Ir=0, new_column='New', demo feature='2010 2'),\n",
              " Row(No=789, year=2010, month=2, day=2, hour=20, pm2.5='66', DEWP=-19, TEMP=-6.0, PRES=1029.0, cbwd='cv', Iws=0.89, Is=0, Ir=0, new_column='New', demo feature='2010 2'),\n",
              " Row(No=790, year=2010, month=2, day=2, hour=21, pm2.5='70', DEWP=-16, TEMP=-7.0, PRES=1029.0, cbwd='NE', Iws=0.89, Is=0, Ir=0, new_column='New', demo feature='2010 2'),\n",
              " Row(No=791, year=2010, month=2, day=2, hour=22, pm2.5='80', DEWP=-21, TEMP=-5.0, PRES=1030.0, cbwd='NW', Iws=1.79, Is=0, Ir=0, new_column='New', demo feature='2010 2'),\n",
              " Row(No=792, year=2010, month=2, day=2, hour=23, pm2.5='88', DEWP=-19, TEMP=-8.0, PRES=1030.0, cbwd='NW', Iws=4.92, Is=0, Ir=0, new_column='New', demo feature='2010 2'),\n",
              " Row(No=793, year=2010, month=2, day=3, hour=0, pm2.5='69', DEWP=-20, TEMP=-8.0, PRES=1030.0, cbwd='NW', Iws=8.05, Is=0, Ir=0, new_column='New', demo feature='2010 2'),\n",
              " Row(No=794, year=2010, month=2, day=3, hour=1, pm2.5='71', DEWP=-21, TEMP=-8.0, PRES=1030.0, cbwd='cv', Iws=0.89, Is=0, Ir=0, new_column='New', demo feature='2010 2'),\n",
              " Row(No=795, year=2010, month=2, day=3, hour=2, pm2.5='62', DEWP=-18, TEMP=-10.0, PRES=1030.0, cbwd='NE', Iws=0.89, Is=0, Ir=0, new_column='New', demo feature='2010 2'),\n",
              " Row(No=796, year=2010, month=2, day=3, hour=3, pm2.5='73', DEWP=-17, TEMP=-10.0, PRES=1030.0, cbwd='cv', Iws=0.89, Is=0, Ir=0, new_column='New', demo feature='2010 2'),\n",
              " Row(No=797, year=2010, month=2, day=3, hour=4, pm2.5='107', DEWP=-17, TEMP=-12.0, PRES=1030.0, cbwd='SE', Iws=0.89, Is=0, Ir=0, new_column='New', demo feature='2010 2'),\n",
              " Row(No=798, year=2010, month=2, day=3, hour=5, pm2.5='94', DEWP=-17, TEMP=-13.0, PRES=1030.0, cbwd='NW', Iws=1.79, Is=0, Ir=0, new_column='New', demo feature='2010 2'),\n",
              " Row(No=799, year=2010, month=2, day=3, hour=6, pm2.5='121', DEWP=-17, TEMP=-13.0, PRES=1030.0, cbwd='NW', Iws=4.92, Is=0, Ir=0, new_column='New', demo feature='2010 2'),\n",
              " Row(No=800, year=2010, month=2, day=3, hour=7, pm2.5='132', DEWP=-19, TEMP=-11.0, PRES=1030.0, cbwd='cv', Iws=0.89, Is=0, Ir=0, new_column='New', demo feature='2010 2'),\n",
              " Row(No=801, year=2010, month=2, day=3, hour=8, pm2.5='161', DEWP=-18, TEMP=-11.0, PRES=1030.0, cbwd='cv', Iws=1.34, Is=0, Ir=0, new_column='New', demo feature='2010 2'),\n",
              " Row(No=802, year=2010, month=2, day=3, hour=9, pm2.5='120', DEWP=-18, TEMP=-8.0, PRES=1030.0, cbwd='NW', Iws=1.79, Is=0, Ir=0, new_column='New', demo feature='2010 2'),\n",
              " Row(No=803, year=2010, month=2, day=3, hour=10, pm2.5='72', DEWP=-19, TEMP=-4.0, PRES=1030.0, cbwd='NE', Iws=3.13, Is=0, Ir=0, new_column='New', demo feature='2010 2'),\n",
              " Row(No=804, year=2010, month=2, day=3, hour=11, pm2.5='58', DEWP=-20, TEMP=-2.0, PRES=1030.0, cbwd='NW', Iws=4.92, Is=0, Ir=0, new_column='New', demo feature='2010 2'),\n",
              " Row(No=805, year=2010, month=2, day=3, hour=12, pm2.5='34', DEWP=-22, TEMP=0.0, PRES=1029.0, cbwd='NW', Iws=12.07, Is=0, Ir=0, new_column='New', demo feature='2010 2'),\n",
              " Row(No=806, year=2010, month=2, day=3, hour=13, pm2.5='14', DEWP=-23, TEMP=1.0, PRES=1027.0, cbwd='NW', Iws=19.22, Is=0, Ir=0, new_column='New', demo feature='2010 2'),\n",
              " Row(No=807, year=2010, month=2, day=3, hour=14, pm2.5='17', DEWP=-24, TEMP=1.0, PRES=1026.0, cbwd='NW', Iws=28.16, Is=0, Ir=0, new_column='New', demo feature='2010 2'),\n",
              " Row(No=808, year=2010, month=2, day=3, hour=15, pm2.5='15', DEWP=-25, TEMP=2.0, PRES=1026.0, cbwd='NW', Iws=37.1, Is=0, Ir=0, new_column='New', demo feature='2010 2'),\n",
              " Row(No=809, year=2010, month=2, day=3, hour=16, pm2.5='23', DEWP=-22, TEMP=2.0, PRES=1026.0, cbwd='NW', Iws=46.93, Is=0, Ir=0, new_column='New', demo feature='2010 2'),\n",
              " Row(No=810, year=2010, month=2, day=3, hour=17, pm2.5='34', DEWP=-21, TEMP=1.0, PRES=1026.0, cbwd='NW', Iws=54.08, Is=0, Ir=0, new_column='New', demo feature='2010 2'),\n",
              " Row(No=811, year=2010, month=2, day=3, hour=18, pm2.5='96', DEWP=-22, TEMP=1.0, PRES=1026.0, cbwd='NW', Iws=59.0, Is=0, Ir=0, new_column='New', demo feature='2010 2'),\n",
              " Row(No=812, year=2010, month=2, day=3, hour=19, pm2.5='87', DEWP=-17, TEMP=0.0, PRES=1027.0, cbwd='NW', Iws=63.02, Is=0, Ir=0, new_column='New', demo feature='2010 2'),\n",
              " Row(No=813, year=2010, month=2, day=3, hour=20, pm2.5='87', DEWP=-20, TEMP=-4.0, PRES=1027.0, cbwd='cv', Iws=0.89, Is=0, Ir=0, new_column='New', demo feature='2010 2'),\n",
              " Row(No=814, year=2010, month=2, day=3, hour=21, pm2.5='95', DEWP=-20, TEMP=-5.0, PRES=1028.0, cbwd='NW', Iws=1.79, Is=0, Ir=0, new_column='New', demo feature='2010 2'),\n",
              " Row(No=815, year=2010, month=2, day=3, hour=22, pm2.5='105', DEWP=-21, TEMP=-6.0, PRES=1028.0, cbwd='NW', Iws=4.92, Is=0, Ir=0, new_column='New', demo feature='2010 2'),\n",
              " Row(No=816, year=2010, month=2, day=3, hour=23, pm2.5='114', DEWP=-21, TEMP=-7.0, PRES=1028.0, cbwd='cv', Iws=0.45, Is=0, Ir=0, new_column='New', demo feature='2010 2'),\n",
              " Row(No=817, year=2010, month=2, day=4, hour=0, pm2.5='103', DEWP=-21, TEMP=-7.0, PRES=1028.0, cbwd='NW', Iws=1.79, Is=0, Ir=0, new_column='New', demo feature='2010 2'),\n",
              " Row(No=818, year=2010, month=2, day=4, hour=1, pm2.5='99', DEWP=-21, TEMP=-8.0, PRES=1028.0, cbwd='NW', Iws=4.92, Is=0, Ir=0, new_column='New', demo feature='2010 2'),\n",
              " Row(No=819, year=2010, month=2, day=4, hour=2, pm2.5='102', DEWP=-21, TEMP=-9.0, PRES=1028.0, cbwd='cv', Iws=0.89, Is=0, Ir=0, new_column='New', demo feature='2010 2'),\n",
              " Row(No=820, year=2010, month=2, day=4, hour=3, pm2.5='104', DEWP=-19, TEMP=-10.0, PRES=1028.0, cbwd='cv', Iws=1.34, Is=0, Ir=0, new_column='New', demo feature='2010 2'),\n",
              " Row(No=821, year=2010, month=2, day=4, hour=4, pm2.5='78', DEWP=-19, TEMP=-10.0, PRES=1028.0, cbwd='NW', Iws=1.79, Is=0, Ir=0, new_column='New', demo feature='2010 2'),\n",
              " Row(No=822, year=2010, month=2, day=4, hour=5, pm2.5='33', DEWP=-19, TEMP=-12.0, PRES=1028.0, cbwd='cv', Iws=0.89, Is=0, Ir=0, new_column='New', demo feature='2010 2'),\n",
              " Row(No=823, year=2010, month=2, day=4, hour=6, pm2.5='29', DEWP=-18, TEMP=-12.0, PRES=1028.0, cbwd='SE', Iws=0.89, Is=0, Ir=0, new_column='New', demo feature='2010 2'),\n",
              " Row(No=824, year=2010, month=2, day=4, hour=7, pm2.5='27', DEWP=-20, TEMP=-15.0, PRES=1028.0, cbwd='NW', Iws=4.02, Is=0, Ir=0, new_column='New', demo feature='2010 2'),\n",
              " Row(No=825, year=2010, month=2, day=4, hour=8, pm2.5='27', DEWP=-17, TEMP=-10.0, PRES=1028.0, cbwd='NW', Iws=8.04, Is=0, Ir=0, new_column='New', demo feature='2010 2'),\n",
              " Row(No=826, year=2010, month=2, day=4, hour=9, pm2.5='26', DEWP=-19, TEMP=-5.0, PRES=1028.0, cbwd='NW', Iws=12.06, Is=0, Ir=0, new_column='New', demo feature='2010 2'),\n",
              " Row(No=827, year=2010, month=2, day=4, hour=10, pm2.5='33', DEWP=-20, TEMP=-3.0, PRES=1028.0, cbwd='NW', Iws=15.19, Is=0, Ir=0, new_column='New', demo feature='2010 2'),\n",
              " Row(No=828, year=2010, month=2, day=4, hour=11, pm2.5='29', DEWP=-20, TEMP=-2.0, PRES=1028.0, cbwd='NE', Iws=4.02, Is=0, Ir=0, new_column='New', demo feature='2010 2'),\n",
              " Row(No=829, year=2010, month=2, day=4, hour=12, pm2.5='31', DEWP=-22, TEMP=0.0, PRES=1027.0, cbwd='NW', Iws=3.13, Is=0, Ir=0, new_column='New', demo feature='2010 2'),\n",
              " Row(No=830, year=2010, month=2, day=4, hour=13, pm2.5='28', DEWP=-22, TEMP=1.0, PRES=1025.0, cbwd='NW', Iws=7.15, Is=0, Ir=0, new_column='New', demo feature='2010 2'),\n",
              " Row(No=831, year=2010, month=2, day=4, hour=14, pm2.5='28', DEWP=-22, TEMP=1.0, PRES=1025.0, cbwd='NE', Iws=1.79, Is=0, Ir=0, new_column='New', demo feature='2010 2'),\n",
              " Row(No=832, year=2010, month=2, day=4, hour=15, pm2.5='61', DEWP=-23, TEMP=1.0, PRES=1024.0, cbwd='NE', Iws=4.92, Is=0, Ir=0, new_column='New', demo feature='2010 2'),\n",
              " Row(No=833, year=2010, month=2, day=4, hour=16, pm2.5='64', DEWP=-23, TEMP=1.0, PRES=1024.0, cbwd='NE', Iws=6.71, Is=0, Ir=0, new_column='New', demo feature='2010 2'),\n",
              " Row(No=834, year=2010, month=2, day=4, hour=17, pm2.5='80', DEWP=-22, TEMP=0.0, PRES=1024.0, cbwd='NE', Iws=8.5, Is=0, Ir=0, new_column='New', demo feature='2010 2'),\n",
              " Row(No=835, year=2010, month=2, day=4, hour=18, pm2.5='91', DEWP=-20, TEMP=-4.0, PRES=1025.0, cbwd='NE', Iws=11.63, Is=0, Ir=0, new_column='New', demo feature='2010 2'),\n",
              " Row(No=836, year=2010, month=2, day=4, hour=19, pm2.5='79', DEWP=-22, TEMP=-3.0, PRES=1026.0, cbwd='NE', Iws=14.76, Is=0, Ir=0, new_column='New', demo feature='2010 2'),\n",
              " Row(No=837, year=2010, month=2, day=4, hour=20, pm2.5='48', DEWP=-22, TEMP=-3.0, PRES=1026.0, cbwd='NE', Iws=15.65, Is=0, Ir=0, new_column='New', demo feature='2010 2'),\n",
              " Row(No=838, year=2010, month=2, day=4, hour=21, pm2.5='59', DEWP=-20, TEMP=-5.0, PRES=1027.0, cbwd='NW', Iws=1.79, Is=0, Ir=0, new_column='New', demo feature='2010 2'),\n",
              " Row(No=839, year=2010, month=2, day=4, hour=22, pm2.5='82', DEWP=-21, TEMP=-3.0, PRES=1027.0, cbwd='cv', Iws=0.89, Is=0, Ir=0, new_column='New', demo feature='2010 2'),\n",
              " Row(No=840, year=2010, month=2, day=4, hour=23, pm2.5='63', DEWP=-19, TEMP=-4.0, PRES=1027.0, cbwd='NE', Iws=1.79, Is=0, Ir=0, new_column='New', demo feature='2010 2'),\n",
              " Row(No=841, year=2010, month=2, day=5, hour=0, pm2.5='48', DEWP=-19, TEMP=-4.0, PRES=1027.0, cbwd='NE', Iws=4.92, Is=0, Ir=0, new_column='New', demo feature='2010 2'),\n",
              " Row(No=842, year=2010, month=2, day=5, hour=1, pm2.5='54', DEWP=-19, TEMP=-4.0, PRES=1027.0, cbwd='NE', Iws=8.05, Is=0, Ir=0, new_column='New', demo feature='2010 2'),\n",
              " Row(No=843, year=2010, month=2, day=5, hour=2, pm2.5='42', DEWP=-19, TEMP=-4.0, PRES=1028.0, cbwd='cv', Iws=0.89, Is=0, Ir=0, new_column='New', demo feature='2010 2'),\n",
              " Row(No=844, year=2010, month=2, day=5, hour=3, pm2.5='47', DEWP=-19, TEMP=-5.0, PRES=1028.0, cbwd='NE', Iws=1.79, Is=0, Ir=0, new_column='New', demo feature='2010 2'),\n",
              " Row(No=845, year=2010, month=2, day=5, hour=4, pm2.5='87', DEWP=-15, TEMP=-5.0, PRES=1028.0, cbwd='SE', Iws=1.79, Is=0, Ir=0, new_column='New', demo feature='2010 2'),\n",
              " Row(No=846, year=2010, month=2, day=5, hour=5, pm2.5='105', DEWP=-13, TEMP=-6.0, PRES=1028.0, cbwd='NE', Iws=0.89, Is=0, Ir=0, new_column='New', demo feature='2010 2'),\n",
              " Row(No=847, year=2010, month=2, day=5, hour=6, pm2.5='90', DEWP=-13, TEMP=-7.0, PRES=1029.0, cbwd='cv', Iws=0.89, Is=0, Ir=0, new_column='New', demo feature='2010 2'),\n",
              " Row(No=848, year=2010, month=2, day=5, hour=7, pm2.5='101', DEWP=-12, TEMP=-7.0, PRES=1030.0, cbwd='cv', Iws=1.78, Is=0, Ir=0, new_column='New', demo feature='2010 2'),\n",
              " Row(No=849, year=2010, month=2, day=5, hour=8, pm2.5='126', DEWP=-19, TEMP=-6.0, PRES=1030.0, cbwd='NE', Iws=3.13, Is=0, Ir=0, new_column='New', demo feature='2010 2'),\n",
              " Row(No=850, year=2010, month=2, day=5, hour=9, pm2.5='114', DEWP=-18, TEMP=-5.0, PRES=1031.0, cbwd='NE', Iws=4.92, Is=0, Ir=0, new_column='New', demo feature='2010 2'),\n",
              " Row(No=851, year=2010, month=2, day=5, hour=10, pm2.5='103', DEWP=-14, TEMP=-4.0, PRES=1031.0, cbwd='cv', Iws=1.79, Is=0, Ir=0, new_column='New', demo feature='2010 2'),\n",
              " Row(No=852, year=2010, month=2, day=5, hour=11, pm2.5='114', DEWP=-13, TEMP=-3.0, PRES=1031.0, cbwd='SE', Iws=1.79, Is=0, Ir=0, new_column='New', demo feature='2010 2'),\n",
              " Row(No=853, year=2010, month=2, day=5, hour=12, pm2.5='100', DEWP=-14, TEMP=-2.0, PRES=1031.0, cbwd='SE', Iws=3.58, Is=0, Ir=0, new_column='New', demo feature='2010 2'),\n",
              " Row(No=854, year=2010, month=2, day=5, hour=13, pm2.5='72', DEWP=-13, TEMP=-1.0, PRES=1030.0, cbwd='SE', Iws=6.71, Is=0, Ir=0, new_column='New', demo feature='2010 2'),\n",
              " Row(No=855, year=2010, month=2, day=5, hour=14, pm2.5='68', DEWP=-14, TEMP=-1.0, PRES=1029.0, cbwd='cv', Iws=1.79, Is=0, Ir=0, new_column='New', demo feature='2010 2'),\n",
              " Row(No=856, year=2010, month=2, day=5, hour=15, pm2.5='72', DEWP=-13, TEMP=-1.0, PRES=1029.0, cbwd='SE', Iws=1.79, Is=0, Ir=0, new_column='New', demo feature='2010 2'),\n",
              " Row(No=857, year=2010, month=2, day=5, hour=16, pm2.5='71', DEWP=-12, TEMP=-1.0, PRES=1029.0, cbwd='SE', Iws=3.58, Is=0, Ir=0, new_column='New', demo feature='2010 2'),\n",
              " Row(No=858, year=2010, month=2, day=5, hour=17, pm2.5='80', DEWP=-12, TEMP=-2.0, PRES=1030.0, cbwd='SE', Iws=5.37, Is=0, Ir=0, new_column='New', demo feature='2010 2'),\n",
              " Row(No=859, year=2010, month=2, day=5, hour=18, pm2.5='70', DEWP=-12, TEMP=-4.0, PRES=1030.0, cbwd='SE', Iws=6.26, Is=0, Ir=0, new_column='New', demo feature='2010 2'),\n",
              " Row(No=860, year=2010, month=2, day=5, hour=19, pm2.5='63', DEWP=-13, TEMP=-4.0, PRES=1031.0, cbwd='SE', Iws=8.05, Is=0, Ir=0, new_column='New', demo feature='2010 2'),\n",
              " Row(No=861, year=2010, month=2, day=5, hour=20, pm2.5='67', DEWP=-13, TEMP=-5.0, PRES=1031.0, cbwd='SE', Iws=8.94, Is=0, Ir=0, new_column='New', demo feature='2010 2'),\n",
              " Row(No=862, year=2010, month=2, day=5, hour=21, pm2.5='62', DEWP=-12, TEMP=-5.0, PRES=1032.0, cbwd='SE', Iws=9.83, Is=0, Ir=0, new_column='New', demo feature='2010 2'),\n",
              " Row(No=863, year=2010, month=2, day=5, hour=22, pm2.5='69', DEWP=-12, TEMP=-6.0, PRES=1033.0, cbwd='SE', Iws=11.62, Is=0, Ir=0, new_column='New', demo feature='2010 2'),\n",
              " Row(No=864, year=2010, month=2, day=5, hour=23, pm2.5='58', DEWP=-11, TEMP=-6.0, PRES=1033.0, cbwd='SE', Iws=13.41, Is=0, Ir=0, new_column='New', demo feature='2010 2'),\n",
              " Row(No=865, year=2010, month=2, day=6, hour=0, pm2.5='51', DEWP=-11, TEMP=-7.0, PRES=1033.0, cbwd='SE', Iws=15.2, Is=0, Ir=0, new_column='New', demo feature='2010 2'),\n",
              " Row(No=866, year=2010, month=2, day=6, hour=1, pm2.5='51', DEWP=-11, TEMP=-8.0, PRES=1033.0, cbwd='SE', Iws=16.99, Is=0, Ir=0, new_column='New', demo feature='2010 2'),\n",
              " Row(No=867, year=2010, month=2, day=6, hour=2, pm2.5='54', DEWP=-11, TEMP=-8.0, PRES=1033.0, cbwd='SE', Iws=18.78, Is=0, Ir=0, new_column='New', demo feature='2010 2'),\n",
              " Row(No=868, year=2010, month=2, day=6, hour=3, pm2.5='45', DEWP=-11, TEMP=-8.0, PRES=1033.0, cbwd='SE', Iws=20.57, Is=0, Ir=0, new_column='New', demo feature='2010 2'),\n",
              " Row(No=869, year=2010, month=2, day=6, hour=4, pm2.5='47', DEWP=-11, TEMP=-7.0, PRES=1032.0, cbwd='SE', Iws=23.7, Is=0, Ir=0, new_column='New', demo feature='2010 2'),\n",
              " Row(No=870, year=2010, month=2, day=6, hour=5, pm2.5='85', DEWP=-11, TEMP=-7.0, PRES=1032.0, cbwd='SE', Iws=25.49, Is=0, Ir=0, new_column='New', demo feature='2010 2'),\n",
              " Row(No=871, year=2010, month=2, day=6, hour=6, pm2.5='78', DEWP=-12, TEMP=-7.0, PRES=1032.0, cbwd='SE', Iws=27.28, Is=0, Ir=0, new_column='New', demo feature='2010 2'),\n",
              " Row(No=872, year=2010, month=2, day=6, hour=7, pm2.5='68', DEWP=-12, TEMP=-7.0, PRES=1032.0, cbwd='SE', Iws=29.07, Is=0, Ir=0, new_column='New', demo feature='2010 2'),\n",
              " Row(No=873, year=2010, month=2, day=6, hour=8, pm2.5='64', DEWP=-13, TEMP=-7.0, PRES=1033.0, cbwd='cv', Iws=0.89, Is=0, Ir=0, new_column='New', demo feature='2010 2'),\n",
              " Row(No=874, year=2010, month=2, day=6, hour=9, pm2.5='65', DEWP=-12, TEMP=-6.0, PRES=1033.0, cbwd='SE', Iws=1.79, Is=1, Ir=0, new_column='New', demo feature='2010 2'),\n",
              " Row(No=875, year=2010, month=2, day=6, hour=10, pm2.5='80', DEWP=-11, TEMP=-5.0, PRES=1032.0, cbwd='SE', Iws=4.92, Is=0, Ir=0, new_column='New', demo feature='2010 2'),\n",
              " Row(No=876, year=2010, month=2, day=6, hour=11, pm2.5='74', DEWP=-11, TEMP=-4.0, PRES=1032.0, cbwd='SE', Iws=8.05, Is=0, Ir=0, new_column='New', demo feature='2010 2'),\n",
              " Row(No=877, year=2010, month=2, day=6, hour=12, pm2.5='93', DEWP=-11, TEMP=-3.0, PRES=1031.0, cbwd='SE', Iws=11.18, Is=0, Ir=0, new_column='New', demo feature='2010 2'),\n",
              " Row(No=878, year=2010, month=2, day=6, hour=13, pm2.5='77', DEWP=-11, TEMP=-3.0, PRES=1030.0, cbwd='SE', Iws=15.2, Is=0, Ir=0, new_column='New', demo feature='2010 2'),\n",
              " Row(No=879, year=2010, month=2, day=6, hour=14, pm2.5='67', DEWP=-12, TEMP=-2.0, PRES=1029.0, cbwd='SE', Iws=19.22, Is=0, Ir=0, new_column='New', demo feature='2010 2'),\n",
              " Row(No=880, year=2010, month=2, day=6, hour=15, pm2.5='84', DEWP=-12, TEMP=-2.0, PRES=1029.0, cbwd='SE', Iws=22.35, Is=0, Ir=0, new_column='New', demo feature='2010 2'),\n",
              " Row(No=881, year=2010, month=2, day=6, hour=16, pm2.5='77', DEWP=-12, TEMP=-2.0, PRES=1028.0, cbwd='SE', Iws=25.48, Is=0, Ir=0, new_column='New', demo feature='2010 2'),\n",
              " Row(No=882, year=2010, month=2, day=6, hour=17, pm2.5='83', DEWP=-12, TEMP=-2.0, PRES=1027.0, cbwd='SE', Iws=29.5, Is=0, Ir=0, new_column='New', demo feature='2010 2'),\n",
              " Row(No=883, year=2010, month=2, day=6, hour=18, pm2.5='82', DEWP=-10, TEMP=-3.0, PRES=1028.0, cbwd='SE', Iws=33.52, Is=0, Ir=0, new_column='New', demo feature='2010 2'),\n",
              " Row(No=884, year=2010, month=2, day=6, hour=19, pm2.5='100', DEWP=-9, TEMP=-3.0, PRES=1029.0, cbwd='SE', Iws=35.31, Is=1, Ir=0, new_column='New', demo feature='2010 2'),\n",
              " Row(No=885, year=2010, month=2, day=6, hour=20, pm2.5='189', DEWP=-7, TEMP=-4.0, PRES=1029.0, cbwd='SE', Iws=37.1, Is=2, Ir=0, new_column='New', demo feature='2010 2'),\n",
              " Row(No=886, year=2010, month=2, day=6, hour=21, pm2.5='99', DEWP=-6, TEMP=-5.0, PRES=1028.0, cbwd='SE', Iws=38.89, Is=3, Ir=0, new_column='New', demo feature='2010 2'),\n",
              " Row(No=887, year=2010, month=2, day=6, hour=22, pm2.5='71', DEWP=-6, TEMP=-5.0, PRES=1028.0, cbwd='SE', Iws=42.02, Is=4, Ir=0, new_column='New', demo feature='2010 2'),\n",
              " Row(No=888, year=2010, month=2, day=6, hour=23, pm2.5='43', DEWP=-6, TEMP=-5.0, PRES=1027.0, cbwd='SE', Iws=45.15, Is=5, Ir=0, new_column='New', demo feature='2010 2'),\n",
              " Row(No=889, year=2010, month=2, day=7, hour=0, pm2.5='64', DEWP=-6, TEMP=-5.0, PRES=1027.0, cbwd='SE', Iws=46.94, Is=6, Ir=0, new_column='New', demo feature='2010 2'),\n",
              " Row(No=890, year=2010, month=2, day=7, hour=1, pm2.5='68', DEWP=-7, TEMP=-5.0, PRES=1026.0, cbwd='SE', Iws=48.73, Is=7, Ir=0, new_column='New', demo feature='2010 2'),\n",
              " Row(No=891, year=2010, month=2, day=7, hour=2, pm2.5='69', DEWP=-7, TEMP=-5.0, PRES=1025.0, cbwd='cv', Iws=0.89, Is=8, Ir=0, new_column='New', demo feature='2010 2'),\n",
              " Row(No=892, year=2010, month=2, day=7, hour=3, pm2.5='65', DEWP=-7, TEMP=-5.0, PRES=1025.0, cbwd='cv', Iws=1.78, Is=9, Ir=0, new_column='New', demo feature='2010 2'),\n",
              " Row(No=893, year=2010, month=2, day=7, hour=4, pm2.5='71', DEWP=-7, TEMP=-6.0, PRES=1024.0, cbwd='NW', Iws=0.89, Is=10, Ir=0, new_column='New', demo feature='2010 2'),\n",
              " Row(No=894, year=2010, month=2, day=7, hour=5, pm2.5='77', DEWP=-7, TEMP=-6.0, PRES=1024.0, cbwd='cv', Iws=0.89, Is=0, Ir=0, new_column='New', demo feature='2010 2'),\n",
              " Row(No=895, year=2010, month=2, day=7, hour=6, pm2.5='81', DEWP=-7, TEMP=-6.0, PRES=1024.0, cbwd='NW', Iws=0.89, Is=0, Ir=0, new_column='New', demo feature='2010 2'),\n",
              " Row(No=896, year=2010, month=2, day=7, hour=7, pm2.5='88', DEWP=-7, TEMP=-6.0, PRES=1023.0, cbwd='NW', Iws=1.78, Is=0, Ir=0, new_column='New', demo feature='2010 2'),\n",
              " Row(No=897, year=2010, month=2, day=7, hour=8, pm2.5='90', DEWP=-6, TEMP=-5.0, PRES=1024.0, cbwd='NE', Iws=1.79, Is=0, Ir=0, new_column='New', demo feature='2010 2'),\n",
              " Row(No=898, year=2010, month=2, day=7, hour=9, pm2.5='92', DEWP=-6, TEMP=-5.0, PRES=1024.0, cbwd='NW', Iws=1.79, Is=1, Ir=0, new_column='New', demo feature='2010 2'),\n",
              " Row(No=899, year=2010, month=2, day=7, hour=10, pm2.5='88', DEWP=-6, TEMP=-4.0, PRES=1023.0, cbwd='NW', Iws=3.58, Is=0, Ir=0, new_column='New', demo feature='2010 2'),\n",
              " Row(No=900, year=2010, month=2, day=7, hour=11, pm2.5='80', DEWP=-6, TEMP=-4.0, PRES=1023.0, cbwd='cv', Iws=0.89, Is=0, Ir=0, new_column='New', demo feature='2010 2'),\n",
              " Row(No=901, year=2010, month=2, day=7, hour=12, pm2.5='100', DEWP=-6, TEMP=-3.0, PRES=1023.0, cbwd='cv', Iws=1.78, Is=0, Ir=0, new_column='New', demo feature='2010 2'),\n",
              " Row(No=902, year=2010, month=2, day=7, hour=13, pm2.5='105', DEWP=-7, TEMP=-3.0, PRES=1022.0, cbwd='cv', Iws=2.67, Is=0, Ir=0, new_column='New', demo feature='2010 2'),\n",
              " Row(No=903, year=2010, month=2, day=7, hour=14, pm2.5='118', DEWP=-7, TEMP=-3.0, PRES=1021.0, cbwd='cv', Iws=3.56, Is=0, Ir=0, new_column='New', demo feature='2010 2'),\n",
              " Row(No=904, year=2010, month=2, day=7, hour=15, pm2.5='125', DEWP=-6, TEMP=-2.0, PRES=1020.0, cbwd='SE', Iws=1.79, Is=0, Ir=0, new_column='New', demo feature='2010 2'),\n",
              " Row(No=905, year=2010, month=2, day=7, hour=16, pm2.5='141', DEWP=-6, TEMP=-2.0, PRES=1020.0, cbwd='SE', Iws=3.58, Is=0, Ir=0, new_column='New', demo feature='2010 2'),\n",
              " Row(No=906, year=2010, month=2, day=7, hour=17, pm2.5='152', DEWP=-6, TEMP=-3.0, PRES=1020.0, cbwd='SE', Iws=5.37, Is=0, Ir=0, new_column='New', demo feature='2010 2'),\n",
              " Row(No=907, year=2010, month=2, day=7, hour=18, pm2.5='164', DEWP=-7, TEMP=-4.0, PRES=1020.0, cbwd='cv', Iws=0.89, Is=0, Ir=0, new_column='New', demo feature='2010 2'),\n",
              " Row(No=908, year=2010, month=2, day=7, hour=19, pm2.5='147', DEWP=-7, TEMP=-5.0, PRES=1021.0, cbwd='SE', Iws=0.89, Is=0, Ir=0, new_column='New', demo feature='2010 2'),\n",
              " Row(No=909, year=2010, month=2, day=7, hour=20, pm2.5='162', DEWP=-7, TEMP=-5.0, PRES=1021.0, cbwd='SE', Iws=1.78, Is=0, Ir=0, new_column='New', demo feature='2010 2'),\n",
              " Row(No=910, year=2010, month=2, day=7, hour=21, pm2.5='157', DEWP=-6, TEMP=-4.0, PRES=1022.0, cbwd='SE', Iws=2.67, Is=0, Ir=0, new_column='New', demo feature='2010 2'),\n",
              " Row(No=911, year=2010, month=2, day=7, hour=22, pm2.5='156', DEWP=-5, TEMP=-3.0, PRES=1022.0, cbwd='cv', Iws=0.89, Is=0, Ir=0, new_column='New', demo feature='2010 2'),\n",
              " Row(No=912, year=2010, month=2, day=7, hour=23, pm2.5='160', DEWP=-7, TEMP=-5.0, PRES=1020.0, cbwd='NE', Iws=1.79, Is=0, Ir=0, new_column='New', demo feature='2010 2'),\n",
              " Row(No=913, year=2010, month=2, day=8, hour=0, pm2.5='178', DEWP=-6, TEMP=-4.0, PRES=1021.0, cbwd='cv', Iws=0.89, Is=0, Ir=0, new_column='New', demo feature='2010 2'),\n",
              " Row(No=914, year=2010, month=2, day=8, hour=1, pm2.5='187', DEWP=-6, TEMP=-5.0, PRES=1020.0, cbwd='cv', Iws=1.34, Is=0, Ir=0, new_column='New', demo feature='2010 2'),\n",
              " Row(No=915, year=2010, month=2, day=8, hour=2, pm2.5='181', DEWP=-7, TEMP=-6.0, PRES=1020.0, cbwd='SE', Iws=0.89, Is=0, Ir=0, new_column='New', demo feature='2010 2'),\n",
              " Row(No=916, year=2010, month=2, day=8, hour=3, pm2.5='185', DEWP=-8, TEMP=-6.0, PRES=1020.0, cbwd='NE', Iws=0.89, Is=0, Ir=0, new_column='New', demo feature='2010 2'),\n",
              " Row(No=917, year=2010, month=2, day=8, hour=4, pm2.5='197', DEWP=-6, TEMP=-5.0, PRES=1019.0, cbwd='cv', Iws=0.89, Is=0, Ir=0, new_column='New', demo feature='2010 2'),\n",
              " Row(No=918, year=2010, month=2, day=8, hour=5, pm2.5='180', DEWP=-6, TEMP=-4.0, PRES=1019.0, cbwd='NE', Iws=1.79, Is=0, Ir=0, new_column='New', demo feature='2010 2'),\n",
              " Row(No=919, year=2010, month=2, day=8, hour=6, pm2.5='172', DEWP=-6, TEMP=-4.0, PRES=1019.0, cbwd='NW', Iws=1.79, Is=0, Ir=0, new_column='New', demo feature='2010 2'),\n",
              " Row(No=920, year=2010, month=2, day=8, hour=7, pm2.5='166', DEWP=-6, TEMP=-4.0, PRES=1020.0, cbwd='NW', Iws=4.92, Is=0, Ir=0, new_column='New', demo feature='2010 2'),\n",
              " Row(No=921, year=2010, month=2, day=8, hour=8, pm2.5='136', DEWP=-6, TEMP=-4.0, PRES=1019.0, cbwd='NW', Iws=8.05, Is=0, Ir=0, new_column='New', demo feature='2010 2'),\n",
              " Row(No=922, year=2010, month=2, day=8, hour=9, pm2.5='133', DEWP=-5, TEMP=-3.0, PRES=1020.0, cbwd='NW', Iws=12.07, Is=0, Ir=0, new_column='New', demo feature='2010 2'),\n",
              " Row(No=923, year=2010, month=2, day=8, hour=10, pm2.5='140', DEWP=-5, TEMP=-2.0, PRES=1020.0, cbwd='NW', Iws=15.2, Is=0, Ir=0, new_column='New', demo feature='2010 2'),\n",
              " Row(No=924, year=2010, month=2, day=8, hour=11, pm2.5='159', DEWP=-5, TEMP=-1.0, PRES=1019.0, cbwd='cv', Iws=0.89, Is=0, Ir=0, new_column='New', demo feature='2010 2'),\n",
              " Row(No=925, year=2010, month=2, day=8, hour=12, pm2.5='169', DEWP=-5, TEMP=0.0, PRES=1019.0, cbwd='cv', Iws=2.68, Is=0, Ir=0, new_column='New', demo feature='2010 2'),\n",
              " Row(No=926, year=2010, month=2, day=8, hour=13, pm2.5='170', DEWP=-5, TEMP=2.0, PRES=1017.0, cbwd='NW', Iws=1.79, Is=0, Ir=0, new_column='New', demo feature='2010 2'),\n",
              " Row(No=927, year=2010, month=2, day=8, hour=14, pm2.5='184', DEWP=-5, TEMP=4.0, PRES=1017.0, cbwd='cv', Iws=0.89, Is=0, Ir=0, new_column='New', demo feature='2010 2'),\n",
              " Row(No=928, year=2010, month=2, day=8, hour=15, pm2.5='163', DEWP=-5, TEMP=5.0, PRES=1017.0, cbwd='SE', Iws=1.79, Is=0, Ir=0, new_column='New', demo feature='2010 2'),\n",
              " Row(No=929, year=2010, month=2, day=8, hour=16, pm2.5='140', DEWP=-4, TEMP=4.0, PRES=1017.0, cbwd='SE', Iws=4.92, Is=0, Ir=0, new_column='New', demo feature='2010 2'),\n",
              " Row(No=930, year=2010, month=2, day=8, hour=17, pm2.5='144', DEWP=-4, TEMP=3.0, PRES=1017.0, cbwd='SE', Iws=6.71, Is=0, Ir=0, new_column='New', demo feature='2010 2'),\n",
              " Row(No=931, year=2010, month=2, day=8, hour=18, pm2.5='166', DEWP=-5, TEMP=1.0, PRES=1019.0, cbwd='cv', Iws=0.89, Is=0, Ir=0, new_column='New', demo feature='2010 2'),\n",
              " Row(No=932, year=2010, month=2, day=8, hour=19, pm2.5='196', DEWP=-4, TEMP=0.0, PRES=1020.0, cbwd='SE', Iws=0.89, Is=0, Ir=0, new_column='New', demo feature='2010 2'),\n",
              " Row(No=933, year=2010, month=2, day=8, hour=20, pm2.5='227', DEWP=-4, TEMP=-1.0, PRES=1020.0, cbwd='cv', Iws=0.89, Is=0, Ir=0, new_column='New', demo feature='2010 2'),\n",
              " Row(No=934, year=2010, month=2, day=8, hour=21, pm2.5='210', DEWP=-5, TEMP=-2.0, PRES=1020.0, cbwd='cv', Iws=1.78, Is=0, Ir=0, new_column='New', demo feature='2010 2'),\n",
              " Row(No=935, year=2010, month=2, day=8, hour=22, pm2.5='233', DEWP=-4, TEMP=-2.0, PRES=1021.0, cbwd='cv', Iws=2.23, Is=0, Ir=0, new_column='New', demo feature='2010 2'),\n",
              " Row(No=936, year=2010, month=2, day=8, hour=23, pm2.5='258', DEWP=-4, TEMP=-3.0, PRES=1021.0, cbwd='cv', Iws=3.12, Is=0, Ir=0, new_column='New', demo feature='2010 2'),\n",
              " Row(No=937, year=2010, month=2, day=9, hour=0, pm2.5='247', DEWP=-5, TEMP=-3.0, PRES=1021.0, cbwd='NW', Iws=1.79, Is=0, Ir=0, new_column='New', demo feature='2010 2'),\n",
              " Row(No=938, year=2010, month=2, day=9, hour=1, pm2.5='230', DEWP=-5, TEMP=-3.0, PRES=1022.0, cbwd='SE', Iws=0.89, Is=0, Ir=0, new_column='New', demo feature='2010 2'),\n",
              " Row(No=939, year=2010, month=2, day=9, hour=2, pm2.5='273', DEWP=-6, TEMP=-4.0, PRES=1022.0, cbwd='cv', Iws=0.89, Is=0, Ir=0, new_column='New', demo feature='2010 2'),\n",
              " Row(No=940, year=2010, month=2, day=9, hour=3, pm2.5='253', DEWP=-5, TEMP=-3.0, PRES=1022.0, cbwd='NW', Iws=0.89, Is=0, Ir=0, new_column='New', demo feature='2010 2'),\n",
              " Row(No=941, year=2010, month=2, day=9, hour=4, pm2.5='254', DEWP=-6, TEMP=-5.0, PRES=1022.0, cbwd='NW', Iws=2.68, Is=0, Ir=0, new_column='New', demo feature='2010 2'),\n",
              " Row(No=942, year=2010, month=2, day=9, hour=5, pm2.5='241', DEWP=-6, TEMP=-5.0, PRES=1022.0, cbwd='NW', Iws=5.81, Is=0, Ir=0, new_column='New', demo feature='2010 2'),\n",
              " Row(No=943, year=2010, month=2, day=9, hour=6, pm2.5='229', DEWP=-5, TEMP=-4.0, PRES=1023.0, cbwd='cv', Iws=0.89, Is=0, Ir=0, new_column='New', demo feature='2010 2'),\n",
              " Row(No=944, year=2010, month=2, day=9, hour=7, pm2.5='199', DEWP=-5, TEMP=-4.0, PRES=1023.0, cbwd='cv', Iws=1.34, Is=0, Ir=0, new_column='New', demo feature='2010 2'),\n",
              " Row(No=945, year=2010, month=2, day=9, hour=8, pm2.5='193', DEWP=-4, TEMP=-3.0, PRES=1024.0, cbwd='cv', Iws=2.23, Is=0, Ir=0, new_column='New', demo feature='2010 2'),\n",
              " Row(No=946, year=2010, month=2, day=9, hour=9, pm2.5='207', DEWP=-9, TEMP=1.0, PRES=1025.0, cbwd='NW', Iws=4.02, Is=0, Ir=0, new_column='New', demo feature='2010 2'),\n",
              " Row(No=947, year=2010, month=2, day=9, hour=10, pm2.5='176', DEWP=-15, TEMP=2.0, PRES=1025.0, cbwd='NW', Iws=8.04, Is=0, Ir=0, new_column='New', demo feature='2010 2'),\n",
              " Row(No=948, year=2010, month=2, day=9, hour=11, pm2.5='91', DEWP=-17, TEMP=3.0, PRES=1025.0, cbwd='NE', Iws=3.13, Is=0, Ir=0, new_column='New', demo feature='2010 2'),\n",
              " Row(No=949, year=2010, month=2, day=9, hour=12, pm2.5='58', DEWP=-18, TEMP=4.0, PRES=1025.0, cbwd='NE', Iws=4.92, Is=0, Ir=0, new_column='New', demo feature='2010 2'),\n",
              " Row(No=950, year=2010, month=2, day=9, hour=13, pm2.5='39', DEWP=-16, TEMP=4.0, PRES=1024.0, cbwd='cv', Iws=0.89, Is=0, Ir=0, new_column='New', demo feature='2010 2'),\n",
              " Row(No=951, year=2010, month=2, day=9, hour=14, pm2.5='50', DEWP=-14, TEMP=5.0, PRES=1023.0, cbwd='cv', Iws=1.78, Is=0, Ir=0, new_column='New', demo feature='2010 2'),\n",
              " Row(No=952, year=2010, month=2, day=9, hour=15, pm2.5='51', DEWP=-13, TEMP=4.0, PRES=1023.0, cbwd='SE', Iws=1.79, Is=0, Ir=0, new_column='New', demo feature='2010 2'),\n",
              " Row(No=953, year=2010, month=2, day=9, hour=16, pm2.5='49', DEWP=-12, TEMP=4.0, PRES=1023.0, cbwd='cv', Iws=0.89, Is=0, Ir=0, new_column='New', demo feature='2010 2'),\n",
              " Row(No=954, year=2010, month=2, day=9, hour=17, pm2.5='54', DEWP=-11, TEMP=3.0, PRES=1024.0, cbwd='SE', Iws=1.79, Is=0, Ir=0, new_column='New', demo feature='2010 2'),\n",
              " Row(No=955, year=2010, month=2, day=9, hour=18, pm2.5='153', DEWP=-10, TEMP=2.0, PRES=1024.0, cbwd='SE', Iws=3.58, Is=0, Ir=0, new_column='New', demo feature='2010 2'),\n",
              " Row(No=956, year=2010, month=2, day=9, hour=19, pm2.5='181', DEWP=-7, TEMP=2.0, PRES=1025.0, cbwd='SE', Iws=6.71, Is=0, Ir=0, new_column='New', demo feature='2010 2'),\n",
              " Row(No=957, year=2010, month=2, day=9, hour=20, pm2.5='181', DEWP=-6, TEMP=0.0, PRES=1025.0, cbwd='cv', Iws=0.89, Is=0, Ir=0, new_column='New', demo feature='2010 2'),\n",
              " Row(No=958, year=2010, month=2, day=9, hour=21, pm2.5='182', DEWP=-8, TEMP=-1.0, PRES=1026.0, cbwd='NE', Iws=3.13, Is=0, Ir=0, new_column='New', demo feature='2010 2'),\n",
              " Row(No=959, year=2010, month=2, day=9, hour=22, pm2.5='156', DEWP=-15, TEMP=1.0, PRES=1026.0, cbwd='NE', Iws=8.05, Is=0, Ir=0, new_column='New', demo feature='2010 2'),\n",
              " Row(No=960, year=2010, month=2, day=9, hour=23, pm2.5='27', DEWP=-18, TEMP=1.0, PRES=1027.0, cbwd='NE', Iws=12.07, Is=0, Ir=0, new_column='New', demo feature='2010 2'),\n",
              " Row(No=961, year=2010, month=2, day=10, hour=0, pm2.5='16', DEWP=-20, TEMP=0.0, PRES=1028.0, cbwd='NE', Iws=16.09, Is=0, Ir=0, new_column='New', demo feature='2010 2'),\n",
              " Row(No=962, year=2010, month=2, day=10, hour=1, pm2.5='22', DEWP=-19, TEMP=0.0, PRES=1028.0, cbwd='NE', Iws=21.01, Is=0, Ir=0, new_column='New', demo feature='2010 2'),\n",
              " Row(No=963, year=2010, month=2, day=10, hour=2, pm2.5='21', DEWP=-21, TEMP=-1.0, PRES=1028.0, cbwd='NE', Iws=25.03, Is=0, Ir=0, new_column='New', demo feature='2010 2'),\n",
              " Row(No=964, year=2010, month=2, day=10, hour=3, pm2.5='6', DEWP=-21, TEMP=-1.0, PRES=1029.0, cbwd='NE', Iws=29.95, Is=0, Ir=0, new_column='New', demo feature='2010 2'),\n",
              " Row(No=965, year=2010, month=2, day=10, hour=4, pm2.5='8', DEWP=-22, TEMP=-2.0, PRES=1029.0, cbwd='NE', Iws=34.87, Is=0, Ir=0, new_column='New', demo feature='2010 2'),\n",
              " Row(No=966, year=2010, month=2, day=10, hour=5, pm2.5='8', DEWP=-22, TEMP=-2.0, PRES=1030.0, cbwd='NE', Iws=39.79, Is=0, Ir=0, new_column='New', demo feature='2010 2'),\n",
              " Row(No=967, year=2010, month=2, day=10, hour=6, pm2.5='8', DEWP=-22, TEMP=-3.0, PRES=1030.0, cbwd='NE', Iws=45.6, Is=0, Ir=0, new_column='New', demo feature='2010 2'),\n",
              " Row(No=968, year=2010, month=2, day=10, hour=7, pm2.5='10', DEWP=-22, TEMP=-3.0, PRES=1031.0, cbwd='NE', Iws=51.41, Is=0, Ir=0, new_column='New', demo feature='2010 2'),\n",
              " Row(No=969, year=2010, month=2, day=10, hour=8, pm2.5='9', DEWP=-23, TEMP=-4.0, PRES=1032.0, cbwd='NE', Iws=58.56, Is=0, Ir=0, new_column='New', demo feature='2010 2'),\n",
              " Row(No=970, year=2010, month=2, day=10, hour=9, pm2.5='20', DEWP=-23, TEMP=-4.0, PRES=1033.0, cbwd='NE', Iws=65.71, Is=0, Ir=0, new_column='New', demo feature='2010 2'),\n",
              " Row(No=971, year=2010, month=2, day=10, hour=10, pm2.5='14', DEWP=-22, TEMP=-3.0, PRES=1033.0, cbwd='NE', Iws=71.52, Is=0, Ir=0, new_column='New', demo feature='2010 2'),\n",
              " Row(No=972, year=2010, month=2, day=10, hour=11, pm2.5='16', DEWP=-24, TEMP=-2.0, PRES=1032.0, cbwd='NE', Iws=77.33, Is=0, Ir=0, new_column='New', demo feature='2010 2'),\n",
              " Row(No=973, year=2010, month=2, day=10, hour=12, pm2.5='14', DEWP=-24, TEMP=-1.0, PRES=1032.0, cbwd='NE', Iws=83.14, Is=0, Ir=0, new_column='New', demo feature='2010 2'),\n",
              " Row(No=974, year=2010, month=2, day=10, hour=13, pm2.5='10', DEWP=-26, TEMP=0.0, PRES=1031.0, cbwd='NW', Iws=5.81, Is=0, Ir=0, new_column='New', demo feature='2010 2'),\n",
              " Row(No=975, year=2010, month=2, day=10, hour=14, pm2.5='7', DEWP=-26, TEMP=0.0, PRES=1030.0, cbwd='NE', Iws=5.81, Is=0, Ir=0, new_column='New', demo feature='2010 2'),\n",
              " Row(No=976, year=2010, month=2, day=10, hour=15, pm2.5='8', DEWP=-22, TEMP=0.0, PRES=1030.0, cbwd='NE', Iws=11.62, Is=0, Ir=0, new_column='New', demo feature='2010 2'),\n",
              " Row(No=977, year=2010, month=2, day=10, hour=16, pm2.5='12', DEWP=-22, TEMP=0.0, PRES=1030.0, cbwd='NE', Iws=17.43, Is=0, Ir=0, new_column='New', demo feature='2010 2'),\n",
              " Row(No=978, year=2010, month=2, day=10, hour=17, pm2.5='15', DEWP=-23, TEMP=-1.0, PRES=1030.0, cbwd='NE', Iws=24.58, Is=0, Ir=0, new_column='New', demo feature='2010 2'),\n",
              " Row(No=979, year=2010, month=2, day=10, hour=18, pm2.5='8', DEWP=-23, TEMP=-1.0, PRES=1031.0, cbwd='NE', Iws=31.73, Is=0, Ir=0, new_column='New', demo feature='2010 2'),\n",
              " Row(No=980, year=2010, month=2, day=10, hour=19, pm2.5='11', DEWP=-22, TEMP=-1.0, PRES=1032.0, cbwd='NE', Iws=38.88, Is=0, Ir=0, new_column='New', demo feature='2010 2'),\n",
              " Row(No=981, year=2010, month=2, day=10, hour=20, pm2.5='18', DEWP=-22, TEMP=-2.0, PRES=1032.0, cbwd='NE', Iws=44.69, Is=0, Ir=0, new_column='New', demo feature='2010 2'),\n",
              " Row(No=982, year=2010, month=2, day=10, hour=21, pm2.5='16', DEWP=-21, TEMP=-2.0, PRES=1033.0, cbwd='NE', Iws=50.5, Is=0, Ir=0, new_column='New', demo feature='2010 2'),\n",
              " Row(No=983, year=2010, month=2, day=10, hour=22, pm2.5='11', DEWP=-22, TEMP=-2.0, PRES=1034.0, cbwd='NE', Iws=56.31, Is=0, Ir=0, new_column='New', demo feature='2010 2'),\n",
              " Row(No=984, year=2010, month=2, day=10, hour=23, pm2.5='10', DEWP=-21, TEMP=-3.0, PRES=1035.0, cbwd='NE', Iws=61.23, Is=0, Ir=0, new_column='New', demo feature='2010 2'),\n",
              " Row(No=985, year=2010, month=2, day=11, hour=0, pm2.5='11', DEWP=-22, TEMP=-3.0, PRES=1035.0, cbwd='NE', Iws=67.04, Is=0, Ir=0, new_column='New', demo feature='2010 2'),\n",
              " Row(No=986, year=2010, month=2, day=11, hour=1, pm2.5='10', DEWP=-22, TEMP=-3.0, PRES=1035.0, cbwd='NE', Iws=72.85, Is=0, Ir=0, new_column='New', demo feature='2010 2'),\n",
              " Row(No=987, year=2010, month=2, day=11, hour=2, pm2.5='10', DEWP=-22, TEMP=-3.0, PRES=1035.0, cbwd='NE', Iws=77.77, Is=0, Ir=0, new_column='New', demo feature='2010 2'),\n",
              " Row(No=988, year=2010, month=2, day=11, hour=3, pm2.5='12', DEWP=-22, TEMP=-4.0, PRES=1035.0, cbwd='NE', Iws=82.69, Is=0, Ir=0, new_column='New', demo feature='2010 2'),\n",
              " Row(No=989, year=2010, month=2, day=11, hour=4, pm2.5='12', DEWP=-23, TEMP=-4.0, PRES=1034.0, cbwd='NE', Iws=89.84, Is=0, Ir=0, new_column='New', demo feature='2010 2'),\n",
              " Row(No=990, year=2010, month=2, day=11, hour=5, pm2.5='10', DEWP=-23, TEMP=-5.0, PRES=1034.0, cbwd='NE', Iws=95.65, Is=0, Ir=0, new_column='New', demo feature='2010 2'),\n",
              " Row(No=991, year=2010, month=2, day=11, hour=6, pm2.5='10', DEWP=-23, TEMP=-5.0, PRES=1035.0, cbwd='NW', Iws=5.81, Is=0, Ir=0, new_column='New', demo feature='2010 2'),\n",
              " Row(No=992, year=2010, month=2, day=11, hour=7, pm2.5='9', DEWP=-22, TEMP=-6.0, PRES=1036.0, cbwd='NW', Iws=9.83, Is=0, Ir=0, new_column='New', demo feature='2010 2'),\n",
              " Row(No=993, year=2010, month=2, day=11, hour=8, pm2.5='9', DEWP=-22, TEMP=-5.0, PRES=1037.0, cbwd='NW', Iws=14.75, Is=0, Ir=0, new_column='New', demo feature='2010 2'),\n",
              " Row(No=994, year=2010, month=2, day=11, hour=9, pm2.5='11', DEWP=-22, TEMP=-4.0, PRES=1037.0, cbwd='NW', Iws=19.67, Is=0, Ir=0, new_column='New', demo feature='2010 2'),\n",
              " Row(No=995, year=2010, month=2, day=11, hour=10, pm2.5='12', DEWP=-22, TEMP=-4.0, PRES=1037.0, cbwd='NW', Iws=25.48, Is=0, Ir=0, new_column='New', demo feature='2010 2'),\n",
              " Row(No=996, year=2010, month=2, day=11, hour=11, pm2.5='12', DEWP=-22, TEMP=-3.0, PRES=1037.0, cbwd='NE', Iws=5.81, Is=0, Ir=0, new_column='New', demo feature='2010 2'),\n",
              " Row(No=997, year=2010, month=2, day=11, hour=12, pm2.5='12', DEWP=-22, TEMP=-3.0, PRES=1036.0, cbwd='NE', Iws=11.62, Is=0, Ir=0, new_column='New', demo feature='2010 2'),\n",
              " Row(No=998, year=2010, month=2, day=11, hour=13, pm2.5='21', DEWP=-24, TEMP=-2.0, PRES=1036.0, cbwd='NW', Iws=4.92, Is=0, Ir=0, new_column='New', demo feature='2010 2'),\n",
              " Row(No=999, year=2010, month=2, day=11, hour=14, pm2.5='18', DEWP=-23, TEMP=-2.0, PRES=1035.0, cbwd='NE', Iws=4.02, Is=0, Ir=0, new_column='New', demo feature='2010 2'),\n",
              " Row(No=1000, year=2010, month=2, day=11, hour=15, pm2.5='13', DEWP=-23, TEMP=-2.0, PRES=1035.0, cbwd='NE', Iws=7.15, Is=0, Ir=0, new_column='New', demo feature='2010 2'),\n",
              " ...]"
            ]
          },
          "metadata": {},
          "execution_count": 54
        }
      ]
    },
    {
      "cell_type": "code",
      "source": [
        "df.groupBy('DEWP').count().show()"
      ],
      "metadata": {
        "colab": {
          "base_uri": "https://localhost:8080/"
        },
        "id": "Lyo1bGXr0K5O",
        "outputId": "3e7111c8-29e9-44ed-c24c-771dee9093ea"
      },
      "execution_count": 55,
      "outputs": [
        {
          "output_type": "stream",
          "name": "stdout",
          "text": [
            "+----+-----+\n",
            "|DEWP|count|\n",
            "+----+-----+\n",
            "| -35|    4|\n",
            "| -13|  743|\n",
            "| -33|   14|\n",
            "| -20|  678|\n",
            "| -21|  624|\n",
            "| -17|  752|\n",
            "|  -1|  856|\n",
            "|  28|   11|\n",
            "|  26|  110|\n",
            "|  27|   36|\n",
            "| -10|  864|\n",
            "| -11|  896|\n",
            "|  12| 1076|\n",
            "| -27|  115|\n",
            "|  22| 1145|\n",
            "| -15|  789|\n",
            "| -37|    3|\n",
            "|   1|  699|\n",
            "| -39|    1|\n",
            "|  13| 1053|\n",
            "+----+-----+\n",
            "only showing top 20 rows\n",
            "\n"
          ]
        }
      ]
    },
    {
      "cell_type": "code",
      "source": [
        "df.show()"
      ],
      "metadata": {
        "colab": {
          "base_uri": "https://localhost:8080/"
        },
        "id": "KoAjgORX0hZ8",
        "outputId": "bdba84c8-c479-441a-b975-c3d9442bf501"
      },
      "execution_count": 56,
      "outputs": [
        {
          "output_type": "stream",
          "name": "stdout",
          "text": [
            "+---+----+-----+---+----+-----+----+-----+------+----+-----+---+---+----------+------------+\n",
            "| No|year|month|day|hour|pm2.5|DEWP| TEMP|  PRES|cbwd|  Iws| Is| Ir|new_column|demo feature|\n",
            "+---+----+-----+---+----+-----+----+-----+------+----+-----+---+---+----------+------------+\n",
            "|  1|2010|    1|  1|   0|   NA| -21|-11.0|1021.0|  NW| 1.79|  0|  0|       New|      2010 1|\n",
            "|  2|2010|    1|  1|   1|   NA| -21|-12.0|1020.0|  NW| 4.92|  0|  0|       New|      2010 1|\n",
            "|  3|2010|    1|  1|   2|   NA| -21|-11.0|1019.0|  NW| 6.71|  0|  0|       New|      2010 1|\n",
            "|  4|2010|    1|  1|   3|   NA| -21|-14.0|1019.0|  NW| 9.84|  0|  0|       New|      2010 1|\n",
            "|  5|2010|    1|  1|   4|   NA| -20|-12.0|1018.0|  NW|12.97|  0|  0|       New|      2010 1|\n",
            "|  6|2010|    1|  1|   5|   NA| -19|-10.0|1017.0|  NW| 16.1|  0|  0|       New|      2010 1|\n",
            "|  7|2010|    1|  1|   6|   NA| -19| -9.0|1017.0|  NW|19.23|  0|  0|       New|      2010 1|\n",
            "|  8|2010|    1|  1|   7|   NA| -19| -9.0|1017.0|  NW|21.02|  0|  0|       New|      2010 1|\n",
            "|  9|2010|    1|  1|   8|   NA| -19| -9.0|1017.0|  NW|24.15|  0|  0|       New|      2010 1|\n",
            "| 10|2010|    1|  1|   9|   NA| -20| -8.0|1017.0|  NW|27.28|  0|  0|       New|      2010 1|\n",
            "| 11|2010|    1|  1|  10|   NA| -19| -7.0|1017.0|  NW| 31.3|  0|  0|       New|      2010 1|\n",
            "| 12|2010|    1|  1|  11|   NA| -18| -5.0|1017.0|  NW|34.43|  0|  0|       New|      2010 1|\n",
            "| 13|2010|    1|  1|  12|   NA| -19| -5.0|1015.0|  NW|37.56|  0|  0|       New|      2010 1|\n",
            "| 14|2010|    1|  1|  13|   NA| -18| -3.0|1015.0|  NW|40.69|  0|  0|       New|      2010 1|\n",
            "| 15|2010|    1|  1|  14|   NA| -18| -2.0|1014.0|  NW|43.82|  0|  0|       New|      2010 1|\n",
            "| 16|2010|    1|  1|  15|   NA| -18| -1.0|1014.0|  cv| 0.89|  0|  0|       New|      2010 1|\n",
            "| 17|2010|    1|  1|  16|   NA| -19| -2.0|1015.0|  NW| 1.79|  0|  0|       New|      2010 1|\n",
            "| 18|2010|    1|  1|  17|   NA| -18| -3.0|1015.0|  NW| 2.68|  0|  0|       New|      2010 1|\n",
            "| 19|2010|    1|  1|  18|   NA| -18| -5.0|1016.0|  NE| 1.79|  0|  0|       New|      2010 1|\n",
            "| 20|2010|    1|  1|  19|   NA| -17| -4.0|1017.0|  NW| 1.79|  0|  0|       New|      2010 1|\n",
            "+---+----+-----+---+----+-----+----+-----+------+----+-----+---+---+----------+------------+\n",
            "only showing top 20 rows\n",
            "\n"
          ]
        }
      ]
    },
    {
      "cell_type": "code",
      "source": [
        "df.groupBy('DEWP','TEMP').count().show()"
      ],
      "metadata": {
        "colab": {
          "base_uri": "https://localhost:8080/"
        },
        "id": "M41bJwQ70qRy",
        "outputId": "d7532123-8944-4255-c980-12da6c33c823"
      },
      "execution_count": 57,
      "outputs": [
        {
          "output_type": "stream",
          "name": "stdout",
          "text": [
            "+----+-----+-----+\n",
            "|DEWP| TEMP|count|\n",
            "+----+-----+-----+\n",
            "| -34|  3.0|    1|\n",
            "| -24|-11.0|   15|\n",
            "| -23|-15.0|    2|\n",
            "| -18|-15.0|    8|\n",
            "|  13| 19.0|   49|\n",
            "| -23|-17.0|    1|\n",
            "| -11|  1.0|   30|\n",
            "|   3| 11.0|   28|\n",
            "|  11| 30.0|   23|\n",
            "|  -9|  2.0|   42|\n",
            "|  -8| 10.0|   21|\n",
            "|   0|  9.0|   25|\n",
            "|  -3| 19.0|   35|\n",
            "|  -2| 18.0|   22|\n",
            "|  10| 25.0|   23|\n",
            "| -11| 24.0|    2|\n",
            "|  17| 19.0|  174|\n",
            "|  -4| 23.0|   10|\n",
            "|  14| 22.0|   50|\n",
            "|  21| 29.0|   55|\n",
            "+----+-----+-----+\n",
            "only showing top 20 rows\n",
            "\n"
          ]
        }
      ]
    },
    {
      "cell_type": "code",
      "source": [
        "df.drop('new_column').show()"
      ],
      "metadata": {
        "colab": {
          "base_uri": "https://localhost:8080/"
        },
        "id": "NTMtQUFw1Dcv",
        "outputId": "ce59e733-528d-4128-a731-2bb82eda415b"
      },
      "execution_count": 59,
      "outputs": [
        {
          "output_type": "stream",
          "name": "stdout",
          "text": [
            "+---+----+-----+---+----+-----+----+-----+------+----+-----+---+---+------------+\n",
            "| No|year|month|day|hour|pm2.5|DEWP| TEMP|  PRES|cbwd|  Iws| Is| Ir|demo feature|\n",
            "+---+----+-----+---+----+-----+----+-----+------+----+-----+---+---+------------+\n",
            "|  1|2010|    1|  1|   0|   NA| -21|-11.0|1021.0|  NW| 1.79|  0|  0|      2010 1|\n",
            "|  2|2010|    1|  1|   1|   NA| -21|-12.0|1020.0|  NW| 4.92|  0|  0|      2010 1|\n",
            "|  3|2010|    1|  1|   2|   NA| -21|-11.0|1019.0|  NW| 6.71|  0|  0|      2010 1|\n",
            "|  4|2010|    1|  1|   3|   NA| -21|-14.0|1019.0|  NW| 9.84|  0|  0|      2010 1|\n",
            "|  5|2010|    1|  1|   4|   NA| -20|-12.0|1018.0|  NW|12.97|  0|  0|      2010 1|\n",
            "|  6|2010|    1|  1|   5|   NA| -19|-10.0|1017.0|  NW| 16.1|  0|  0|      2010 1|\n",
            "|  7|2010|    1|  1|   6|   NA| -19| -9.0|1017.0|  NW|19.23|  0|  0|      2010 1|\n",
            "|  8|2010|    1|  1|   7|   NA| -19| -9.0|1017.0|  NW|21.02|  0|  0|      2010 1|\n",
            "|  9|2010|    1|  1|   8|   NA| -19| -9.0|1017.0|  NW|24.15|  0|  0|      2010 1|\n",
            "| 10|2010|    1|  1|   9|   NA| -20| -8.0|1017.0|  NW|27.28|  0|  0|      2010 1|\n",
            "| 11|2010|    1|  1|  10|   NA| -19| -7.0|1017.0|  NW| 31.3|  0|  0|      2010 1|\n",
            "| 12|2010|    1|  1|  11|   NA| -18| -5.0|1017.0|  NW|34.43|  0|  0|      2010 1|\n",
            "| 13|2010|    1|  1|  12|   NA| -19| -5.0|1015.0|  NW|37.56|  0|  0|      2010 1|\n",
            "| 14|2010|    1|  1|  13|   NA| -18| -3.0|1015.0|  NW|40.69|  0|  0|      2010 1|\n",
            "| 15|2010|    1|  1|  14|   NA| -18| -2.0|1014.0|  NW|43.82|  0|  0|      2010 1|\n",
            "| 16|2010|    1|  1|  15|   NA| -18| -1.0|1014.0|  cv| 0.89|  0|  0|      2010 1|\n",
            "| 17|2010|    1|  1|  16|   NA| -19| -2.0|1015.0|  NW| 1.79|  0|  0|      2010 1|\n",
            "| 18|2010|    1|  1|  17|   NA| -18| -3.0|1015.0|  NW| 2.68|  0|  0|      2010 1|\n",
            "| 19|2010|    1|  1|  18|   NA| -18| -5.0|1016.0|  NE| 1.79|  0|  0|      2010 1|\n",
            "| 20|2010|    1|  1|  19|   NA| -17| -4.0|1017.0|  NW| 1.79|  0|  0|      2010 1|\n",
            "+---+----+-----+---+----+-----+----+-----+------+----+-----+---+---+------------+\n",
            "only showing top 20 rows\n",
            "\n"
          ]
        }
      ]
    },
    {
      "cell_type": "code",
      "source": [
        "total_count=df.count()\n",
        "print(\"Total Count: \" + str(total_count))\n",
        "\n",
        "dewp = df.filter((col('DEWP')==-21) & (col('TEMP') <= 4)).count()\n",
        "print(\"DEWP Count: \" + str(dewp))\n",
        "\n",
        "df.filter((col('DEWP')==-21) & (col('TEMP') <= 4 )).show()"
      ],
      "metadata": {
        "colab": {
          "base_uri": "https://localhost:8080/"
        },
        "id": "iyjRwE6G1PV9",
        "outputId": "6d374501-cf1a-4cc5-ae37-c91f5dc42082"
      },
      "execution_count": 61,
      "outputs": [
        {
          "output_type": "stream",
          "name": "stdout",
          "text": [
            "Total Count: 43824\n",
            "DEWP Count: 546\n",
            "+---+----+-----+---+----+-----+----+-----+------+----+------+---+---+----------+------------+\n",
            "| No|year|month|day|hour|pm2.5|DEWP| TEMP|  PRES|cbwd|   Iws| Is| Ir|new_column|demo feature|\n",
            "+---+----+-----+---+----+-----+----+-----+------+----+------+---+---+----------+------------+\n",
            "|  1|2010|    1|  1|   0|   NA| -21|-11.0|1021.0|  NW|  1.79|  0|  0|       New|      2010 1|\n",
            "|  2|2010|    1|  1|   1|   NA| -21|-12.0|1020.0|  NW|  4.92|  0|  0|       New|      2010 1|\n",
            "|  3|2010|    1|  1|   2|   NA| -21|-11.0|1019.0|  NW|  6.71|  0|  0|       New|      2010 1|\n",
            "|  4|2010|    1|  1|   3|   NA| -21|-14.0|1019.0|  NW|  9.84|  0|  0|       New|      2010 1|\n",
            "| 79|2010|    1|  4|   6|   20| -21|-12.0|1027.0|  NW| 64.81|  0|  0|       New|      2010 1|\n",
            "| 80|2010|    1|  4|   7|   29| -21|-13.0|1027.0|  NW| 73.75|  0|  0|       New|      2010 1|\n",
            "| 85|2010|    1|  4|  12|   29| -21|-11.0|1030.0|  NW|117.55|  0|  0|       New|      2010 1|\n",
            "| 87|2010|    1|  4|  14|   28| -21|-10.0|1030.0|  NW|136.32|  0|  0|       New|      2010 1|\n",
            "| 88|2010|    1|  4|  15|   29| -21| -9.0|1030.0|  NW|145.26|  0|  0|       New|      2010 1|\n",
            "| 89|2010|    1|  4|  16|   30| -21| -9.0|1031.0|  NW|152.41|  0|  0|       New|      2010 1|\n",
            "| 92|2010|    1|  4|  19|   26| -21|-12.0|1033.0|  NW|171.18|  0|  0|       New|      2010 1|\n",
            "|138|2010|    1|  6|  17|   56| -21| -9.0|1033.0|  NW|  3.58|  0|  0|       New|      2010 1|\n",
            "|142|2010|    1|  6|  21|  132| -21|-14.0|1034.0|  NW|  3.58|  0|  0|       New|      2010 1|\n",
            "|144|2010|    1|  6|  23|  131| -21|-16.0|1035.0|  NW|  7.16|  0|  0|       New|      2010 1|\n",
            "|145|2010|    1|  7|   0|  127| -21|-16.0|1035.0|  NW|  8.95|  0|  0|       New|      2010 1|\n",
            "|146|2010|    1|  7|   1|  130| -21|-16.0|1035.0|  cv|  0.45|  0|  0|       New|      2010 1|\n",
            "|157|2010|    1|  7|  12|   42| -21| -9.0|1035.0|  NW| 19.22|  0|  0|       New|      2010 1|\n",
            "|158|2010|    1|  7|  13|   55| -21| -8.0|1034.0|  NW| 21.01|  0|  0|       New|      2010 1|\n",
            "|167|2010|    1|  7|  22|  198| -21|-14.0|1032.0|  cv|  1.34|  0|  0|       New|      2010 1|\n",
            "|168|2010|    1|  7|  23|  190| -21|-16.0|1032.0|  cv|  2.23|  0|  0|       New|      2010 1|\n",
            "+---+----+-----+---+----+-----+----+-----+------+----+------+---+---+----------+------------+\n",
            "only showing top 20 rows\n",
            "\n"
          ]
        }
      ]
    },
    {
      "cell_type": "code",
      "source": [
        "df.select('DEWP').distinct().show()"
      ],
      "metadata": {
        "colab": {
          "base_uri": "https://localhost:8080/"
        },
        "id": "Dc7UuiVC2NiZ",
        "outputId": "5816e952-a081-4e6d-fee5-55f23c31d03d"
      },
      "execution_count": 62,
      "outputs": [
        {
          "output_type": "stream",
          "name": "stdout",
          "text": [
            "+----+\n",
            "|DEWP|\n",
            "+----+\n",
            "| -35|\n",
            "| -13|\n",
            "| -33|\n",
            "| -20|\n",
            "| -21|\n",
            "| -17|\n",
            "|  -1|\n",
            "|  28|\n",
            "|  26|\n",
            "|  27|\n",
            "| -10|\n",
            "| -11|\n",
            "|  12|\n",
            "| -27|\n",
            "|  22|\n",
            "| -15|\n",
            "| -37|\n",
            "|   1|\n",
            "| -39|\n",
            "|  13|\n",
            "+----+\n",
            "only showing top 20 rows\n",
            "\n"
          ]
        }
      ]
    },
    {
      "cell_type": "code",
      "source": [
        "df.select('DEWP','TEMP').distinct().show()"
      ],
      "metadata": {
        "colab": {
          "base_uri": "https://localhost:8080/"
        },
        "id": "eTg7Srtg2Vft",
        "outputId": "27e80a0f-3921-4d1d-caa6-832acf5a8263"
      },
      "execution_count": 67,
      "outputs": [
        {
          "output_type": "stream",
          "name": "stdout",
          "text": [
            "+----+-----+\n",
            "|DEWP| TEMP|\n",
            "+----+-----+\n",
            "| -24|-11.0|\n",
            "| -23|-15.0|\n",
            "| -18|-15.0|\n",
            "|  13| 19.0|\n",
            "| -23|-17.0|\n",
            "| -34|  3.0|\n",
            "| -11|  1.0|\n",
            "|   3| 11.0|\n",
            "|  11| 30.0|\n",
            "|  -9|  2.0|\n",
            "|  -8| 10.0|\n",
            "|   0|  9.0|\n",
            "|  -3| 19.0|\n",
            "|  -2| 18.0|\n",
            "|  10| 25.0|\n",
            "| -11| 24.0|\n",
            "|  17| 19.0|\n",
            "|  -4| 23.0|\n",
            "|  14| 22.0|\n",
            "|  21| 29.0|\n",
            "+----+-----+\n",
            "only showing top 20 rows\n",
            "\n"
          ]
        }
      ]
    },
    {
      "cell_type": "code",
      "source": [
        "df.select('DEWP','TEMP').distinct().count()"
      ],
      "metadata": {
        "colab": {
          "base_uri": "https://localhost:8080/"
        },
        "id": "JaRxZG9u3L1t",
        "outputId": "4a05c062-b241-4829-bb4e-af9ead715015"
      },
      "execution_count": 68,
      "outputs": [
        {
          "output_type": "execute_result",
          "data": {
            "text/plain": [
              "1741"
            ]
          },
          "metadata": {},
          "execution_count": 68
        }
      ]
    }
  ]
}