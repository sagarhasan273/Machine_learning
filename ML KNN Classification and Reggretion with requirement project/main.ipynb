{
 "cells": [
  {
   "cell_type": "code",
   "execution_count": 2,
   "metadata": {},
   "outputs": [],
   "source": [
    "import random \n",
    "import numpy as np \n",
    "import pandas as pd\n",
    "import math \n",
    "import operator\n",
    "from scipy.spatial import distance\n",
    "\n",
    "from sklearn.datasets import load_iris\n",
    "\n",
    "iris = load_iris()\n"
   ]
  },
  {
   "cell_type": "code",
   "execution_count": 2,
   "metadata": {},
   "outputs": [],
   "source": [
    "iris.columns = ['sepal_length', 'sepal_width', 'petal_length', 'petal_width']\n"
   ]
  },
  {
   "cell_type": "code",
   "execution_count": 110,
   "metadata": {},
   "outputs": [],
   "source": [
    "Train_set = []\n",
    "Val_set = []\n",
    "Test_set = []\n",
    "\n",
    "for S in iris.data:\n",
    "    r = random.random()\t\n",
    "    if r >= 0 and r <= 0.7:\n",
    "        Train_set.append(S)\n",
    "    elif r > 0.7 and r <= 0.85:\n",
    "        Val_set.append(S)\n",
    "    else:\n",
    "        Test_set.append(S) \n"
   ]
  },
  {
   "cell_type": "code",
   "execution_count": 111,
   "metadata": {},
   "outputs": [
    {
     "name": "stdout",
     "output_type": "stream",
     "text": [
      "100 18 32\n"
     ]
    }
   ],
   "source": [
    "print(len(Train_set), len(Val_set), len(Test_set))"
   ]
  },
  {
   "cell_type": "code",
   "execution_count": 112,
   "metadata": {},
   "outputs": [],
   "source": [
    "def FindIndex(data_val):\n",
    "    count = 0\n",
    "    for row in iris.data:\n",
    "        if list(row) == list(data_val):\n",
    "            return count\n",
    "        count += 1\n",
    "    return None"
   ]
  },
  {
   "cell_type": "markdown",
   "metadata": {},
   "source": [
    "# KNN Classification Model"
   ]
  },
  {
   "cell_type": "markdown",
   "metadata": {},
   "source": [
    "## To find Train case accuracy"
   ]
  },
  {
   "cell_type": "code",
   "execution_count": 115,
   "metadata": {},
   "outputs": [],
   "source": [
    "def KNN_Classification_Accuracy(K):\n",
    "    correctValidation = 0\n",
    "\n",
    "    Train = []\n",
    "    neig_k = []\n",
    "    for V in Val_set:\n",
    "        for T in Train_set:\n",
    "            L = np.sqrt(np.sum(np.square(V - T)))\n",
    "            Train.append([L, T])\n",
    "\n",
    "        Train.sort(key=lambda x: x[0])\n",
    "\n",
    "        neig_k = []\n",
    "        for i in range(K):\n",
    "            neig_k.append(Train[i][1])\n",
    "\n",
    "        sampleV = iris.target[FindIndex(V)]\n",
    "\n",
    "        species = []\n",
    "        for t in neig_k:\n",
    "            i = FindIndex(t)\n",
    "            species.append(iris.target[i])\n",
    "        corr = max(set(species), key = species.count)\n",
    "        \n",
    "        if corr == sampleV:\n",
    "            correctValidation += 1\n",
    "\n",
    "    validation_accuracy = (correctValidation)/(len(Val_set)) * 100\n",
    "    return validation_accuracy\n",
    "    \n",
    "    "
   ]
  },
  {
   "cell_type": "code",
   "execution_count": 116,
   "metadata": {},
   "outputs": [
    {
     "name": "stdout",
     "output_type": "stream",
     "text": [
      "1 61.111111111111114\n",
      "3 38.88888888888889\n",
      "5 38.88888888888889\n",
      "10 38.88888888888889\n",
      "15 38.88888888888889\n"
     ]
    }
   ],
   "source": [
    "bestK, temp = 0, 0\n",
    "for k in [1, 3, 5, 10, 15]:\n",
    "    validation_accuracy = KNN_Classification_Accuracy(k)\n",
    "    print(k , validation_accuracy)\n",
    "    if validation_accuracy > temp:\n",
    "        temp = validation_accuracy\n",
    "        bestK = k"
   ]
  },
  {
   "cell_type": "markdown",
   "metadata": {},
   "source": [
    "## To find test case accuracy"
   ]
  },
  {
   "cell_type": "code",
   "execution_count": 10,
   "metadata": {},
   "outputs": [
    {
     "data": {
      "text/plain": [
       "1"
      ]
     },
     "execution_count": 10,
     "metadata": {},
     "output_type": "execute_result"
    }
   ],
   "source": [
    "bestK"
   ]
  },
  {
   "cell_type": "code",
   "execution_count": 11,
   "metadata": {},
   "outputs": [],
   "source": [
    "correctValidation = 0\n",
    "Test = []\n",
    "neig_k = []\n",
    "for V in Val_set:\n",
    "    for T in Test_set:\n",
    "        L = np.sqrt(np.sum(np.square(V - T)))\n",
    "        Test.append([L, T])\n",
    "\n",
    "    Test.sort(key=lambda x: x[0])\n",
    "\n",
    "    neig_k = []\n",
    "    for i in range(bestK):\n",
    "        neig_k.append(Test[i][1])\n",
    "\n",
    "    sampleV = iris.target[FindIndex(V)]\n",
    "\n",
    "    species = []\n",
    "    for t in neig_k:\n",
    "        i = FindIndex(t)\n",
    "        species.append(iris.target[i])\n",
    "    corr = max(set(species), key = species.count)\n",
    "        \n",
    "    if corr == sampleV:\n",
    "        correctValidation += 1\n",
    "\n",
    "test_validation_accuracy = (correctValidation)/(len(Test_set)) * 100\n"
   ]
  },
  {
   "cell_type": "code",
   "execution_count": 12,
   "metadata": {},
   "outputs": [
    {
     "data": {
      "text/plain": [
       "70.58823529411765"
      ]
     },
     "execution_count": 12,
     "metadata": {},
     "output_type": "execute_result"
    }
   ],
   "source": [
    "test_validation_accuracy"
   ]
  },
  {
   "cell_type": "markdown",
   "metadata": {},
   "source": [
    "# KNN Reggration Model"
   ]
  },
  {
   "cell_type": "code",
   "execution_count": 3,
   "metadata": {},
   "outputs": [],
   "source": [
    "import csv\n",
    "\n",
    "with open('diabetes.csv') as file_obj:\n",
    "    dataset = csv.reader(file_obj)\n",
    "    Train_set = []\n",
    "    Val_set = []\n",
    "    Test_set = []\n",
    "\n",
    "    \n",
    "\n",
    "    for S in dataset:\n",
    "        r = random.random()\n",
    "        if r >= 0 and r <= 0.7:\n",
    "            Train_set.append((S[:-1], S[-1]))\n",
    "        elif r > 0.7 and r <= 0.85:\n",
    "            Val_set.append((S[:-1], S[-1]))\n",
    "        else:\n",
    "            Test_set.append((S[:-1], S[-1])) \n",
    "    \n",
    "    "
   ]
  },
  {
   "cell_type": "code",
   "execution_count": 4,
   "metadata": {},
   "outputs": [],
   "source": [
    "def Average(l):\n",
    "    avg = sum(l) / len(l) \n",
    "    return avg"
   ]
  },
  {
   "cell_type": "code",
   "execution_count": 10,
   "metadata": {},
   "outputs": [],
   "source": [
    "def KNN_Regression_Accuracy(K, error):\n",
    "\n",
    "    Train = []\n",
    "    neig_k = []\n",
    "\n",
    "    for V in Val_set:\n",
    "        for T in Train_set:\n",
    "            p1 = np.array([float(x) for x in V[0]])\n",
    "            p2 = np.array([float(x) for x in T[0]])\n",
    "            L = np.linalg.norm(p1 - p2)\n",
    "\n",
    "            Train.append([L, float(T[1])])\n",
    "\n",
    "        Train.sort(key=lambda x: x[0])\n",
    "\n",
    "        neig_k = []\n",
    "        for i in range(k):\n",
    "            neig_k.append(Train[i][1])\n",
    "\n",
    "        average_output = Average(neig_k)\n",
    "\n",
    "        error = error + ((float(V[1]) - average_output) ** 2)\n",
    "\n",
    "    mean_squared_error = error/len(Val_set)\n",
    "\n",
    "    return mean_squared_error\n",
    "    "
   ]
  },
  {
   "cell_type": "code",
   "execution_count": 11,
   "metadata": {},
   "outputs": [
    {
     "name": "stdout",
     "output_type": "stream",
     "text": [
      "1 8501.630136986301\n",
      "3 6562.812785388127\n",
      "5 6613.9210958904105\n",
      "10 6773.822876712329\n",
      "15 6759.675433789952\n"
     ]
    }
   ],
   "source": [
    "bestK, temp = 0, float('inf')\n",
    "for k in [1, 3, 5, 10, 15]:\n",
    "    validation_accuracy = KNN_Regression_Accuracy(k, 0)\n",
    "    print(k , validation_accuracy)\n",
    "    if validation_accuracy < temp:\n",
    "        temp = validation_accuracy\n",
    "        bestK = k"
   ]
  },
  {
   "cell_type": "markdown",
   "metadata": {},
   "source": [
    "## To find test case accuracy"
   ]
  },
  {
   "cell_type": "code",
   "execution_count": 12,
   "metadata": {},
   "outputs": [
    {
     "data": {
      "text/plain": [
       "3"
      ]
     },
     "execution_count": 12,
     "metadata": {},
     "output_type": "execute_result"
    }
   ],
   "source": [
    "bestK"
   ]
  },
  {
   "cell_type": "code",
   "execution_count": 13,
   "metadata": {},
   "outputs": [],
   "source": [
    "Train = []\n",
    "neig_k = []\n",
    "error = 0\n",
    "for V in Val_set:\n",
    "    for T in Test_set:\n",
    "        p1 = np.array([float(x) for x in V[0]])\n",
    "        p2 = np.array([float(x) for x in T[0]])\n",
    "        L = np.linalg.norm(p1 - p2)\n",
    "        Train.append([L, float(T[1])])\n",
    "\n",
    "    Train.sort(key=lambda x: x[0])\n",
    "\n",
    "    neig_k = []\n",
    "    for i in range(bestK):\n",
    "        neig_k.append(Train[i][1])\n",
    "\n",
    "    average_output = Average(neig_k)\n",
    "    error = error + ((float(V[1]) - average_output) ** 2)\n",
    "\n",
    "mean_squared_error = error/len(Val_set)\n"
   ]
  },
  {
   "cell_type": "code",
   "execution_count": 14,
   "metadata": {},
   "outputs": [
    {
     "data": {
      "text/plain": [
       "12828.051750380519"
      ]
     },
     "execution_count": 14,
     "metadata": {},
     "output_type": "execute_result"
    }
   ],
   "source": [
    "mean_squared_error"
   ]
  }
 ],
 "metadata": {
  "kernelspec": {
   "display_name": "Python 3.9.12 ('ml_env')",
   "language": "python",
   "name": "python3"
  },
  "language_info": {
   "codemirror_mode": {
    "name": "ipython",
    "version": 3
   },
   "file_extension": ".py",
   "mimetype": "text/x-python",
   "name": "python",
   "nbconvert_exporter": "python",
   "pygments_lexer": "ipython3",
   "version": "3.9.12"
  },
  "orig_nbformat": 4,
  "vscode": {
   "interpreter": {
    "hash": "36940eacb29b82012f4e9e225501ad3a1037e479000bf96a952dc115e082195e"
   }
  }
 },
 "nbformat": 4,
 "nbformat_minor": 2
}
