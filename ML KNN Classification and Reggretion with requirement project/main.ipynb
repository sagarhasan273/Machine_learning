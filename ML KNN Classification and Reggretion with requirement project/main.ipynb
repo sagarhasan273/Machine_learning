{
 "cells": [
  {
   "cell_type": "code",
   "execution_count": 94,
   "metadata": {},
   "outputs": [],
   "source": [
    "import random \n",
    "import numpy as np \n",
    "import pandas as pd\n",
    "import math \n",
    "import operator\n",
    "\n",
    "from sklearn.datasets import load_iris\n",
    "\n",
    "iris = load_iris()\n"
   ]
  },
  {
   "cell_type": "code",
   "execution_count": 83,
   "metadata": {},
   "outputs": [],
   "source": [
    "iris.columns = ['sepal_length', 'sepal_width', 'petal_length', 'petal_width']\n"
   ]
  },
  {
   "cell_type": "code",
   "execution_count": 84,
   "metadata": {},
   "outputs": [],
   "source": [
    "Train_set = []\n",
    "Val_set = []\n",
    "Test_set = []\n",
    "\n",
    "for S in iris.data:\n",
    "    r = random.random()\t\n",
    "    if r >= 0 and r <= 0.7:\n",
    "        Train_set.append(S)\n",
    "    elif r > 0.7 and r <= 0.85:\n",
    "        Val_set.append(S)\n",
    "    else:\n",
    "        Test_set.append(S) \n"
   ]
  },
  {
   "cell_type": "code",
   "execution_count": 85,
   "metadata": {},
   "outputs": [
    {
     "name": "stdout",
     "output_type": "stream",
     "text": [
      "100 21 29\n"
     ]
    }
   ],
   "source": [
    "print(len(Train_set), len(Val_set), len(Test_set))"
   ]
  },
  {
   "cell_type": "code",
   "execution_count": 86,
   "metadata": {},
   "outputs": [],
   "source": [
    "def FindIndex(data_val):\n",
    "    count = 0\n",
    "    for row in iris.data:\n",
    "        if list(row) == list(data_val):\n",
    "            return count\n",
    "        count += 1\n",
    "    return None"
   ]
  },
  {
   "cell_type": "markdown",
   "metadata": {},
   "source": [
    "# KNN Classification Model"
   ]
  },
  {
   "cell_type": "markdown",
   "metadata": {},
   "source": [
    "## To find Train case accuracy"
   ]
  },
  {
   "cell_type": "code",
   "execution_count": 88,
   "metadata": {},
   "outputs": [],
   "source": [
    "def KNN_Classification_Accuracy(K):\n",
    "    correctValidation = 0\n",
    "\n",
    "    Train = []\n",
    "    neig_k = []\n",
    "    for V in Val_set:\n",
    "        for T in Train_set:\n",
    "            L = np.sqrt(np.sum(np.square(V - T)))\n",
    "            Train.append([L, T])\n",
    "\n",
    "        Train.sort(key=lambda x: x[0])\n",
    "\n",
    "        neig_k = []\n",
    "        for i in range(K):\n",
    "            neig_k.append(Train[i][1])\n",
    "\n",
    "        sampleV = iris.target[FindIndex(V)]\n",
    "\n",
    "        species = []\n",
    "        for t in neig_k:\n",
    "            i = FindIndex(t)\n",
    "            species.append(iris.target[i])\n",
    "        corr = max(set(species), key = species.count)\n",
    "        \n",
    "        if corr == sampleV:\n",
    "            correctValidation += 1\n",
    "\n",
    "    validation_accuracy = (correctValidation)/(len(Val_set)) * 100\n",
    "    return validation_accuracy\n",
    "    \n",
    "    "
   ]
  },
  {
   "cell_type": "code",
   "execution_count": 89,
   "metadata": {},
   "outputs": [
    {
     "name": "stdout",
     "output_type": "stream",
     "text": [
      "1 47.61904761904761\n",
      "3 47.61904761904761\n",
      "5 47.61904761904761\n",
      "10 47.61904761904761\n",
      "15 47.61904761904761\n"
     ]
    }
   ],
   "source": [
    "bestK, temp = 0, 0\n",
    "for k in [1, 3, 5, 10, 15]:\n",
    "    validation_accuracy = KNN_Classification_Accuracy(k)\n",
    "    print(k , validation_accuracy)\n",
    "    if validation_accuracy > temp:\n",
    "        temp = validation_accuracy\n",
    "        bestK = k"
   ]
  },
  {
   "cell_type": "markdown",
   "metadata": {},
   "source": [
    "## To find test case accuracy"
   ]
  },
  {
   "cell_type": "code",
   "execution_count": 90,
   "metadata": {},
   "outputs": [
    {
     "data": {
      "text/plain": [
       "1"
      ]
     },
     "execution_count": 90,
     "metadata": {},
     "output_type": "execute_result"
    }
   ],
   "source": [
    "bestK"
   ]
  },
  {
   "cell_type": "code",
   "execution_count": 92,
   "metadata": {},
   "outputs": [],
   "source": [
    "correctValidation = 0\n",
    "Test = []\n",
    "neig_k = []\n",
    "for V in Val_set:\n",
    "    for T in Test_set:\n",
    "        L = np.sqrt(np.sum(np.square(V - T)))\n",
    "        Test.append([L, T])\n",
    "\n",
    "    Test.sort(key=lambda x: x[0])\n",
    "\n",
    "    neig_k = []\n",
    "    for i in range(bestK):\n",
    "        neig_k.append(Test[i][1])\n",
    "\n",
    "    sampleV = iris.target[FindIndex(V)]\n",
    "\n",
    "    species = []\n",
    "    for t in neig_k:\n",
    "        i = FindIndex(t)\n",
    "        species.append(iris.target[i])\n",
    "    corr = max(set(species), key = species.count)\n",
    "        \n",
    "    if corr == sampleV:\n",
    "        correctValidation += 1\n",
    "\n",
    "test_validation_accuracy = (correctValidation)/(len(Test_set)) * 100\n"
   ]
  },
  {
   "cell_type": "code",
   "execution_count": 93,
   "metadata": {},
   "outputs": [
    {
     "data": {
      "text/plain": [
       "34.48275862068966"
      ]
     },
     "execution_count": 93,
     "metadata": {},
     "output_type": "execute_result"
    }
   ],
   "source": [
    "test_validation_accuracy"
   ]
  },
  {
   "cell_type": "markdown",
   "metadata": {},
   "source": [
    "# KNN Reggration Model"
   ]
  },
  {
   "cell_type": "code",
   "execution_count": 95,
   "metadata": {},
   "outputs": [],
   "source": [
    "dataset = pd.read_csv(\"diabetes.csv\")"
   ]
  },
  {
   "cell_type": "code",
   "execution_count": null,
   "metadata": {},
   "outputs": [],
   "source": [
    "Train_set = []\n",
    "Val_set = []\n",
    "Test_set = []\n",
    "\n",
    "for S in iris.data:\n",
    "    r = random.random()\t\n",
    "    if r >= 0 and r <= 0.7:\n",
    "        Train_set.append(S)\n",
    "    elif r > 0.7 and r <= 0.85:\n",
    "        Val_set.append(S)\n",
    "    else:\n",
    "        Test_set.append(S) "
   ]
  },
  {
   "cell_type": "code",
   "execution_count": null,
   "metadata": {},
   "outputs": [],
   "source": []
  }
 ],
 "metadata": {
  "kernelspec": {
   "display_name": "Python 3.9.12 ('ml_env')",
   "language": "python",
   "name": "python3"
  },
  "language_info": {
   "codemirror_mode": {
    "name": "ipython",
    "version": 3
   },
   "file_extension": ".py",
   "mimetype": "text/x-python",
   "name": "python",
   "nbconvert_exporter": "python",
   "pygments_lexer": "ipython3",
   "version": "3.9.12"
  },
  "orig_nbformat": 4,
  "vscode": {
   "interpreter": {
    "hash": "36940eacb29b82012f4e9e225501ad3a1037e479000bf96a952dc115e082195e"
   }
  }
 },
 "nbformat": 4,
 "nbformat_minor": 2
}
