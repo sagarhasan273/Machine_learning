{
 "cells": [
  {
   "cell_type": "code",
   "execution_count": 19,
   "metadata": {},
   "outputs": [],
   "source": [
    "import random\n",
    "from sklearn.datasets import load_iris\n",
    "\n",
    "iris = load_iris()\n"
   ]
  },
  {
   "cell_type": "code",
   "execution_count": 20,
   "metadata": {},
   "outputs": [],
   "source": [
    "iris.columns = ['sepal_length', 'sepal_width', 'petal_length', 'petal_width']\n"
   ]
  },
  {
   "cell_type": "code",
   "execution_count": 27,
   "metadata": {},
   "outputs": [],
   "source": [
    "Train_set = []\n",
    "Val_set = []\n",
    "Test_set = []\n",
    "\n",
    "for S in iris.data:\n",
    "    r = random.random()\t\n",
    "    if r >= 0 and r <= 0.7:\n",
    "        Train_set.append(S)\n",
    "    elif r > 0.7 and r <= 0.85:\n",
    "        Val_set.append(S)\n",
    "    else:\n",
    "        Test_set.append(S) "
   ]
  }
 ],
 "metadata": {
  "kernelspec": {
   "display_name": "Python 3.9.12 ('ml_env')",
   "language": "python",
   "name": "python3"
  },
  "language_info": {
   "codemirror_mode": {
    "name": "ipython",
    "version": 3
   },
   "file_extension": ".py",
   "mimetype": "text/x-python",
   "name": "python",
   "nbconvert_exporter": "python",
   "pygments_lexer": "ipython3",
   "version": "3.9.12"
  },
  "orig_nbformat": 4,
  "vscode": {
   "interpreter": {
    "hash": "36940eacb29b82012f4e9e225501ad3a1037e479000bf96a952dc115e082195e"
   }
  }
 },
 "nbformat": 4,
 "nbformat_minor": 2
}
