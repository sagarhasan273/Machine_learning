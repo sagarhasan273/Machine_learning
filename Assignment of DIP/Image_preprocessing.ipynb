{
 "cells": [
  {
   "attachments": {},
   "cell_type": "markdown",
   "metadata": {},
   "source": [
    "Importing the libraries..."
   ]
  },
  {
   "cell_type": "code",
   "execution_count": 2,
   "metadata": {},
   "outputs": [],
   "source": [
    "import cv2\n",
    "import numpy as np"
   ]
  },
  {
   "cell_type": "code",
   "execution_count": 3,
   "metadata": {},
   "outputs": [],
   "source": [
    "\n",
    "\n",
    "# Load the image\n",
    "img = cv2.imread('myphoto.jpg')\n",
    "# Create a mask with the same size as the image\n",
    "mask = np.zeros(img.shape[:2], np.uint8)\n",
    "# Define the rectangle coordinates for the initial background estimation\n",
    "rect = (50, 50, img.shape[1] - 50, img.shape[0] - 50)\n",
    "# Initialize the background and foreground models\n",
    "bgdModel = np.zeros((1, 65), np.float64)\n",
    "fgdModel = np.zeros((1, 65), np.float64)\n",
    "# Apply GrabCut algorithm to segment the image\n",
    "cv2.grabCut(img, mask, rect, bgdModel, fgdModel, 5, cv2.GC_INIT_WITH_RECT)\n",
    "# Create a mask where 0 and 2 are considered background and the rest as \n",
    "\n",
    "segmented_mask = np.where((mask == 0) | (mask == 2), 0, 1).astype('uint8')\n",
    "# Apply the mask to the original image\n",
    "segmented_img = img * segmented_mask[:, :, np.newaxis]\n",
    "# Resize the segmented image\n",
    "resized_segmented = cv2.resize(segmented_img, (0, 0), fx=0.2, fy=0.2)\n",
    "# Display the original and segmented images\n",
    "cv2.imshow('Original Image', cv2.resize(img, (0, 0), fx=0.2, fy=0.2))\n",
    "cv2.imshow('Segmented Image', resized_segmented)\n",
    "cv2.waitKey(0)\n",
    "cv2.destroyAllWindows()\n"
   ]
  }
 ],
 "metadata": {
  "interpreter": {
   "hash": "19226736e761941898e623e16afd92b3ec62b2d5afed45917011209f8288ccea"
  },
  "kernelspec": {
   "display_name": "Python 3.9.4 64-bit ('ml_env': venv)",
   "language": "python",
   "name": "python3"
  },
  "language_info": {
   "codemirror_mode": {
    "name": "ipython",
    "version": 3
   },
   "file_extension": ".py",
   "mimetype": "text/x-python",
   "name": "python",
   "nbconvert_exporter": "python",
   "pygments_lexer": "ipython3",
   "version": "3.9.12"
  },
  "orig_nbformat": 4
 },
 "nbformat": 4,
 "nbformat_minor": 2
}
